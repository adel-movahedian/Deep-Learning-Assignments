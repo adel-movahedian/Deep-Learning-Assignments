{
  "nbformat": 4,
  "nbformat_minor": 0,
  "metadata": {
    "colab": {
      "provenance": [],
      "gpuType": "T4"
    },
    "kernelspec": {
      "name": "python3",
      "display_name": "Python 3"
    },
    "language_info": {
      "name": "python"
    },
    "accelerator": "GPU"
  },
  "cells": [
    {
      "cell_type": "code",
      "source": [
        "# Feel free to import any other libraries and modules.\n",
        "import numpy as np\n",
        "import matplotlib.pyplot as plt\n",
        "import torch\n",
        "from torchvision import datasets, transforms\n",
        "import torch.nn.functional as F\n",
        "from torch.utils.data import TensorDataset, DataLoader\n",
        "from torch import nn"
      ],
      "metadata": {
        "id": "i7I7O1kv0S21"
      },
      "execution_count": 6,
      "outputs": []
    },
    {
      "cell_type": "markdown",
      "source": [
        "# Part One: Optimization Algorithms\n",
        "## 1. Gradient Descent\n",
        "The Gradient Descent (GD) algorithm finds the minimum of a given\n",
        "function by taking small steps along the function's gradient:\n",
        "\n",
        ">$\\Theta \\leftarrow \\Theta_0$\n",
        "\n",
        ">**while** stop condition not met **do**\n",
        "\n",
        ">$~~~~$$\\Theta \\leftarrow \\Theta - \\alpha \\nabla_\\Theta f(\\Theta)$\n",
        "\n",
        ">**end while**\n",
        "\n",
        "where $f$ is the function to minimize, $\\nabla_\\Theta f(\\Theta)$\n",
        "denotes $f$'s gradient at $\\Theta$ and $\\alpha$ is the learning rate.\n",
        "\n",
        "**Task1:** Implement the GD algorithm as a function:\n",
        "\n",
        "  \\begin{equation}\n",
        "      \\Theta_{opt} = \\text{GD}(f, \\Theta_0, \\alpha, \\rho)\n",
        "  \\end{equation}\n",
        "where $f$ is a function returning the cost and its gradient with respect to parameter vector $\\Theta$, $\\Theta_0$ is the initial value, and $\\alpha$\n",
        "is the learning rate. You can assume that $\\alpha$. remains constant during the optimization. $\\rho$ is stop condition. \\\\\n",
        "Then, use the GD algorithm to find the optimum of the [Rosenbrock function](https://en.wikipedia.org/wiki/Rosenbrock_function) (Consider $a=1, b=100$).\n",
        " \\\\\n",
        "Also, plot the values found by GD at subsequent iterations.\n",
        "\n",
        "## 2. Newton's Method\n",
        "Newton's method is an iterative optimization algorithm used to find the minimum of a function.\n",
        "The basic update step in Newton's method is given by:\n",
        "\n",
        "\\begin{equation}\n",
        "\\Theta = \\Theta - H^{-1} \\cdot \\nabla f(\\Theta)\n",
        "\\end{equation}\n",
        "\n",
        "\n",
        "Where  $ H $ is the Hessian matrix of the function at $ \\Theta $, and $ H^{-1} $ is the inverse of the Hessian matrix, used to adjust the step size and direction more accurately than just using the gradient alone (as done in gradient descent).\n",
        "\n",
        "#### Line Search\n",
        "Sometimes, Newton's method may take too large of a step, which can lead to divergence. To prevent this, a simple **line search** is used. This reduces the step size $ \\alpha $ if the function value doesn't improve after the step.\n",
        "\n",
        "Steps:\n",
        "1. Compute the gradient and Hessian matrix at the current point.\n",
        "2. Calculate the step direction by multiplying the inverse of the Hessian with the gradient.\n",
        "3. Update the point by subtracting the step from the current point.\n",
        "4. If the function value doesn't improve, reduce the step size $ \\alpha $.\n",
        "5. Repeat until the gradient becomes sufficiently small (close to zero), indicating convergence.\n",
        "\n",
        "\n",
        "\n",
        "**Task2:** Implement Newton's method and compare it with the gradient descent. You will also need to implement a line search alogithm, e.g. (https://en.wikipedia.org/wiki/Backtracking_line_search) and make sure that the Newton's direction is indeed one along which the function is minimized.\n"
      ],
      "metadata": {
        "id": "CeXRppkryQBV"
      }
    },
    {
      "cell_type": "code",
      "source": [
        "def rosenbrock(x):\n",
        "    \"\"\"Returns the value and gradient of Rosenbrock's function at x: 2d vector\"\"\"\n",
        "    x0,x1 = x\n",
        "    val = (1 - x0)**2 + 100 * (x1 - x0**2)**2\n",
        "    dv_dx0 = 2 * (x0 - 1) - 4 * 100 * x0 * (x1 - x0**2)\n",
        "    dv_dx1 = 2 * 100 * (x1 - x0**2)\n",
        "    grad = np.array([dv_dx0, dv_dx1])\n",
        "\n",
        "    return val, grad\n",
        "\n",
        "def rosenbrock_hessian(x):\n",
        "    \"\"\"Returns the value, gradient and hessian of Rosenbrock's function at x: 2d vector\"\"\"\n",
        "    x0, x1 = x[0], x[1]\n",
        "    val, grad = rosenbrock(x)\n",
        "\n",
        "    # Hessian matrix components\n",
        "    d2v_dx0x0 = 2 - 4 * 100 * (x1 - 3 * x0**2)\n",
        "    d2v_dx0x1 = -4 * 100 * x0\n",
        "    d2v_dx1x0 = -4 * 100 * x0\n",
        "    d2v_dx1x1 = 2 * 100\n",
        "\n",
        "    # Hessian matrix\n",
        "    hessian = np.array([[d2v_dx0x0, d2v_dx0x1],\n",
        "                [d2v_dx1x0, d2v_dx1x1]])\n",
        "\n",
        "    return val, grad, hessian\n",
        "\n",
        "\n",
        "def GD(f, theta0, alpha, stop_tolerance=1e-10, max_steps=1000000):\n",
        "    \"\"\"Runs gradient descent algorithm on f.\n",
        "\n",
        "    Args:\n",
        "        f: function that when evaluated on a Theta of same dtype and shape as Theta0\n",
        "            returns a tuple (value, dv_dtheta) with dValuedTheta of the same shape\n",
        "            as Theta\n",
        "        theta0: starting point\n",
        "        alpha: step length\n",
        "        stop_tolerance: stop iterations when improvement is below this threshold\n",
        "        max_steps: maximum number of steps\n",
        "    Returns:\n",
        "        tuple:\n",
        "        - theta: optimum theta found by the algorithm\n",
        "        - history: list of length num_steps containing tuples (theta, (val, dv_dtheta: np.array))\n",
        "\n",
        "    \"\"\"\n",
        "    history = []\n",
        "\n",
        "    theta = theta0\n",
        "\n",
        "    step = 0\n",
        "    prev_val, grad = f(theta)\n",
        "    history.append((theta, (prev_val, grad)))\n",
        "    while step < max_steps:\n",
        "        theta = theta - alpha * grad\n",
        "\n",
        "        # Evaluate function at new theta\n",
        "        val, grad = f(theta)\n",
        "\n",
        "        # Record history\n",
        "        history.append((theta, (val, grad)))\n",
        "\n",
        "        # Check for convergence\n",
        "        if abs(prev_val - val) < stop_tolerance:\n",
        "            break\n",
        "\n",
        "        # Update previous value and increment step counter\n",
        "        prev_val = val\n",
        "        step += 1\n",
        "\n",
        "    history.append([theta, f(theta)])\n",
        "    return theta, history"
      ],
      "metadata": {
        "id": "DIsMJPFs-kLd"
      },
      "execution_count": 7,
      "outputs": []
    },
    {
      "cell_type": "code",
      "source": [
        "# Find the optimum of rosenbrock function\n",
        "\n",
        "X0 = [0.,2.]\n",
        "Xopt, Xhist = GD(rosenbrock, X0, alpha=1e-3, stop_tolerance=1e-10, max_steps=1e6)\n",
        "\n",
        "print (\"Found optimum at %s in %d steps (true minimum is at [1,1])\" % (Xopt, len(Xhist)))\n",
        "\n",
        "# Plot how the value changes over iterations\n",
        "#TODO\n",
        "def plot_convergence(history):\n",
        "    \"\"\"Plots the convergence of the Rosenbrock function value over iterations.\n",
        "\n",
        "    Args:\n",
        "        history (list): List of tuples (theta, (val, grad)) recorded during optimization.\n",
        "    \"\"\"\n",
        "    # Extract function values from history\n",
        "    values = [entry[1][0] for entry in history]  # Extracts function values\n",
        "\n",
        "    # Plot function values over iterations\n",
        "    plt.figure(figsize=(10, 6))\n",
        "    plt.plot(values, label='Rosenbrock function value')\n",
        "    plt.yscale('log')  # Log scale for better visibility of convergence\n",
        "    plt.xlabel('Iteration')\n",
        "    plt.ylabel('Function value (log scale)')\n",
        "    plt.title('Convergence of Rosenbrock Function Value')\n",
        "    plt.legend()\n",
        "    plt.grid(True)\n",
        "    plt.show()\n",
        "\n",
        "# Plot the convergence using the history from GD\n",
        "plot_convergence(Xhist)"
      ],
      "metadata": {
        "id": "yyb5unZNaSFq",
        "colab": {
          "base_uri": "https://localhost:8080/",
          "height": 582
        },
        "outputId": "9b80f68e-9260-4852-c898-7defbbb97b78"
      },
      "execution_count": 8,
      "outputs": [
        {
          "output_type": "stream",
          "name": "stdout",
          "text": [
            "Found optimum at [0.99964674 0.99929219] in 16855 steps (true minimum is at [1,1])\n"
          ]
        },
        {
          "output_type": "display_data",
          "data": {
            "text/plain": [
              "<Figure size 1000x600 with 1 Axes>"
            ],
            "image/png": "[encoded data removed]"
          },
          "metadata": {}
        }
      ]
    },
    {
      "cell_type": "code",
      "source": [
        "import numpy as np\n",
        "\n",
        "# Newton's Method\n",
        "def Newton(f, theta0, alpha=1, stop_tolerance=1e-10, max_steps=1000000):\n",
        "    \"\"\"Performs Newton's optimization method with a simple line search.\n",
        "\n",
        "    Args:\n",
        "        f: function that when evaluated on a Theta of same dtype and shape as Theta0\n",
        "            returns a tuple (value, gradient, hessian), where gradient and Hessian\n",
        "            have the same shape as Theta.\n",
        "        theta0: starting point.\n",
        "        alpha: step length for backtracking line search (default is 1).\n",
        "        stop_tolerance: stop iterations when the norm of the gradient is below this threshold.\n",
        "        max_steps: maximum number of iterations.\n",
        "    Returns:\n",
        "        tuple:\n",
        "        - theta: optimal Theta after convergence or maximum steps.\n",
        "        - history: list of tuples (theta, value, gradient) containing the optimization path.\n",
        "    \"\"\"\n",
        "    theta = np.array(theta0, dtype=float)\n",
        "    history = []\n",
        "\n",
        "    for step in range(int(max_steps)):\n",
        "        # Evaluate the function to get the value, gradient, and Hessian at the current theta\n",
        "        value, grad, hessian = f(theta)\n",
        "\n",
        "        # Record the current state in history\n",
        "        history.append((theta.copy(), value, grad.copy()))\n",
        "\n",
        "        # Check for convergence: if the norm of the gradient is below the stop_tolerance, exit\n",
        "        if np.linalg.norm(grad) < stop_tolerance:\n",
        "            break\n",
        "        try:\n",
        "            hessian_inv = np.linalg.inv(hessian)\n",
        "        except np.linalg.LinAlgError:\n",
        "            break\n",
        "\n",
        "        newton_step = -hessian_inv @ grad\n",
        "\n",
        "        theta = theta + alpha * newton_step\n",
        "\n",
        "    return theta, history\n",
        "\n",
        "X0 = [0., 2.]  # Initial guess\n",
        "Xopt, Xhist = Newton(rosenbrock_hessian, X0)\n",
        "\n",
        "print(\"Found optimum at %s (true minimum is at [1,1])\" % Xopt)\n"
      ],
      "metadata": {
        "id": "JQ1Bf6sNMT_B",
        "colab": {
          "base_uri": "https://localhost:8080/"
        },
        "outputId": "a60566b3-4645-4b7f-e71f-6c38fb9df6c4"
      },
      "execution_count": 9,
      "outputs": [
        {
          "output_type": "stream",
          "name": "stdout",
          "text": [
            "Found optimum at [1. 1.] (true minimum is at [1,1])\n"
          ]
        }
      ]
    },
    {
      "cell_type": "markdown",
      "source": [
        "# Part two: MLP for MNIST Classification\n",
        "In this part, we are going to use `PyTorch`. If you want to become more familiar with it, check this resource: https://www.learnpytorch.io/\n",
        "\n",
        "#### In this homework, you need to\n",
        "- implement SGD optimizer (`./optimizer.py`)\n",
        "- implement forward and backward for FCLayer (`layers.py`)\n",
        "- implement forward and backward for SigmoidLayer (`layers.py`)\n",
        "- implement forward and backward for ReLULayer (`layers.py`)\n",
        "- implement forward and backward for DropoutLayer (`layers.py`)\n",
        "- implement train and test process (`solver.py`)"
      ],
      "metadata": {
        "id": "wNXtvq8u-JSo"
      }
    },
    {
      "cell_type": "code",
      "source": [
        "from layers import FCLayer, SigmoidLayer, ReLULayer\n",
        "from solver import train, test\n",
        "from optimizer import SGD"
      ],
      "metadata": {
        "id": "zWtm2k5Ir-XQ"
      },
      "execution_count": 10,
      "outputs": []
    },
    {
      "cell_type": "code",
      "source": [
        "seed = 42\n",
        "torch.manual_seed(seed)\n",
        "np.random.seed(seed)\n",
        "device = \"cuda\" if torch.cuda.is_available() else \"cpu\"\n",
        "device"
      ],
      "metadata": {
        "id": "NRwL2rM0O92Z",
        "colab": {
          "base_uri": "https://localhost:8080/",
          "height": 36
        },
        "outputId": "50496e8f-daae-4868-9a2b-aa1195413d17"
      },
      "execution_count": 11,
      "outputs": [
        {
          "output_type": "execute_result",
          "data": {
            "text/plain": [
              "'cuda'"
            ],
            "application/vnd.google.colaboratory.intrinsic+json": {
              "type": "string"
            }
          },
          "metadata": {},
          "execution_count": 11
        }
      ]
    },
    {
      "cell_type": "code",
      "source": [
        "# Load MNIST dataset\n",
        "\n",
        "# Converts PIL image to tensor and scales to [0, 1] and flatten it\n",
        "transform = transforms.Compose([\n",
        "    transforms.ToTensor(),\n",
        "    transforms.Lambda(lambda x: x.view(-1)),\n",
        "])\n",
        "\n",
        "# Load MNIST dataset with the defined transform\n",
        "train_dataset = datasets.MNIST(root='./data', train=True, download=True, transform=transform)\n",
        "test_dataset = datasets.MNIST(root='./data', train=False, download=True, transform=transform)\n",
        "\n",
        "# One-hot encoding for labels\n",
        "def decode_label(label, num_classes=10):\n",
        "    return torch.nn.functional.one_hot(torch.tensor(label), num_classes=num_classes).float()\n",
        "\n",
        "# Preprocess labels and combine with transformed images\n",
        "y_train = [decode_label(label) for _, label in train_dataset]\n",
        "y_test = [decode_label(label) for _, label in test_dataset]\n",
        "\n",
        "# Convert the data into tensor datasets for training and testing\n",
        "train_dataset = TensorDataset(torch.stack([img for img, _ in train_dataset]), torch.stack(y_train))\n",
        "test_dataset = TensorDataset(torch.stack([img for img, _ in test_dataset]), torch.stack(y_test))\n",
        "\n",
        "# Create data loaders\n",
        "train_dataloader = DataLoader(train_dataset, batch_size=32, shuffle=True)\n",
        "test_dataloader = DataLoader(test_dataset, batch_size=32, shuffle=False)"
      ],
      "metadata": {
        "id": "bCXcnjSYaR-R",
        "colab": {
          "base_uri": "https://localhost:8080/"
        },
        "outputId": "d10bf1b8-ea28-45dd-ae8e-c2b4d0e2011f"
      },
      "execution_count": 12,
      "outputs": [
        {
          "output_type": "stream",
          "name": "stdout",
          "text": [
            "Downloading http://yann.lecun.com/exdb/mnist/train-images-idx3-ubyte.gz\n",
            "Failed to download (trying next):\n",
            "HTTP Error 403: Forbidden\n",
            "\n",
            "Downloading https://ossci-datasets.s3.amazonaws.com/mnist/train-images-idx3-ubyte.gz\n",
            "Downloading https://ossci-datasets.s3.amazonaws.com/mnist/train-images-idx3-ubyte.gz to ./data/MNIST/raw/train-images-idx3-ubyte.gz\n"
          ]
        },
        {
          "output_type": "stream",
          "name": "stderr",
          "text": [
            "100%|██████████| 9.91M/9.91M [00:11<00:00, 898kB/s] \n"
          ]
        },
        {
          "output_type": "stream",
          "name": "stdout",
          "text": [
            "Extracting ./data/MNIST/raw/train-images-idx3-ubyte.gz to ./data/MNIST/raw\n",
            "\n",
            "Downloading http://yann.lecun.com/exdb/mnist/train-labels-idx1-ubyte.gz\n",
            "Failed to download (trying next):\n",
            "HTTP Error 403: Forbidden\n",
            "\n",
            "Downloading https://ossci-datasets.s3.amazonaws.com/mnist/train-labels-idx1-ubyte.gz\n",
            "Downloading https://ossci-datasets.s3.amazonaws.com/mnist/train-labels-idx1-ubyte.gz to ./data/MNIST/raw/train-labels-idx1-ubyte.gz\n"
          ]
        },
        {
          "output_type": "stream",
          "name": "stderr",
          "text": [
            "100%|██████████| 28.9k/28.9k [00:00<00:00, 55.1kB/s]\n"
          ]
        },
        {
          "output_type": "stream",
          "name": "stdout",
          "text": [
            "Extracting ./data/MNIST/raw/train-labels-idx1-ubyte.gz to ./data/MNIST/raw\n",
            "\n",
            "Downloading http://yann.lecun.com/exdb/mnist/t10k-images-idx3-ubyte.gz\n",
            "Failed to download (trying next):\n",
            "HTTP Error 403: Forbidden\n",
            "\n",
            "Downloading https://ossci-datasets.s3.amazonaws.com/mnist/t10k-images-idx3-ubyte.gz\n",
            "Downloading https://ossci-datasets.s3.amazonaws.com/mnist/t10k-images-idx3-ubyte.gz to ./data/MNIST/raw/t10k-images-idx3-ubyte.gz\n"
          ]
        },
        {
          "output_type": "stream",
          "name": "stderr",
          "text": [
            "100%|██████████| 1.65M/1.65M [00:06<00:00, 242kB/s]\n"
          ]
        },
        {
          "output_type": "stream",
          "name": "stdout",
          "text": [
            "Extracting ./data/MNIST/raw/t10k-images-idx3-ubyte.gz to ./data/MNIST/raw\n",
            "\n",
            "Downloading http://yann.lecun.com/exdb/mnist/t10k-labels-idx1-ubyte.gz\n",
            "Failed to download (trying next):\n",
            "HTTP Error 403: Forbidden\n",
            "\n",
            "Downloading https://ossci-datasets.s3.amazonaws.com/mnist/t10k-labels-idx1-ubyte.gz\n",
            "Downloading https://ossci-datasets.s3.amazonaws.com/mnist/t10k-labels-idx1-ubyte.gz to ./data/MNIST/raw/t10k-labels-idx1-ubyte.gz\n"
          ]
        },
        {
          "output_type": "stream",
          "name": "stderr",
          "text": [
            "100%|██████████| 4.54k/4.54k [00:00<00:00, 4.63MB/s]\n"
          ]
        },
        {
          "output_type": "stream",
          "name": "stdout",
          "text": [
            "Extracting ./data/MNIST/raw/t10k-labels-idx1-ubyte.gz to ./data/MNIST/raw\n",
            "\n"
          ]
        }
      ]
    },
    {
      "cell_type": "code",
      "source": [
        "num_epoch = 20\n",
        "\n",
        "criterion = nn.MSELoss()\n",
        "\n",
        "# Build MLP with FCLayer and SigmoidLayer you've implemented in layers.py\n",
        "sigmoidMLP = nn.Sequential(\n",
        "    FCLayer(784, 128),\n",
        "    SigmoidLayer(),\n",
        "    FCLayer(128, 10)\n",
        ")\n",
        "\n",
        "# Initialize optimizer you've implemented in optimizer.py\n",
        "sgd = SGD(params=sigmoidMLP.parameters(), learning_rate=0.01)\n",
        "\n",
        "# Train the model using train function you've implemented in solver.py\n",
        "sigmoidMLP = train(sigmoidMLP, criterion, sgd, train_dataloader, num_epoch, device=device)"
      ],
      "metadata": {
        "id": "NkRty2cM-kIt",
        "colab": {
          "base_uri": "https://localhost:8080/"
        },
        "outputId": "ee54af98-493b-40e5-94dd-df04efcced45"
      },
      "execution_count": 13,
      "outputs": [
        {
          "output_type": "stream",
          "name": "stdout",
          "text": [
            "\n",
            "Epoch [0] Average training loss: 0.0771, Average training accuracy: 0.4956\n",
            "\n",
            "Epoch [1] Average training loss: 0.0556, Average training accuracy: 0.7378\n",
            "\n",
            "Epoch [2] Average training loss: 0.0506, Average training accuracy: 0.7835\n",
            "\n",
            "Epoch [3] Average training loss: 0.0482, Average training accuracy: 0.8046\n",
            "\n",
            "Epoch [4] Average training loss: 0.0466, Average training accuracy: 0.8173\n",
            "\n",
            "Epoch [5] Average training loss: 0.0456, Average training accuracy: 0.8254\n",
            "\n",
            "Epoch [6] Average training loss: 0.0448, Average training accuracy: 0.8307\n",
            "\n",
            "Epoch [7] Average training loss: 0.0442, Average training accuracy: 0.8344\n",
            "\n",
            "Epoch [8] Average training loss: 0.0437, Average training accuracy: 0.8384\n",
            "\n",
            "Epoch [9] Average training loss: 0.0432, Average training accuracy: 0.8408\n",
            "\n",
            "Epoch [10] Average training loss: 0.0429, Average training accuracy: 0.8430\n",
            "\n",
            "Epoch [11] Average training loss: 0.0426, Average training accuracy: 0.8455\n",
            "\n",
            "Epoch [12] Average training loss: 0.0423, Average training accuracy: 0.8465\n",
            "\n",
            "Epoch [13] Average training loss: 0.0420, Average training accuracy: 0.8474\n",
            "\n",
            "Epoch [14] Average training loss: 0.0418, Average training accuracy: 0.8489\n",
            "\n",
            "Epoch [15] Average training loss: 0.0415, Average training accuracy: 0.8504\n",
            "\n",
            "Epoch [16] Average training loss: 0.0413, Average training accuracy: 0.8517\n",
            "\n",
            "Epoch [17] Average training loss: 0.0411, Average training accuracy: 0.8514\n",
            "\n",
            "Epoch [18] Average training loss: 0.0409, Average training accuracy: 0.8529\n",
            "\n",
            "Epoch [19] Average training loss: 0.0407, Average training accuracy: 0.8533\n"
          ]
        }
      ]
    },
    {
      "cell_type": "code",
      "source": [
        "# Test your model using test function you've implemented in solver.py\n",
        "test(sigmoidMLP, test_dataloader, device)"
      ],
      "metadata": {
        "id": "F0otZUFrr7WW",
        "colab": {
          "base_uri": "https://localhost:8080/"
        },
        "outputId": "2a24d633-70ec-40db-a64b-69dffc97cd1b"
      },
      "execution_count": 14,
      "outputs": [
        {
          "output_type": "stream",
          "name": "stdout",
          "text": [
            "The test accuracy is 0.8627.\n",
            "\n"
          ]
        }
      ]
    },
    {
      "cell_type": "code",
      "source": [
        "# Build MLP with FCLayer and ReLULayer\n",
        "reluMLP = nn.Sequential(\n",
        "    FCLayer(784, 128),\n",
        "    ReLULayer(),\n",
        "    FCLayer(128, 10)\n",
        ")\n",
        "\n",
        "# Initialize optimizer\n",
        "sgd = SGD(reluMLP.parameters(), learning_rate=0.01)\n",
        "\n",
        "# Train the model\n",
        "reluMLP = train(reluMLP, criterion, sgd, train_dataloader, num_epoch, device=device)"
      ],
      "metadata": {
        "id": "n-2V-B_er7T2",
        "colab": {
          "base_uri": "https://localhost:8080/"
        },
        "outputId": "9eb062a6-f055-4d3a-f85f-efb465f9bb8e"
      },
      "execution_count": 15,
      "outputs": [
        {
          "output_type": "stream",
          "name": "stdout",
          "text": [
            "\n",
            "Epoch [0] Average training loss: 0.0712, Average training accuracy: 0.6373\n",
            "\n",
            "Epoch [1] Average training loss: 0.0467, Average training accuracy: 0.8231\n",
            "\n",
            "Epoch [2] Average training loss: 0.0399, Average training accuracy: 0.8589\n",
            "\n",
            "Epoch [3] Average training loss: 0.0357, Average training accuracy: 0.8765\n",
            "\n",
            "Epoch [4] Average training loss: 0.0327, Average training accuracy: 0.8875\n",
            "\n",
            "Epoch [5] Average training loss: 0.0305, Average training accuracy: 0.8953\n",
            "\n",
            "Epoch [6] Average training loss: 0.0288, Average training accuracy: 0.9011\n",
            "\n",
            "Epoch [7] Average training loss: 0.0274, Average training accuracy: 0.9060\n",
            "\n",
            "Epoch [8] Average training loss: 0.0262, Average training accuracy: 0.9103\n",
            "\n",
            "Epoch [9] Average training loss: 0.0253, Average training accuracy: 0.9131\n",
            "\n",
            "Epoch [10] Average training loss: 0.0244, Average training accuracy: 0.9162\n",
            "\n",
            "Epoch [11] Average training loss: 0.0237, Average training accuracy: 0.9185\n",
            "\n",
            "Epoch [12] Average training loss: 0.0231, Average training accuracy: 0.9205\n",
            "\n",
            "Epoch [13] Average training loss: 0.0225, Average training accuracy: 0.9227\n",
            "\n",
            "Epoch [14] Average training loss: 0.0220, Average training accuracy: 0.9248\n",
            "\n",
            "Epoch [15] Average training loss: 0.0215, Average training accuracy: 0.9264\n",
            "\n",
            "Epoch [16] Average training loss: 0.0211, Average training accuracy: 0.9279\n",
            "\n",
            "Epoch [17] Average training loss: 0.0207, Average training accuracy: 0.9289\n",
            "\n",
            "Epoch [18] Average training loss: 0.0204, Average training accuracy: 0.9297\n",
            "\n",
            "Epoch [19] Average training loss: 0.0200, Average training accuracy: 0.9309\n"
          ]
        }
      ]
    },
    {
      "cell_type": "code",
      "source": [
        "# Test the model\n",
        "test(reluMLP, test_dataloader, device)"
      ],
      "metadata": {
        "id": "sLjxTbq8r7RZ",
        "colab": {
          "base_uri": "https://localhost:8080/"
        },
        "outputId": "a08579c0-1de3-43e4-c402-6a6eecfa5ba3"
      },
      "execution_count": 16,
      "outputs": [
        {
          "output_type": "stream",
          "name": "stdout",
          "text": [
            "The test accuracy is 0.9313.\n",
            "\n"
          ]
        }
      ]
    },
    {
      "cell_type": "markdown",
      "source": [
        "### Overfit the model\n",
        "Try to overfit the reluMLP model. You can make the model as complex as you like, use subset of the data for training or any other approach you want.\n",
        "Then add **DropoutLayer** to your model in order to reduce overfitting problem."
      ],
      "metadata": {
        "id": "krsqZLJ-qQKH"
      }
    },
    {
      "cell_type": "code",
      "source": [
        "#TODO: overfit the reluMLP model\n",
        "from torch.utils.data import DataLoader, Subset\n",
        "import torch.nn as nn\n",
        "import torch.optim as optim\n",
        "from layers import FCLayer, ReLULayer, DropoutLayer\n",
        "\n",
        "complex_reluMLP = nn.Sequential(\n",
        "    FCLayer(784, 256),\n",
        "    ReLULayer(),\n",
        "    FCLayer(256, 256),\n",
        "    ReLULayer(),\n",
        "    FCLayer(256, 128),\n",
        "    ReLULayer(),\n",
        "    FCLayer(128, 64),\n",
        "    ReLULayer(),\n",
        "    FCLayer(64, 10)\n",
        ")\n",
        "subset_size = int(0.05 * len(train_dataset)) #more data on training\n",
        "subset_indices = list(range(subset_size))\n",
        "subset_train_dataset = Subset(train_dataset, subset_indices)\n",
        "subset_train_dataloader = DataLoader(subset_train_dataset, batch_size=64, shuffle=True)\n",
        "sgd_complex = optim.SGD(complex_reluMLP.parameters(), lr=0.01)\n",
        "complex_reluMLP = train(complex_reluMLP, criterion, sgd_complex, subset_train_dataloader, num_epoch, device=device)\n"
      ],
      "metadata": {
        "id": "XbVFtro9qP1i",
        "colab": {
          "base_uri": "https://localhost:8080/"
        },
        "outputId": "ffeb244b-c26e-4f24-8401-7bea801913a5"
      },
      "execution_count": 30,
      "outputs": [
        {
          "output_type": "stream",
          "name": "stdout",
          "text": [
            "\n",
            "Epoch [0] Average training loss: 2.2664, Average training accuracy: 0.1467\n",
            "\n",
            "Epoch [1] Average training loss: 2.1597, Average training accuracy: 0.2770\n",
            "\n",
            "Epoch [2] Average training loss: 2.0158, Average training accuracy: 0.4598\n",
            "\n",
            "Epoch [3] Average training loss: 1.7997, Average training accuracy: 0.6157\n",
            "\n",
            "Epoch [4] Average training loss: 1.5092, Average training accuracy: 0.7056\n",
            "\n",
            "Epoch [5] Average training loss: 1.1966, Average training accuracy: 0.7496\n",
            "\n",
            "Epoch [6] Average training loss: 0.9375, Average training accuracy: 0.7919\n",
            "\n",
            "Epoch [7] Average training loss: 0.7652, Average training accuracy: 0.8140\n",
            "\n",
            "Epoch [8] Average training loss: 0.6492, Average training accuracy: 0.8376\n",
            "\n",
            "Epoch [9] Average training loss: 0.5648, Average training accuracy: 0.8555\n",
            "\n",
            "Epoch [10] Average training loss: 0.5111, Average training accuracy: 0.8674\n",
            "\n",
            "Epoch [11] Average training loss: 0.4696, Average training accuracy: 0.8716\n",
            "\n",
            "Epoch [12] Average training loss: 0.4348, Average training accuracy: 0.8823\n",
            "\n",
            "Epoch [13] Average training loss: 0.4037, Average training accuracy: 0.8923\n",
            "\n",
            "Epoch [14] Average training loss: 0.3817, Average training accuracy: 0.9019\n",
            "\n",
            "Epoch [15] Average training loss: 0.3618, Average training accuracy: 0.9069\n",
            "\n",
            "Epoch [16] Average training loss: 0.3430, Average training accuracy: 0.9059\n",
            "\n",
            "Epoch [17] Average training loss: 0.3246, Average training accuracy: 0.9170\n",
            "\n",
            "Epoch [18] Average training loss: 0.3116, Average training accuracy: 0.9155\n",
            "\n",
            "Epoch [19] Average training loss: 0.2975, Average training accuracy: 0.9208\n"
          ]
        }
      ]
    },
    {
      "cell_type": "code",
      "source": [
        "from layers import DropoutLayer\n",
        "\n",
        "#TODO: add DropoutLayer to your model\n",
        "dropout_reluMLP = nn.Sequential(\n",
        "    FCLayer(784, 256),\n",
        "    ReLULayer(),\n",
        "    DropoutLayer(0.2),\n",
        "    FCLayer(256, 256),\n",
        "    ReLULayer(),\n",
        "    DropoutLayer(0.2),\n",
        "    FCLayer(256, 128),\n",
        "    ReLULayer(),\n",
        "    DropoutLayer(0.2),\n",
        "    FCLayer(128, 64),\n",
        "    ReLULayer(),\n",
        "    DropoutLayer(0.2),\n",
        "    FCLayer(64, 10)\n",
        ")\n",
        "sgd_dropout = optim.SGD(dropout_reluMLP.parameters(), lr=0.01\n",
        "dropout_reluMLP = train(dropout_reluMLP, criterion, sgd_dropout, subset_train_dataloader, num_epoch, device=device)"
      ],
      "metadata": {
        "id": "BeCfvh6Jr7Om",
        "colab": {
          "base_uri": "https://localhost:8080/"
        },
        "outputId": "47248e2f-fb5e-4707-d365-ecc1e03a0910"
      },
      "execution_count": 28,
      "outputs": [
        {
          "output_type": "stream",
          "name": "stdout",
          "text": [
            "\n",
            "Epoch [0] Average training loss: 2.2552, Average training accuracy: 0.1743\n",
            "\n",
            "Epoch [1] Average training loss: 2.0732, Average training accuracy: 0.3039\n",
            "\n",
            "Epoch [2] Average training loss: 1.7710, Average training accuracy: 0.4354\n",
            "\n",
            "Epoch [3] Average training loss: 1.4530, Average training accuracy: 0.5386\n",
            "\n",
            "Epoch [4] Average training loss: 1.2150, Average training accuracy: 0.6020\n",
            "\n",
            "Epoch [5] Average training loss: 1.0371, Average training accuracy: 0.6600\n",
            "\n",
            "Epoch [6] Average training loss: 0.9136, Average training accuracy: 0.7087\n",
            "\n",
            "Epoch [7] Average training loss: 0.8187, Average training accuracy: 0.7414\n",
            "\n",
            "Epoch [8] Average training loss: 0.7565, Average training accuracy: 0.7585\n",
            "\n",
            "Epoch [9] Average training loss: 0.6742, Average training accuracy: 0.7917\n",
            "\n",
            "Epoch [10] Average training loss: 0.6435, Average training accuracy: 0.7948\n",
            "\n",
            "Epoch [11] Average training loss: 0.5927, Average training accuracy: 0.8226\n",
            "\n",
            "Epoch [12] Average training loss: 0.5624, Average training accuracy: 0.8318\n",
            "\n",
            "Epoch [13] Average training loss: 0.5283, Average training accuracy: 0.8383\n",
            "\n",
            "Epoch [14] Average training loss: 0.5080, Average training accuracy: 0.8494\n",
            "\n",
            "Epoch [15] Average training loss: 0.4933, Average training accuracy: 0.8494\n",
            "\n",
            "Epoch [16] Average training loss: 0.4751, Average training accuracy: 0.8543\n",
            "\n",
            "Epoch [17] Average training loss: 0.4525, Average training accuracy: 0.8651\n",
            "\n",
            "Epoch [18] Average training loss: 0.4294, Average training accuracy: 0.8687\n",
            "\n",
            "Epoch [19] Average training loss: 0.4215, Average training accuracy: 0.8722\n"
          ]
        }
      ]
    },
    {
      "cell_type": "code",
      "source": [
        "test(dropout_reluMLP, test_dataloader, device)"
      ],
      "metadata": {
        "id": "UShs-KYlr7L4",
        "colab": {
          "base_uri": "https://localhost:8080/"
        },
        "outputId": "898c86fd-6dbd-44c6-d386-2bbf4675c263"
      },
      "execution_count": 29,
      "outputs": [
        {
          "output_type": "stream",
          "name": "stdout",
          "text": [
            "The test accuracy is 0.9048.\n",
            "\n"
          ]
        }
      ]
    },
    {
      "cell_type": "code",
      "source": [
        "test(complex_reluMLP, test_dataloader, device)"
      ],
      "metadata": {
        "id": "0rg3t81mqNm9",
        "colab": {
          "base_uri": "https://localhost:8080/"
        },
        "outputId": "7b789f99-2965-41df-b8fc-94192d4ca379"
      },
      "execution_count": 31,
      "outputs": [
        {
          "output_type": "stream",
          "name": "stdout",
          "text": [
            "The test accuracy is 0.8924.\n",
            "\n"
          ]
        }
      ]
    },
    {
      "cell_type": "markdown",
      "source": [
        "as we see the drop out helped our model to achieve higher accuracy and the overfitting caused model to fit very much to training data and not be good generalization. for better results in general we should avoid getting overfit and use drop out for better functioning and better training of the model."
      ],
      "metadata": {
        "id": "SkQbPJNHKFiI"
      }
    }
  ]
}