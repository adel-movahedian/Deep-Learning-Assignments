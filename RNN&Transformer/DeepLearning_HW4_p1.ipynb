{
  "cells": [
    {
      "cell_type": "markdown",
      "metadata": {
        "id": "sp7D0ktn5eiG"
      },
      "source": [
        "\n",
        "<br>\n",
        "<font>\n",
        "<div dir=ltr align=center>\n",
        "<font color=0F5298 size=10>\n",
        "    Deep Learning - HW4 <br>\n",
        "<font color=2565AE size=5>\n",
        "    Electrical Engineering Department <br>\n",
        "    winter 2024<br>\n",
        "<font color=3C99D size=5>\n",
        "    Practical Assignment 1 <br>\n",
        "<font color=696880 size=4>\n",
        "    Niloufar Abbasi\n",
        "\n",
        "____"
      ]
    },
    {
      "cell_type": "markdown",
      "metadata": {
        "id": "exf3ZqqzEzAW"
      },
      "source": [
        "# Emotion Recognition with Recurrent Neural Networks\n"
      ]
    },
    {
      "cell_type": "markdown",
      "metadata": {
        "id": "CflYBmJzEzAX"
      },
      "source": [
        "---\n",
        "\n",
        "## **Introduction**\n",
        "\n",
        "In this task, you will implement a Recurrent Neural Network (RNN) to perform tweet emotion recognition. The goal is to classify tweets into one of six basic emotions:\n",
        "- **0: sadness**\n",
        "- **1: joy**\n",
        "- **2: love**\n",
        "- **3: anger**\n",
        "- **4: fear**\n",
        "- **5: surprise**\n",
        "\n",
        "We will be using a dataset of tweets, where each tweet has been labeled with one of these emotions. Throughout this notebook, you will follow step-by-step instructions to build and train your model. As you progress, you'll complete the provided TODO sections by filling in the necessary code and functions.\n",
        "\n",
        "By the end of this exercise, you will:\n",
        "- Understand how to preprocess text data for use in RNN models.\n",
        "- Build and train a model using Pytorch.\n",
        "- Evaluate the performance of your model on the test set.\n",
        "\n",
        "---\n"
      ]
    },
    {
      "cell_type": "markdown",
      "metadata": {
        "id": "HqlCWZtDEzAX"
      },
      "source": [
        "---\n",
        "\n",
        "## Task 1: Enter Your Information\n",
        "\n",
        "Before we begin, please enter your **student ID** and **name** in the code section below.\n",
        "\n",
        "Make sure to replace the placeholders with your actual information.\n",
        "\n",
        "---"
      ]
    },
    {
      "cell_type": "code",
      "execution_count": 1,
      "metadata": {
        "colab": {
          "base_uri": "https://localhost:8080/"
        },
        "id": "DrSspKSjEzAY",
        "outputId": "2d92ea36-4569-43ee-cecc-d69f8632880d"
      },
      "outputs": [
        {
          "name": "stdout",
          "output_type": "stream",
          "text": [
            "Your name: Adel Movahedian\n",
            "Your student ID: 400102074\n"
          ]
        }
      ],
      "source": [
        "#########################################\n",
        "# TODO: Enter your personal information #\n",
        "#########################################\n",
        "\n",
        "student_name = \"Adel Movahedian\"  # Replace with your name\n",
        "student_id   = 400102074  # Replace with your student ID\n",
        "\n",
        "print(\"Your name:\", student_name)\n",
        "print(\"Your student ID:\", student_id)"
      ]
    },
    {
      "cell_type": "markdown",
      "metadata": {
        "id": "tYPlU3fJEzAY"
      },
      "source": [
        "---\n",
        "\n",
        "## Task 2: Setup and Imports\n",
        "\n",
        "In this task, we'll be preparing our environment by importing the necessary libraries. Please run the cells below to set everything up. If any library is missing on your end, make sure to install it.\n",
        "\n",
        "### Instructions:\n",
        "1. **Run the cells** to install any required packages and import the necessary libraries.\n",
        "2. If any library is not installed in your environment, use `!pip install <library_name>` to install it.\n",
        "---"
      ]
    },
    {
      "cell_type": "code",
      "execution_count": 2,
      "metadata": {
        "colab": {
          "base_uri": "https://localhost:8080/"
        },
        "id": "mjkZDSrtEzAZ",
        "outputId": "81003325-9557-4429-c1f7-7c9b60a1364d"
      },
      "outputs": [
        {
          "name": "stdout",
          "output_type": "stream",
          "text": [
            "Requirement already satisfied: datasets in /usr/local/lib/python3.10/dist-packages (3.2.0)\n",
            "Requirement already satisfied: filelock in /usr/local/lib/python3.10/dist-packages (from datasets) (3.16.1)\n",
            "Requirement already satisfied: numpy>=1.17 in /usr/local/lib/python3.10/dist-packages (from datasets) (1.26.4)\n",
            "Requirement already satisfied: pyarrow>=15.0.0 in /usr/local/lib/python3.10/dist-packages (from datasets) (17.0.0)\n",
            "Requirement already satisfied: dill<0.3.9,>=0.3.0 in /usr/local/lib/python3.10/dist-packages (from datasets) (0.3.8)\n",
            "Requirement already satisfied: pandas in /usr/local/lib/python3.10/dist-packages (from datasets) (2.2.2)\n",
            "Requirement already satisfied: requests>=2.32.2 in /usr/local/lib/python3.10/dist-packages (from datasets) (2.32.3)\n",
            "Requirement already satisfied: tqdm>=4.66.3 in /usr/local/lib/python3.10/dist-packages (from datasets) (4.67.1)\n",
            "Requirement already satisfied: xxhash in /usr/local/lib/python3.10/dist-packages (from datasets) (3.5.0)\n",
            "Requirement already satisfied: multiprocess<0.70.17 in /usr/local/lib/python3.10/dist-packages (from datasets) (0.70.16)\n",
            "Requirement already satisfied: fsspec<=2024.9.0,>=2023.1.0 in /usr/local/lib/python3.10/dist-packages (from fsspec[http]<=2024.9.0,>=2023.1.0->datasets) (2024.9.0)\n",
            "Requirement already satisfied: aiohttp in /usr/local/lib/python3.10/dist-packages (from datasets) (3.11.10)\n",
            "Requirement already satisfied: huggingface-hub>=0.23.0 in /usr/local/lib/python3.10/dist-packages (from datasets) (0.27.0)\n",
            "Requirement already satisfied: packaging in /usr/local/lib/python3.10/dist-packages (from datasets) (24.2)\n",
            "Requirement already satisfied: pyyaml>=5.1 in /usr/local/lib/python3.10/dist-packages (from datasets) (6.0.2)\n",
            "Requirement already satisfied: aiohappyeyeballs>=2.3.0 in /usr/local/lib/python3.10/dist-packages (from aiohttp->datasets) (2.4.4)\n",
            "Requirement already satisfied: aiosignal>=1.1.2 in /usr/local/lib/python3.10/dist-packages (from aiohttp->datasets) (1.3.2)\n",
            "Requirement already satisfied: async-timeout<6.0,>=4.0 in /usr/local/lib/python3.10/dist-packages (from aiohttp->datasets) (4.0.3)\n",
            "Requirement already satisfied: attrs>=17.3.0 in /usr/local/lib/python3.10/dist-packages (from aiohttp->datasets) (24.3.0)\n",
            "Requirement already satisfied: frozenlist>=1.1.1 in /usr/local/lib/python3.10/dist-packages (from aiohttp->datasets) (1.5.0)\n",
            "Requirement already satisfied: multidict<7.0,>=4.5 in /usr/local/lib/python3.10/dist-packages (from aiohttp->datasets) (6.1.0)\n",
            "Requirement already satisfied: propcache>=0.2.0 in /usr/local/lib/python3.10/dist-packages (from aiohttp->datasets) (0.2.1)\n",
            "Requirement already satisfied: yarl<2.0,>=1.17.0 in /usr/local/lib/python3.10/dist-packages (from aiohttp->datasets) (1.18.3)\n",
            "Requirement already satisfied: typing-extensions>=3.7.4.3 in /usr/local/lib/python3.10/dist-packages (from huggingface-hub>=0.23.0->datasets) (4.12.2)\n",
            "Requirement already satisfied: charset-normalizer<4,>=2 in /usr/local/lib/python3.10/dist-packages (from requests>=2.32.2->datasets) (3.4.0)\n",
            "Requirement already satisfied: idna<4,>=2.5 in /usr/local/lib/python3.10/dist-packages (from requests>=2.32.2->datasets) (3.10)\n",
            "Requirement already satisfied: urllib3<3,>=1.21.1 in /usr/local/lib/python3.10/dist-packages (from requests>=2.32.2->datasets) (2.2.3)\n",
            "Requirement already satisfied: certifi>=2017.4.17 in /usr/local/lib/python3.10/dist-packages (from requests>=2.32.2->datasets) (2024.12.14)\n",
            "Requirement already satisfied: python-dateutil>=2.8.2 in /usr/local/lib/python3.10/dist-packages (from pandas->datasets) (2.8.2)\n",
            "Requirement already satisfied: pytz>=2020.1 in /usr/local/lib/python3.10/dist-packages (from pandas->datasets) (2024.2)\n",
            "Requirement already satisfied: tzdata>=2022.7 in /usr/local/lib/python3.10/dist-packages (from pandas->datasets) (2024.2)\n",
            "Requirement already satisfied: six>=1.5 in /usr/local/lib/python3.10/dist-packages (from python-dateutil>=2.8.2->pandas->datasets) (1.17.0)\n"
          ]
        }
      ],
      "source": [
        "!pip install datasets"
      ]
    },
    {
      "cell_type": "markdown",
      "metadata": {
        "id": "LoMZz8ejEzAZ"
      },
      "source": [
        "Required Libraries:"
      ]
    },
    {
      "cell_type": "code",
      "execution_count": 3,
      "metadata": {
        "id": "PR3FKSbjEzAZ"
      },
      "outputs": [],
      "source": [
        "import torch\n",
        "import numpy as np\n",
        "import matplotlib.pyplot as plt\n",
        "from sklearn.metrics import confusion_matrix\n",
        "from datasets import load_dataset\n",
        "\n",
        "%matplotlib inline\n",
        "\n",
        "#####################################################################\n",
        "# TODO: Add any additional libraries you may need for your analysis #\n",
        "#####################################################################\n",
        "\n",
        "# You can add your libraries here\n",
        "from transformers import AutoTokenizer\n",
        "import re\n",
        "from collections import Counter\n",
        "import torch.nn as nn\n",
        "from torch.utils.data import DataLoader, TensorDataset\n",
        "from sklearn.model_selection import train_test_split\n",
        "import torch.optim as optim\n",
        "from torch.optim.lr_scheduler import ReduceLROnPlateau\n",
        "from torch.nn.functional import cross_entropy\n",
        "from sklearn.metrics import classification_report\n",
        "from sklearn.metrics import confusion_matrix, ConfusionMatrixDisplay\n"
      ]
    },
    {
      "cell_type": "markdown",
      "metadata": {
        "id": "hT8z6O0vEzAZ"
      },
      "source": [
        "### Additional Functions\n",
        "\n",
        "The following functions have been provided to help you visualize the results of your model training. These will allow you to analyze both the model's performance over time (through the training history) and how well it performs on individual predictions (through a confusion matrix).\n",
        "\n",
        "1. **`plot_history(hist)`**: This function takes the training history object (`hist`) from your model and plots both the accuracy and loss over the number of epochs for both training and validation sets. It provides an easy way to visually track the model's learning progress and performance.\n",
        "\n",
        "2. **`visualize_confusion_matrix(actual_labels, predicted_labels, classes)`**: After making predictions with your model, you can use this function to plot a confusion matrix. It shows the accuracy of your model across each class, helping to identify areas where the model is performing well and where it might be struggling. The matrix is normalized to make comparisons easier.\n",
        "\n",
        "These functions are for your convenience, you can directly use them after running your model to visualize the results.\n"
      ]
    },
    {
      "cell_type": "code",
      "execution_count": 4,
      "metadata": {
        "id": "VL0sHMz9EzAa"
      },
      "outputs": [],
      "source": [
        "# Functions to visualize training history and confusion matrix\n",
        "def plot_history(hist):\n",
        "    epochs = len(hist.history['loss'])\n",
        "    plt.figure(figsize=(16, 6))\n",
        "\n",
        "    plt.subplot(1, 2, 1)\n",
        "    plt.plot(range(0, epochs), hist.history.get('accuracy'), label='Training')\n",
        "    plt.plot(range(0, epochs), hist.history.get('val_accuracy'), label='Validation')\n",
        "    plt.ylim([0., 1.])\n",
        "    plt.xlabel('Epochs')\n",
        "    plt.ylabel('Accuracy')\n",
        "    plt.legend()\n",
        "\n",
        "    plt.subplot(1, 2, 2)\n",
        "    plt.plot(range(0, epochs), hist.history.get('loss'), label='Training')\n",
        "    plt.plot(range(0, epochs), hist.history.get('val_loss'), label='Validation')\n",
        "    plt.xlabel('Epochs')\n",
        "    plt.ylabel('Loss')\n",
        "    plt.legend()\n",
        "    plt.show()\n",
        "\n",
        "def visualize_confusion_matrix(actual_labels, predicted_labels, classes):\n",
        "\n",
        "    cm = confusion_matrix(actual_labels, predicted_labels, normalize='true')\n",
        "\n",
        "    plt.figure(figsize=(8, 8))\n",
        "    sp = plt.subplot(1, 1, 1)\n",
        "    ctx = sp.matshow(cm)\n",
        "    plt.xticks(list(range(0, 6)), labels=classes)\n",
        "    plt.yticks(list(range(0, 6)), labels=classes)\n",
        "    plt.colorbar(ctx)\n",
        "    plt.show()\n"
      ]
    },
    {
      "cell_type": "markdown",
      "metadata": {
        "id": "O94JirclEzAa"
      },
      "source": [
        "---\n",
        "\n",
        "## Task 3: Importing Data\n",
        "\n",
        "In this task, we will\n",
        "\n",
        "- import the Tweet Emotion dataset\n",
        "\n",
        "- create training, validation, and test sets\n",
        "    \n",
        "- extract the tweets and their corresponding labels for further analysis\n",
        "\n",
        "---"
      ]
    },
    {
      "cell_type": "code",
      "execution_count": 5,
      "metadata": {
        "colab": {
          "base_uri": "https://localhost:8080/"
        },
        "id": "0YHOvjAu5eiL",
        "outputId": "71713015-6e1e-4247-9164-0f9bb11d2e76"
      },
      "outputs": [
        {
          "name": "stderr",
          "output_type": "stream",
          "text": [
            "/usr/local/lib/python3.10/dist-packages/huggingface_hub/utils/_auth.py:94: UserWarning: \n",
            "The secret `HF_TOKEN` does not exist in your Colab secrets.\n",
            "To authenticate with the Hugging Face Hub, create a token in your settings tab (https://huggingface.co/settings/tokens), set it as secret in your Google Colab and restart your session.\n",
            "You will be able to reuse this secret in all of your notebooks.\n",
            "Please note that authentication is recommended but still optional to access public models or datasets.\n",
            "  warnings.warn(\n"
          ]
        },
        {
          "data": {
            "text/plain": [
              "DatasetDict({\n",
              "    train: Dataset({\n",
              "        features: ['text', 'label'],\n",
              "        num_rows: 16000\n",
              "    })\n",
              "    validation: Dataset({\n",
              "        features: ['text', 'label'],\n",
              "        num_rows: 2000\n",
              "    })\n",
              "    test: Dataset({\n",
              "        features: ['text', 'label'],\n",
              "        num_rows: 2000\n",
              "    })\n",
              "})"
            ]
          },
          "execution_count": 5,
          "metadata": {},
          "output_type": "execute_result"
        }
      ],
      "source": [
        "dataset = load_dataset('emotion')\n",
        "dataset"
      ]
    },
    {
      "cell_type": "code",
      "execution_count": 6,
      "metadata": {
        "colab": {
          "base_uri": "https://localhost:8080/"
        },
        "id": "2s0h541FxIgc",
        "outputId": "7c38cfcf-7379-4f26-a32b-9acdc39b87ed"
      },
      "outputs": [
        {
          "name": "stdout",
          "output_type": "stream",
          "text": [
            "{'text': ['i didnt feel humiliated', 'i can go from feeling so hopeless to so damned hopeful just from being around someone who cares and is awake', 'im grabbing a minute to post i feel greedy wrong', 'i am ever feeling nostalgic about the fireplace i will know that it is still on the property', 'i am feeling grouchy'], 'label': [0, 0, 3, 2, 3]}\n"
          ]
        }
      ],
      "source": [
        "# Display the first few samples\n",
        "print(dataset['train'][0:5])  # Adjust 'train' to 'test' or other splits if necessary"
      ]
    },
    {
      "cell_type": "code",
      "execution_count": 7,
      "metadata": {
        "id": "z7eCnxU25eiN"
      },
      "outputs": [],
      "source": [
        "###########################################################################\n",
        "# TODO: Create variables for the training, validation, and test datasets. #\n",
        "###########################################################################\n",
        "\n",
        "training = dataset['train']\n",
        "validation = dataset['validation']\n",
        "test = dataset['test']"
      ]
    },
    {
      "cell_type": "code",
      "execution_count": 8,
      "metadata": {
        "colab": {
          "base_uri": "https://localhost:8080/"
        },
        "id": "oDYXMfZy5eiP",
        "outputId": "8e164416-358c-4b36-e83a-5d6c23b1f6ac"
      },
      "outputs": [
        {
          "name": "stdout",
          "output_type": "stream",
          "text": [
            "i didnt feel humiliated 0\n"
          ]
        }
      ],
      "source": [
        "########################################################################################################\n",
        "# TODO:                                                                                                #\n",
        "# Implement the `extract_tweets_labels` function to iterate over the provided dataset.                 #\n",
        "# Within this function, extract the tweet text and their corresponding labels into two separate lists. #\n",
        "# Then, call this function with the training dataset to obtain the tweets and labels,                  #\n",
        "# ensuring proper data handling for subsequent analysis.                                               #\n",
        "########################################################################################################\n",
        "\n",
        "def extract_tweets_labels(data):\n",
        "    # Extract the text and labels from the data\n",
        "    tweets = [item['text'] for item in data]\n",
        "    labels = [item['label'] for item in data]\n",
        "    return tweets, labels\n",
        "\n",
        "# Get the tweets and labels from the training set\n",
        "tweets, labels = extract_tweets_labels(training)\n",
        "\n",
        "# Display the first tweet and its label\n",
        "print(tweets[0], labels[0])\n"
      ]
    },
    {
      "cell_type": "markdown",
      "metadata": {
        "id": "36H7jfJnEzAb"
      },
      "source": [
        "---\n",
        "\n",
        "## Task 4: Tokenization of Tweets\n",
        "\n",
        "In this section, we will focus on the tokenization of the tweets in the dataset. Tokenization is a crucial step in natural language processing (NLP) that involves breaking down text into smaller units, such as words or subwords. This process enables the model to better understand and analyze the text data.\n",
        "\n",
        "### Objectives:\n",
        "1. Implement a tokenizer to convert the tweet texts into tokens.\n",
        "2. Ensure the tokenization process handles various aspects of the text, such as punctuation and special characters.\n",
        "\n",
        "By the end of this task, you will have a set of tokenized tweets ready for further processing in your NLP pipeline.\n",
        "\n",
        "---"
      ]
    },
    {
      "cell_type": "code",
      "execution_count": 9,
      "metadata": {
        "colab": {
          "base_uri": "https://localhost:8080/"
        },
        "id": "qfX5-ResxIgq",
        "outputId": "b98a2713-4465-441b-d399-d481a10e4ce8"
      },
      "outputs": [
        {
          "name": "stdout",
          "output_type": "stream",
          "text": [
            "Original Tweet: i didnt feel humiliated\n",
            "Tokenized Tweet: ['i', 'didnt', 'feel', 'humiliated']\n"
          ]
        }
      ],
      "source": [
        "###############################################################################################################################################\n",
        "# TODO: Tokenization of Tweets                                                                                                                #\n",
        "# 1. Select a Tokenization Method: Choose a suitable tokenization method to preprocess the tweets.                                            #\n",
        "# Ensure that the tokenization handles special characters and maintains the integrity of the text data.                                       #\n",
        "# 2. Implement the Tokenizer: Once you have selected a method, implement the tokenizer to convert the tweet texts into sequences of tokens.   #\n",
        "# 3. Test the Tokenization:                                                                                                                   #\n",
        "# Verify the functionality of your tokenizer by applying it to a sample tweet from the dataset and displaying the resulting tokenized output. #\n",
        "###############################################################################################################################################\n",
        "\n",
        "def my_tokenizer(text):\n",
        "    text = text.lower() # lowercase to not be case sensitive\n",
        "    text = re.sub(r'[^a-zA-Z0-9\\s]', '', text) # keep needed parts (handles special characters)\n",
        "    tokens = text.split() # Split with whitespace\n",
        "    return tokens\n",
        "tokenized_tweets = [my_tokenizer(tweet) for tweet in tweets]\n",
        "\n",
        "sample_tweet = tweets[0]\n",
        "sample_tokenized = my_tokenizer(sample_tweet)\n",
        "\n",
        "print(\"Original Tweet:\", sample_tweet)\n",
        "print(\"Tokenized Tweet:\", sample_tokenized)\n",
        "\n",
        "# we need to create vocabulary for the continue of the code\n",
        "unique_tokens = set(token for tweet in tokenized_tweets for token in tweet)\n",
        "token_to_idx = {token: idx for idx, token in enumerate(unique_tokens, start=1)}  # Start indexing from 1, I kept zero for pad\n",
        "token_to_idx[\"<PAD>\"] = 0  # Add padding token with index 0 set manualy\n",
        "# Map tokens to indices\n",
        "def tokens_to_indices(tokens, token_to_idx):\n",
        "    return [token_to_idx[token] for token in tokens if token in token_to_idx]\n"
      ]
    },
    {
      "cell_type": "markdown",
      "metadata": {
        "id": "bWX_F6QgEzAb"
      },
      "source": [
        "---\n",
        "\n",
        "## Task 5: Padding and Truncating Sequences\n",
        "\n",
        "In this task, we will prepare the tokenized tweets for model training by checking their lengths and creating padded sequences.\n",
        "\n",
        "1. **Checking the Length of the Tweets**\n",
        "   - Analyze the distribution of tweet lengths to understand the range of token counts in the dataset.\n",
        "\n",
        "2. **Creating Padded Sequences**\n",
        "   - After tokenizing the tweets, sequences of different lengths must be adjusted to a uniform length to facilitate training.\n",
        "\n",
        "---\n"
      ]
    },
    {
      "cell_type": "code",
      "execution_count": 10,
      "metadata": {
        "colab": {
          "base_uri": "https://localhost:8080/",
          "height": 582
        },
        "id": "ruwkO_iuEzAb",
        "outputId": "f299a7fe-fb55-4e88-a68a-4886a0441f52"
      },
      "outputs": [
        {
          "data": {
            "image/png": "[encoded data removed]",
            "text/plain": [
              "<Figure size 1000x600 with 1 Axes>"
            ]
          },
          "metadata": {},
          "output_type": "display_data"
        },
        {
          "name": "stdout",
          "output_type": "stream",
          "text": [
            "Selected Maximum Length for Padding and Truncating is 66\n"
          ]
        }
      ],
      "source": [
        "#####################################################################################################################################################\n",
        "# TODO:                                                                                                                                             #\n",
        "# Implement code to calculate the lengths of the tweets and visualize the distribution using a histogram. Use an appropriate visualization library. #\n",
        "# After visualizing the distribution, determine a suitable maximum length for padding and truncating the sequences based on your findings.          #\n",
        "#####################################################################################################################################################\n",
        "tweet_lengths = [len(tweet) for tweet in tokenized_tweets]\n",
        "plt.figure(figsize=(10, 6))\n",
        "plt.hist(tweet_lengths, bins=30, color='red', edgecolor='black')\n",
        "plt.title('Distribution of Tweet Lengths')\n",
        "plt.xlabel('Tweet Length (Or Number of Tokens)')\n",
        "plt.ylabel('Frequency')\n",
        "plt.show()\n",
        "max_length = max(tweet_lengths)\n",
        "print(f\"Selected Maximum Length for Padding and Truncating is {max_length}\")\n"
      ]
    },
    {
      "cell_type": "code",
      "execution_count": 11,
      "metadata": {
        "colab": {
          "base_uri": "https://localhost:8080/"
        },
        "id": "9wKp0vYeEzAb",
        "outputId": "9a83e9d9-0ef2-4523-d03f-d17e91e12d69"
      },
      "outputs": [
        {
          "data": {
            "text/plain": [
              "[11768,\n",
              " 8423,\n",
              " 9036,\n",
              " 978,\n",
              " 0,\n",
              " 0,\n",
              " 0,\n",
              " 0,\n",
              " 0,\n",
              " 0,\n",
              " 0,\n",
              " 0,\n",
              " 0,\n",
              " 0,\n",
              " 0,\n",
              " 0,\n",
              " 0,\n",
              " 0,\n",
              " 0,\n",
              " 0,\n",
              " 0,\n",
              " 0,\n",
              " 0,\n",
              " 0,\n",
              " 0,\n",
              " 0,\n",
              " 0,\n",
              " 0,\n",
              " 0,\n",
              " 0,\n",
              " 0,\n",
              " 0,\n",
              " 0,\n",
              " 0,\n",
              " 0,\n",
              " 0,\n",
              " 0,\n",
              " 0,\n",
              " 0,\n",
              " 0,\n",
              " 0,\n",
              " 0,\n",
              " 0,\n",
              " 0,\n",
              " 0,\n",
              " 0,\n",
              " 0,\n",
              " 0,\n",
              " 0,\n",
              " 0,\n",
              " 0,\n",
              " 0,\n",
              " 0,\n",
              " 0,\n",
              " 0,\n",
              " 0,\n",
              " 0,\n",
              " 0,\n",
              " 0,\n",
              " 0,\n",
              " 0,\n",
              " 0,\n",
              " 0,\n",
              " 0,\n",
              " 0,\n",
              " 0]"
            ]
          },
          "execution_count": 11,
          "metadata": {},
          "output_type": "execute_result"
        }
      ],
      "source": [
        "############################################################################################################\n",
        "# TODO: Define a function to convert the tokenized tweets into sequences and apply padding and truncation. #\n",
        "# Use your determined maximum length for padding the sequences.                                            #\n",
        "############################################################################################################\n",
        "def PadAndTruncate_sequences(sequences, max_length):\n",
        "    padded_sequences = []\n",
        "    for seq in sequences:\n",
        "        seq_indices = tokens_to_indices(seq, token_to_idx)\n",
        "        if len(seq_indices) < max_length:\n",
        "            padded_seq = seq_indices + [token_to_idx[\"<PAD>\"]] * (max_length - len(seq_indices))\n",
        "        else:\n",
        "            padded_seq = seq_indices[:max_length]\n",
        "        padded_sequences.append(padded_seq)\n",
        "    return padded_sequences\n",
        "def get_sequences(tokenizer, tweets):\n",
        "    sequences = [tokenizer(tweet) for tweet in tweets]\n",
        "    padded_sequences = PadAndTruncate_sequences(sequences, max_length)\n",
        "    return padded_sequences\n",
        "padded_train_sequences = get_sequences(my_tokenizer, tweets)\n",
        "padded_train_sequences[0]"
      ]
    },
    {
      "cell_type": "markdown",
      "metadata": {
        "id": "BURhOX_KxIg8"
      },
      "source": [
        "---\n",
        "\n",
        "## Task 6: Analyzing Label Distribution\n",
        "\n",
        "1. Checking the distribution of labels.\n",
        "2. Addressing any class imbalance using appropriate techniques.\n",
        "\n",
        "Note:\n",
        "\n",
        "(**Providing a clear explanation of the chosen method to address the imbalance and how it will improve the model’s performance is critical.** Without handling class imbalance properly, the model could achieve a high accuracy by focusing on the majority class, but it may perform poorly on the minority class, which would result in misleading metrics and reduced generalization.\n",
        "\n",
        "Hence, it is important to not only implement an appropriate solution but also **justify** why the selected approach is effective for the given task.)\n",
        "\n",
        "---"
      ]
    },
    {
      "cell_type": "code",
      "execution_count": 12,
      "metadata": {
        "colab": {
          "base_uri": "https://localhost:8080/",
          "height": 1000
        },
        "id": "SufT2bpD5ejE",
        "outputId": "3ad09e26-fc1c-417f-a3e2-2c6a4fb554a6"
      },
      "outputs": [
        {
          "data": {
            "image/png": "[encoded data removed]",
            "text/plain": [
              "<Figure size 1000x600 with 1 Axes>"
            ]
          },
          "metadata": {},
          "output_type": "display_data"
        },
        {
          "name": "stdout",
          "output_type": "stream",
          "text": [
            "Label Distribution: Counter({1: 5362, 0: 4666, 3: 2159, 4: 1937, 2: 1304, 5: 572})\n",
            "Balanced Label Distribution: Counter({0: 5362, 3: 5362, 2: 5362, 5: 5362, 4: 5362, 1: 5362})\n"
          ]
        },
        {
          "data": {
            "image/png": "[encoded data removed]",
            "text/plain": [
              "<Figure size 1000x600 with 1 Axes>"
            ]
          },
          "metadata": {},
          "output_type": "display_data"
        }
      ],
      "source": [
        "##########################################################################################################################\n",
        "# TODO: Analyze the distribution of labels in the training set. (visualize it in a perfect way)                          #\n",
        "# Determine if there is any class imbalance.                                                                             #\n",
        "# If you observe any imbalance, apply one of the techniques you have learned throughout the course to address the issue. #\n",
        "##########################################################################################################################\n",
        "#Analyze Label Distribution using counter function from collections\n",
        "label_counts = Counter(labels)\n",
        "plt.figure(figsize=(10, 6))\n",
        "plt.bar(label_counts.keys(), label_counts.values(), color='red', edgecolor='black')\n",
        "plt.title('Distribution of Labels in Training Set')\n",
        "plt.xlabel('Labels')\n",
        "plt.ylabel('Frequency')\n",
        "plt.show()\n",
        "print(\"Label Distribution:\", label_counts)\n",
        "\n",
        "#oversampling to handle imbalance data -->after visualizing the previous part(data was imbalanced)\n",
        "def oversample_minor_classes(tweets, labels):\n",
        "    max_count = max(label_counts.values())\n",
        "    balanced_tweets = []\n",
        "    balanced_labels = []\n",
        "    label_to_tweets = {label: [] for label in label_counts}\n",
        "    for tweet, label in zip(tweets, labels):\n",
        "        label_to_tweets[label].append(tweet)\n",
        "    for label, tweets in label_to_tweets.items():\n",
        "        balanced_tweets.extend(tweets * (max_count // len(tweets)) + tweets[:max_count % len(tweets)])\n",
        "        balanced_labels.extend([label] * max_count)\n",
        "    return balanced_tweets, balanced_labels\n",
        "\n",
        "balanced_tweets, balanced_labels = oversample_minor_classes(tweets, labels)\n",
        "balanced_label_counts = Counter(balanced_labels)\n",
        "print(\"Balanced Label Distribution:\", balanced_label_counts)\n",
        "plt.figure(figsize=(10, 6))\n",
        "plt.bar(balanced_label_counts.keys(), balanced_label_counts.values(), color='green', edgecolor='black')\n",
        "plt.title('Balanced Distribution of Labels')\n",
        "plt.xlabel('Labels')\n",
        "plt.ylabel('Frequency')\n",
        "plt.show()\n"
      ]
    },
    {
      "cell_type": "markdown",
      "metadata": {
        "id": "WpkGRe9B_FWa"
      },
      "source": [
        "\n",
        "## <font color='green'>explanation\n",
        "We addressed the issue of class imbalance in our dataset by using oversampling. This method involves replicating samples from the minority classes until all classes have an equal number of examples. Oversampling ensures the model gets an equal chance to learn from all classes, preventing it from focusing too heavily on the majority class.\n",
        "By balancing the dataset, we encourage the model to treat all classes fairly, improving its ability to generalize to unseen data. This helps avoid misleading metrics, where high accuracy might come at the cost of poor performance on minority classes. Although oversampling can sometimes lead to overfitting, we mitigate this risk with techniques like early stopping. Overall, this approach helps the model perform more effectively across all classes.</font>"
      ]
    },
    {
      "cell_type": "markdown",
      "metadata": {
        "id": "c-v0Mnh8xIhP"
      },
      "source": [
        "---\n",
        "\n",
        "## Task 7: Creating the Model\n",
        "\n",
        "Design and implement a recurrent neural network for the task. You may utilize a sequential architecture like RNN or GRU to enhance the model's performance.\n",
        "\n",
        "Build and compile your model using Pytorch.\n",
        "\n",
        "**Once the model is created, summarize its structure to verify the design.**\n",
        "\n",
        "---"
      ]
    },
    {
      "cell_type": "code",
      "execution_count": 13,
      "metadata": {
        "colab": {
          "base_uri": "https://localhost:8080/"
        },
        "id": "OpewXxPQ5eji",
        "outputId": "f18ecadf-59e6-4623-82f3-2b745ec31447"
      },
      "outputs": [
        {
          "name": "stdout",
          "output_type": "stream",
          "text": [
            "BiLSTMModel(\n",
            "  (embedding): Embedding(15213, 128, padding_idx=0)\n",
            "  (lstm): LSTM(128, 64, batch_first=True, bidirectional=True)\n",
            "  (fc): Linear(in_features=128, out_features=6, bias=True)\n",
            ")\n"
          ]
        }
      ],
      "source": [
        "#########################################################################################################\n",
        "# TODO:                                                                                                 #\n",
        "# Create a recurrent neural network model for the task.                                                 #\n",
        "# (Suggestion: Implement a Bidirectional LSTM architecture to process the input sequences effectively.) #\n",
        "# Once the model is created, summarize its structure to verify the design.                              #\n",
        "#########################################################################################################\n",
        "# Defining Bidirectional LSTM model\n",
        "class BiLSTMModel(nn.Module):\n",
        "    def __init__(self, vocab_size, embedding_dim, hidden_dim, output_dim, padding_idx):\n",
        "        super(BiLSTMModel, self).__init__()\n",
        "        self.embedding = nn.Embedding(vocab_size, embedding_dim, padding_idx=padding_idx)\n",
        "        self.lstm = nn.LSTM(embedding_dim, hidden_dim, batch_first=True, bidirectional=True)\n",
        "        self.fc = nn.Linear(hidden_dim * 2, output_dim)  # Multiply by 2 (bidirectional)\n",
        "\n",
        "    def forward(self, x):\n",
        "        embedded = self.embedding(x)\n",
        "        lstm_out, _ = self.lstm(embedded)\n",
        "        lstm_out = lstm_out[:, -1, :]  #output of the last time step is the lstm output\n",
        "        output = self.fc(lstm_out)\n",
        "        return output\n",
        "vocab_size = len(token_to_idx)\n",
        "embedding_dim = 128\n",
        "hidden_dim = 64\n",
        "output_dim = len(label_counts)\n",
        "padding_idx = token_to_idx[\"<PAD>\"] # Padding index = 0 that I set it before\n",
        "model = BiLSTMModel(vocab_size, embedding_dim, hidden_dim, output_dim, padding_idx)\n",
        "\n",
        "\n",
        "#model's summary is printed below\n",
        "print(model)"
      ]
    },
    {
      "cell_type": "markdown",
      "metadata": {
        "id": "1HST_CHjxIhR"
      },
      "source": [
        "---\n",
        "\n",
        "## Task 8: Training the Model\n",
        "\n",
        "In this task, you will prepare a validation set and train your model using the training data.\n",
        "\n",
        "1. Prepare the validation set by extracting tweets and labels, and convert them into sequences using the tokenizer.\n",
        "2. Train the model on the training data.\n",
        "3. Ensure that you implement **Early Stopping** to prevent overfitting and enhance efficiency.\n",
        "\n",
        "Make sure to monitor the validation accuracy during training and adjust the parameters as necessary.\n",
        "\n",
        "---"
      ]
    },
    {
      "cell_type": "code",
      "execution_count": 14,
      "metadata": {
        "colab": {
          "base_uri": "https://localhost:8080/"
        },
        "id": "Ff7F3hCK5ejm",
        "outputId": "f34197dc-fb08-445c-a149-213347773603"
      },
      "outputs": [
        {
          "name": "stdout",
          "output_type": "stream",
          "text": [
            "Epoch 1/20 - Train Loss: 1803.1152, Train Acc: 0.1644, Val Loss: 113.5781, Val Acc: 0.1375\n",
            "Epoch 2/20 - Train Loss: 1801.5353, Train Acc: 0.1678, Val Loss: 112.7339, Val Acc: 0.0435\n",
            "Epoch 3/20 - Train Loss: 1798.9668, Train Acc: 0.1692, Val Loss: 112.6249, Val Acc: 0.3485\n",
            "Epoch 4/20 - Train Loss: 1761.2576, Train Acc: 0.2049, Val Loss: 105.5357, Val Acc: 0.2295\n",
            "Epoch 5/20 - Train Loss: 1079.6806, Train Acc: 0.5569, Val Loss: 66.7999, Val Acc: 0.5250\n",
            "Epoch 6/20 - Train Loss: 504.3599, Train Acc: 0.8260, Val Loss: 44.1508, Val Acc: 0.7740\n",
            "Epoch 7/20 - Train Loss: 259.8186, Train Acc: 0.9234, Val Loss: 36.4621, Val Acc: 0.8390\n",
            "Epoch 8/20 - Train Loss: 156.8525, Train Acc: 0.9577, Val Loss: 37.8023, Val Acc: 0.8385\n",
            "Epoch 9/20 - Train Loss: 110.0162, Train Acc: 0.9729, Val Loss: 37.5024, Val Acc: 0.8460\n",
            "Epoch 10/20 - Train Loss: 93.0233, Train Acc: 0.9767, Val Loss: 35.1352, Val Acc: 0.8575\n",
            "Epoch 11/20 - Train Loss: 78.3364, Train Acc: 0.9803, Val Loss: 36.5652, Val Acc: 0.8600\n",
            "Epoch 12/20 - Train Loss: 65.6908, Train Acc: 0.9836, Val Loss: 39.5370, Val Acc: 0.8460\n",
            "Epoch 13/20 - Train Loss: 59.7860, Train Acc: 0.9847, Val Loss: 45.5452, Val Acc: 0.8445\n",
            "Early stopping activated.\n"
          ]
        }
      ],
      "source": [
        "###############################################################################################################\n",
        "# TODO: Extract the tweets and labels from the validation set. Convert the tweets into sequences using the    #\n",
        "#       tokenizer defined earlier. Prepare the data for validation and ensure it matches the format of the    #\n",
        "#       training set.                                                                                         #\n",
        "###############################################################################################################\n",
        "\n",
        "# Your code for extracting and processing validation data goes here\n",
        "# Prepare validation data\n",
        "val_tweets, val_labels = extract_tweets_labels(validation)\n",
        "val_label_tensor = torch.tensor(val_labels, dtype=torch.long)\n",
        "\n",
        "padded_train_sequences = get_sequences(my_tokenizer, balanced_tweets)\n",
        "padded_val_sequences = get_sequences(my_tokenizer, val_tweets)\n",
        "\n",
        "padded_train_tensor = torch.tensor(padded_train_sequences, dtype=torch.long)\n",
        "train_label_tensor = torch.tensor(balanced_labels, dtype=torch.long)\n",
        "padded_val_tensor = torch.tensor(padded_val_sequences, dtype=torch.long)\n",
        "val_label_tensor = torch.tensor(val_labels, dtype=torch.long)\n",
        "\n",
        "#DataLoaders\n",
        "batch_size = 32\n",
        "train_data = TensorDataset(padded_train_tensor, train_label_tensor)\n",
        "val_data = TensorDataset(padded_val_tensor, val_label_tensor)\n",
        "train_loader = DataLoader(train_data, batch_size=batch_size, shuffle=True)\n",
        "val_loader = DataLoader(val_data, batch_size=batch_size, shuffle=False)\n",
        "\n",
        "###############################################################################################################\n",
        "# TODO: Train the model on the prepared training data. Ensure you implement early stopping to monitor the     #\n",
        "#       validation accuracy and prevent overfitting. Adjust the number of epochs or other hyperparameters as  #\n",
        "#       needed to optimize model performance.                                                                 #\n",
        "###############################################################################################################\n",
        "\n",
        "# Your code for training the model with early stopping goes here\n",
        "criterion = nn.CrossEntropyLoss()\n",
        "optimizer = optim.Adam(model.parameters(), lr=0.001)\n",
        "scheduler = ReduceLROnPlateau(optimizer, mode='max', factor=0.5, patience=3, verbose=True)\n",
        "\n",
        "num_epochs = 20\n",
        "patience_time = 3\n",
        "best_val_loss = float('inf')\n",
        "epochs_without_improvement = 0\n",
        "history = {'train_loss': [],'train_accuracy': [],'val_loss': [],'val_accuracy': []}\n",
        "# training\n",
        "for epoch in range(num_epochs):\n",
        "    model.train()\n",
        "    train_loss = 0\n",
        "    correct = 0\n",
        "    total = 0\n",
        "    for inputs, labels in train_loader:\n",
        "        optimizer.zero_grad()\n",
        "        outputs = model(inputs)\n",
        "        loss = criterion(outputs, labels)\n",
        "        loss.backward()\n",
        "        optimizer.step()\n",
        "        train_loss += loss.item()\n",
        "        _, predicted = outputs.max(1)\n",
        "        total += labels.size(0)\n",
        "        correct += (predicted == labels).sum().item()\n",
        "    train_accuracy = correct / total\n",
        "\n",
        "    # Validation\n",
        "    model.eval()\n",
        "    val_loss = 0\n",
        "    correct = 0\n",
        "    total = 0\n",
        "    with torch.no_grad():\n",
        "        for inputs, labels in val_loader:\n",
        "            outputs = model(inputs)\n",
        "            loss = criterion(outputs, labels)\n",
        "            val_loss += loss.item()\n",
        "            _, predicted = outputs.max(1)\n",
        "            total += labels.size(0)\n",
        "            correct += (predicted == labels).sum().item()\n",
        "    val_accuracy = correct / total\n",
        "\n",
        "    history['train_loss'].append(train_loss)\n",
        "    history['train_accuracy'].append(train_accuracy)\n",
        "    history['val_loss'].append(val_loss)\n",
        "    history['val_accuracy'].append(val_accuracy)\n",
        "    print(f\"Epoch {epoch+1}/{num_epochs} - \"\n",
        "          f\"Train Loss: {train_loss:.4f}, Train Acc: {train_accuracy:.4f}, \"\n",
        "          f\"Val Loss: {val_loss:.4f}, Val Acc: {val_accuracy:.4f}\")\n",
        "    # if early stopping\n",
        "    if val_loss < best_val_loss:\n",
        "        best_val_loss = val_loss\n",
        "        epochs_without_improvement = 0\n",
        "    else:\n",
        "        epochs_without_improvement += 1\n",
        "        if epochs_without_improvement >= patience_time:\n",
        "            print(\"Early stopping activated.\")\n",
        "            break\n"
      ]
    },
    {
      "cell_type": "markdown",
      "metadata": {
        "id": "12kGmaA7EzAc"
      },
      "source": [
        "---\n",
        "\n",
        "## Task 9: Evaluating the Model\n",
        "\n",
        "In this task, you will evaluate the performance of your model on the test set and visualize the training history. You will also analyze the model’s predictions on both individual and complete test samples.\n",
        "\n",
        "### Steps:\n",
        "1. Visualize the loss and accuracy over the training epochs.\n",
        "2. Prepare and preprocess the test data using functions from Task 2.\n",
        "3. Evaluate the model on the test set and examine individual predictions.\n",
        "4. Analyze the overall predictions and display a confusion matrix.\n",
        "\n",
        "---"
      ]
    },
    {
      "cell_type": "code",
      "execution_count": 15,
      "metadata": {
        "colab": {
          "base_uri": "https://localhost:8080/",
          "height": 559
        },
        "id": "ENCfvXeLxIhX",
        "outputId": "8ba53b7b-3727-4ebb-b839-da9b02f8d976"
      },
      "outputs": [
        {
          "data": {
            "image/png": "[encoded data removed]",
            "text/plain": [
              "<Figure size 1600x600 with 2 Axes>"
            ]
          },
          "metadata": {},
          "output_type": "display_data"
        }
      ],
      "source": [
        "###############################################################################################################\n",
        "# TODO: Visualize the training history by plotting the loss and accuracy over the epochs to assess model      #\n",
        "#       performance. Use an appropriate visualization method to ensure clarity and effectiveness.             #\n",
        "#       you can use function implemented in Task 2 for your visualizations                                    #\n",
        "###############################################################################################################\n",
        "\n",
        "# Your code for visualizing the training history goes here\n",
        "def plot_history(hist):\n",
        "    epochs = len(hist['train_loss'])\n",
        "    plt.figure(figsize=(16, 6))\n",
        "    #---accuracy\n",
        "    plt.subplot(1, 2, 1)\n",
        "    plt.plot(range(epochs), hist['train_accuracy'], label='Train Accuracy')\n",
        "    plt.plot(range(epochs), hist['val_accuracy'], label='Validation Accuracy')\n",
        "    plt.xlabel('Epochs')\n",
        "    plt.ylabel('Accuracy')\n",
        "    plt.legend()\n",
        "    plt.title('Training and Validation Accuracy')\n",
        "    #---loss\n",
        "    plt.subplot(1, 2, 2)\n",
        "    plt.plot(range(epochs), hist['train_loss'], label='Training Loss')\n",
        "    plt.plot(range(epochs), hist['val_loss'], label='Validation Loss')\n",
        "    plt.xlabel('Epochs')\n",
        "    plt.ylabel('Loss')\n",
        "    plt.legend()\n",
        "    plt.title('Training and Validation Loss')\n",
        "    plt.show()\n",
        "plot_history(history)\n",
        "\n"
      ]
    },
    {
      "cell_type": "code",
      "execution_count": 16,
      "metadata": {
        "id": "kWuzoz8uxIha"
      },
      "outputs": [],
      "source": [
        "###############################################################################################################\n",
        "# TODO: Prepare the test set by extracting the tweets and labels, then convert the tweets into sequences using #\n",
        "#       the tokenizer. Ensure the format matches that of the training and validation sets.                     #\n",
        "###############################################################################################################\n",
        "\n",
        "# Your code for preparing the test set goes here\n",
        "test_tweets, test_labels = extract_tweets_labels(test)\n",
        "padded_test_sequences = get_sequences(my_tokenizer, test_tweets)\n",
        "\n",
        "padded_test_tensor = torch.tensor(padded_test_sequences, dtype=torch.long)\n",
        "test_label_tensor = torch.tensor(test_labels, dtype=torch.long)\n"
      ]
    },
    {
      "cell_type": "code",
      "execution_count": 17,
      "metadata": {
        "colab": {
          "base_uri": "https://localhost:8080/"
        },
        "id": "7vRVJ_2SxIhc",
        "outputId": "fe89213b-9bbf-4965-9dcc-25637bfb4e99"
      },
      "outputs": [
        {
          "name": "stdout",
          "output_type": "stream",
          "text": [
            "Classification Report:\n",
            "              precision    recall  f1-score   support\n",
            "\n",
            "           0       0.83      0.91      0.87       581\n",
            "           1       0.90      0.84      0.87       695\n",
            "           2       0.78      0.70      0.74       159\n",
            "           3       0.87      0.83      0.85       275\n",
            "           4       0.72      0.81      0.76       224\n",
            "           5       0.60      0.53      0.56        66\n",
            "\n",
            "    accuracy                           0.84      2000\n",
            "   macro avg       0.79      0.77      0.78      2000\n",
            "weighted avg       0.84      0.84      0.84      2000\n",
            "\n"
          ]
        }
      ],
      "source": [
        "###############################################################################################################\n",
        "# TODO: Evaluate the model's performance on the test set. Print the accuracy and loss, and review individual   #\n",
        "#       predictions to understand how the model is performing on unseen data.                                 #\n",
        "###############################################################################################################\n",
        "\n",
        "# Your code for evaluating the model and reviewing predictions goes here\n",
        "model.eval()\n",
        "with torch.no_grad():\n",
        "    test_predictions = model(padded_test_tensor).argmax(dim=1).cpu().numpy()\n",
        "print(\"Classification Report:\")\n",
        "print(classification_report(test_labels, test_predictions))\n"
      ]
    },
    {
      "cell_type": "code",
      "execution_count": 18,
      "metadata": {
        "colab": {
          "base_uri": "https://localhost:8080/",
          "height": 467
        },
        "id": "rh638vHG5ej6",
        "outputId": "c0efe996-bebc-435a-cd3f-108fd5aad3ce"
      },
      "outputs": [
        {
          "data": {
            "image/png": "[encoded data removed]",
            "text/plain": [
              "<Figure size 640x480 with 2 Axes>"
            ]
          },
          "metadata": {},
          "output_type": "display_data"
        }
      ],
      "source": [
        "###############################################################################################################\n",
        "# TODO: Generate predictions for all test samples and analyze the model's overall performance. Display the     #\n",
        "#       confusion matrix to visualize the differences between true and predicted labels, helping to interpret  #\n",
        "#       the model's classification results.                                                                   #\n",
        "###############################################################################################################\n",
        "\n",
        "# Your code for generating predictions and displaying the confusion matrix goes here\n",
        "model.eval()\n",
        "\n",
        "device = torch.device(\"cuda\" if torch.cuda.is_available() else \"cpu\")\n",
        "model.to(device)\n",
        "padded_test_tensor = padded_test_tensor.to(device)\n",
        "with torch.no_grad():\n",
        "    test_outputs = model(padded_test_tensor)\n",
        "    _, test_predictions = torch.max(test_outputs, 1)\n",
        "conf_matrix = confusion_matrix(test_label_tensor.cpu().numpy(), test_predictions.cpu().numpy())\n",
        "\n",
        "classes = sorted(label_counts.keys())\n",
        "disp = ConfusionMatrixDisplay(confusion_matrix=conf_matrix, display_labels=classes)\n",
        "disp.plot(cmap=plt.cm.Blues, xticks_rotation='vertical')\n",
        "plt.title(\"Confusion Matrix\")\n",
        "plt.show()"
      ]
    },
    {
      "cell_type": "markdown",
      "metadata": {
        "id": "VJi_ej3IEzAd"
      },
      "source": [
        "# Final Analysis\n",
        "\n",
        "After visualizing the confusion matrix based on your model’s predictions, analyze the results and provide insights into the model’s classification performance.\n",
        "\n",
        "### **Question:**\n",
        "<span style=\"font-size: 1.2em;\">Which class seems to get confused with the class *love* the most?</span>\n",
        "\n",
        "**Remember the class labels:**\n",
        "- **0:** *Sadness*\n",
        "- **1:** *Joy*\n",
        "- **2:** *Love*\n",
        "- **3:** *Anger*\n",
        "- **4:** *Fear*\n",
        "- **5:** *Surprise*\n",
        "\n",
        "Reflect on the confusion matrix to answer this question and provide your reasoning for why this confusion might occur based on the emotional nature of the classes.\n"
      ]
    },
    {
      "cell_type": "markdown",
      "metadata": {
        "id": "tyQ6qbieu0kQ"
      },
      "source": [
        "<font color='green'>From the confusion matrix, it’s clear that the class \"Love\" (label 2) is most often mistaken for \"Joy\" (label 1), with 41 instances of misclassification.\n",
        "This makes sense when you think about the emotional overlap between the two. Both \"Love\" and \"Joy\" are positive feelings, and the language used to express them often shares similarities. For example, words like \"happiness,\" \"affection,\" or \"care\" could easily apply to both emotions, making it hard for the model to distinguish between them. To address this, we might need to enhance the model’s understanding of context or provide more examples that highlight the subtle differences between these emotions.</font>"
      ]
    },
    {
      "cell_type": "markdown",
      "metadata": {
        "id": "vEpjD7NvEzAd"
      },
      "source": [
        "# **Best regards.**"
      ]
    }
  ],
  "metadata": {
    "accelerator": "GPU",
    "colab": {
      "gpuType": "T4",
      "provenance": []
    },
    "kernelspec": {
      "display_name": "Python 3",
      "name": "python3"
    },
    "language_info": {
      "codemirror_mode": {
        "name": "ipython",
        "version": 3
      },
      "file_extension": ".py",
      "mimetype": "text/x-python",
      "name": "python",
      "nbconvert_exporter": "python",
      "pygments_lexer": "ipython3",
      "version": "3.10.5"
    }
  },
  "nbformat": 4,
  "nbformat_minor": 0
}
