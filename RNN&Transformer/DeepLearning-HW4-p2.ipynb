{
 "cells": [
  {
   "cell_type": "markdown",
   "metadata": {
    "id": "w_a3OXnSeV0z"
   },
   "source": [
    "\n",
    "<br>\n",
    "<font>\n",
    "<div dir=ltr align=center>\n",
    "<font color=0F5298 size=10>\n",
    "    Deep Learning - HW4 <br>\n",
    "<font color=2565AE size=5>\n",
    "    Electrical Engineering Department <br>\n",
    "    winter 2024<br>\n",
    "<font color=3C99D size=5>\n",
    "    Practical Assignment 2 <br>\n",
    "<font color=696880 size=4>\n",
    "    Armin Ghojehzadeh <br>\n",
    "    Adel Movahedian\n",
    "    400102074\n",
    "\n",
    "____"
   ]
  },
  {
   "cell_type": "markdown",
   "metadata": {
    "id": "wm24nNA1z4Ox"
   },
   "source": [
    "# 🔴 **Import Libs**"
   ]
  },
  {
   "cell_type": "code",
   "execution_count": 57,
   "metadata": {
    "colab": {
     "base_uri": "https://localhost:8080/"
    },
    "execution": {
     "iopub.execute_input": "2024-12-26T15:39:24.754730Z",
     "iopub.status.busy": "2024-12-26T15:39:24.754436Z",
     "iopub.status.idle": "2024-12-26T15:39:41.029907Z",
     "shell.execute_reply": "2024-12-26T15:39:41.028747Z",
     "shell.execute_reply.started": "2024-12-26T15:39:24.754706Z"
    },
    "id": "uWlYH3FkCUyD",
    "outputId": "662ec586-3cc0-4aa8-9b7a-fbd9a6b38e5f",
    "trusted": true
   },
   "outputs": [
    {
     "name": "stdout",
     "output_type": "stream",
     "text": [
      "Requirement already satisfied: torchmetrics in /usr/local/lib/python3.10/dist-packages (1.6.0)\n",
      "Requirement already satisfied: numpy>1.20.0 in /usr/local/lib/python3.10/dist-packages (from torchmetrics) (1.26.4)\n",
      "Requirement already satisfied: packaging>17.1 in /usr/local/lib/python3.10/dist-packages (from torchmetrics) (24.1)\n",
      "Requirement already satisfied: torch>=2.0.0 in /usr/local/lib/python3.10/dist-packages (from torchmetrics) (2.0.1+cu118)\n",
      "Requirement already satisfied: lightning-utilities>=0.8.0 in /usr/local/lib/python3.10/dist-packages (from torchmetrics) (0.11.9)\n",
      "Requirement already satisfied: setuptools in /usr/local/lib/python3.10/dist-packages (from lightning-utilities>=0.8.0->torchmetrics) (71.0.4)\n",
      "Requirement already satisfied: typing-extensions in /usr/local/lib/python3.10/dist-packages (from lightning-utilities>=0.8.0->torchmetrics) (4.12.2)\n",
      "Requirement already satisfied: filelock in /usr/local/lib/python3.10/dist-packages (from torch>=2.0.0->torchmetrics) (3.16.1)\n",
      "Requirement already satisfied: sympy in /usr/local/lib/python3.10/dist-packages (from torch>=2.0.0->torchmetrics) (1.13.3)\n",
      "Requirement already satisfied: networkx in /usr/local/lib/python3.10/dist-packages (from torch>=2.0.0->torchmetrics) (3.3)\n",
      "Requirement already satisfied: jinja2 in /usr/local/lib/python3.10/dist-packages (from torch>=2.0.0->torchmetrics) (3.1.4)\n",
      "Requirement already satisfied: triton==2.0.0 in /usr/local/lib/python3.10/dist-packages (from torch>=2.0.0->torchmetrics) (2.0.0)\n",
      "Requirement already satisfied: cmake in /usr/local/lib/python3.10/dist-packages (from triton==2.0.0->torch>=2.0.0->torchmetrics) (3.30.3)\n",
      "Requirement already satisfied: lit in /usr/local/lib/python3.10/dist-packages (from triton==2.0.0->torch>=2.0.0->torchmetrics) (15.0.7)\n",
      "Requirement already satisfied: MarkupSafe>=2.0 in /usr/local/lib/python3.10/dist-packages (from jinja2->torch>=2.0.0->torchmetrics) (2.1.5)\n",
      "Requirement already satisfied: mpmath<1.4,>=1.1.0 in /usr/local/lib/python3.10/dist-packages (from sympy->torch>=2.0.0->torchmetrics) (1.3.0)\n",
      "Requirement already satisfied: datasets in /usr/local/lib/python3.10/dist-packages (3.2.0)\n",
      "Requirement already satisfied: filelock in /usr/local/lib/python3.10/dist-packages (from datasets) (3.16.1)\n",
      "Requirement already satisfied: numpy>=1.17 in /usr/local/lib/python3.10/dist-packages (from datasets) (1.26.4)\n",
      "Requirement already satisfied: pyarrow>=15.0.0 in /usr/local/lib/python3.10/dist-packages (from datasets) (18.1.0)\n",
      "Requirement already satisfied: dill<0.3.9,>=0.3.0 in /usr/local/lib/python3.10/dist-packages (from datasets) (0.3.8)\n",
      "Requirement already satisfied: pandas in /usr/local/lib/python3.10/dist-packages (from datasets) (2.1.4)\n",
      "Requirement already satisfied: requests>=2.32.2 in /usr/local/lib/python3.10/dist-packages (from datasets) (2.32.3)\n",
      "Requirement already satisfied: tqdm>=4.66.3 in /usr/local/lib/python3.10/dist-packages (from datasets) (4.66.5)\n",
      "Requirement already satisfied: xxhash in /usr/local/lib/python3.10/dist-packages (from datasets) (3.5.0)\n",
      "Requirement already satisfied: multiprocess<0.70.17 in /usr/local/lib/python3.10/dist-packages (from datasets) (0.70.16)\n",
      "Requirement already satisfied: fsspec<=2024.9.0,>=2023.1.0 in /usr/local/lib/python3.10/dist-packages (from fsspec[http]<=2024.9.0,>=2023.1.0->datasets) (2024.6.1)\n",
      "Requirement already satisfied: aiohttp in /usr/local/lib/python3.10/dist-packages (from datasets) (3.10.5)\n",
      "Requirement already satisfied: huggingface-hub>=0.23.0 in /usr/local/lib/python3.10/dist-packages (from datasets) (0.24.7)\n",
      "Requirement already satisfied: packaging in /usr/local/lib/python3.10/dist-packages (from datasets) (24.1)\n",
      "Requirement already satisfied: pyyaml>=5.1 in /usr/local/lib/python3.10/dist-packages (from datasets) (6.0.2)\n",
      "Requirement already satisfied: aiohappyeyeballs>=2.3.0 in /usr/local/lib/python3.10/dist-packages (from aiohttp->datasets) (2.4.0)\n",
      "Requirement already satisfied: aiosignal>=1.1.2 in /usr/local/lib/python3.10/dist-packages (from aiohttp->datasets) (1.3.1)\n",
      "Requirement already satisfied: attrs>=17.3.0 in /usr/local/lib/python3.10/dist-packages (from aiohttp->datasets) (24.2.0)\n",
      "Requirement already satisfied: frozenlist>=1.1.1 in /usr/local/lib/python3.10/dist-packages (from aiohttp->datasets) (1.4.1)\n",
      "Requirement already satisfied: multidict<7.0,>=4.5 in /usr/local/lib/python3.10/dist-packages (from aiohttp->datasets) (6.1.0)\n",
      "Requirement already satisfied: yarl<2.0,>=1.0 in /usr/local/lib/python3.10/dist-packages (from aiohttp->datasets) (1.11.1)\n",
      "Requirement already satisfied: async-timeout<5.0,>=4.0 in /usr/local/lib/python3.10/dist-packages (from aiohttp->datasets) (4.0.3)\n",
      "Requirement already satisfied: typing-extensions>=3.7.4.3 in /usr/local/lib/python3.10/dist-packages (from huggingface-hub>=0.23.0->datasets) (4.12.2)\n",
      "Requirement already satisfied: charset-normalizer<4,>=2 in /usr/local/lib/python3.10/dist-packages (from requests>=2.32.2->datasets) (3.3.2)\n",
      "Requirement already satisfied: idna<4,>=2.5 in /usr/local/lib/python3.10/dist-packages (from requests>=2.32.2->datasets) (3.10)\n",
      "Requirement already satisfied: urllib3<3,>=1.21.1 in /usr/local/lib/python3.10/dist-packages (from requests>=2.32.2->datasets) (2.2.3)\n",
      "Requirement already satisfied: certifi>=2017.4.17 in /usr/local/lib/python3.10/dist-packages (from requests>=2.32.2->datasets) (2024.8.30)\n",
      "Requirement already satisfied: python-dateutil>=2.8.2 in /usr/local/lib/python3.10/dist-packages (from pandas->datasets) (2.8.2)\n",
      "Requirement already satisfied: pytz>=2020.1 in /usr/local/lib/python3.10/dist-packages (from pandas->datasets) (2024.2)\n",
      "Requirement already satisfied: tzdata>=2022.1 in /usr/local/lib/python3.10/dist-packages (from pandas->datasets) (2024.1)\n",
      "Requirement already satisfied: six>=1.5 in /usr/local/lib/python3.10/dist-packages (from python-dateutil>=2.8.2->pandas->datasets) (1.16.0)\n",
      "Requirement already satisfied: portalocker in /usr/local/lib/python3.10/dist-packages (3.0.0)\n",
      "Requirement already satisfied: torchtext in /usr/local/lib/python3.10/dist-packages (0.15.2+cpu)\n",
      "Requirement already satisfied: tqdm in /usr/local/lib/python3.10/dist-packages (from torchtext) (4.66.5)\n",
      "Requirement already satisfied: requests in /usr/local/lib/python3.10/dist-packages (from torchtext) (2.32.3)\n",
      "Requirement already satisfied: torch==2.0.1 in /usr/local/lib/python3.10/dist-packages (from torchtext) (2.0.1+cu118)\n",
      "Requirement already satisfied: numpy in /usr/local/lib/python3.10/dist-packages (from torchtext) (1.26.4)\n",
      "Requirement already satisfied: torchdata==0.6.1 in /usr/local/lib/python3.10/dist-packages (from torchtext) (0.6.1)\n",
      "Requirement already satisfied: filelock in /usr/local/lib/python3.10/dist-packages (from torch==2.0.1->torchtext) (3.16.1)\n",
      "Requirement already satisfied: typing-extensions in /usr/local/lib/python3.10/dist-packages (from torch==2.0.1->torchtext) (4.12.2)\n",
      "Requirement already satisfied: sympy in /usr/local/lib/python3.10/dist-packages (from torch==2.0.1->torchtext) (1.13.3)\n",
      "Requirement already satisfied: networkx in /usr/local/lib/python3.10/dist-packages (from torch==2.0.1->torchtext) (3.3)\n",
      "Requirement already satisfied: jinja2 in /usr/local/lib/python3.10/dist-packages (from torch==2.0.1->torchtext) (3.1.4)\n",
      "Requirement already satisfied: triton==2.0.0 in /usr/local/lib/python3.10/dist-packages (from torch==2.0.1->torchtext) (2.0.0)\n",
      "Requirement already satisfied: urllib3>=1.25 in /usr/local/lib/python3.10/dist-packages (from torchdata==0.6.1->torchtext) (2.2.3)\n",
      "Requirement already satisfied: cmake in /usr/local/lib/python3.10/dist-packages (from triton==2.0.0->torch==2.0.1->torchtext) (3.30.3)\n",
      "Requirement already satisfied: lit in /usr/local/lib/python3.10/dist-packages (from triton==2.0.0->torch==2.0.1->torchtext) (15.0.7)\n",
      "Requirement already satisfied: charset-normalizer<4,>=2 in /usr/local/lib/python3.10/dist-packages (from requests->torchtext) (3.3.2)\n",
      "Requirement already satisfied: idna<4,>=2.5 in /usr/local/lib/python3.10/dist-packages (from requests->torchtext) (3.10)\n",
      "Requirement already satisfied: certifi>=2017.4.17 in /usr/local/lib/python3.10/dist-packages (from requests->torchtext) (2024.8.30)\n",
      "Requirement already satisfied: MarkupSafe>=2.0 in /usr/local/lib/python3.10/dist-packages (from jinja2->torch==2.0.1->torchtext) (2.1.5)\n",
      "Requirement already satisfied: mpmath<1.4,>=1.1.0 in /usr/local/lib/python3.10/dist-packages (from sympy->torch==2.0.1->torchtext) (1.3.0)\n",
      "Looking in indexes: https://download.pytorch.org/whl/cu118\n",
      "Requirement already satisfied: torch==2.0.1+cu118 in /usr/local/lib/python3.10/dist-packages (2.0.1+cu118)\n",
      "Requirement already satisfied: torchvision==0.15.2+cu118 in /usr/local/lib/python3.10/dist-packages (0.15.2+cu118)\n",
      "Requirement already satisfied: torchtext==0.15.2 in /usr/local/lib/python3.10/dist-packages (0.15.2+cpu)\n",
      "Requirement already satisfied: filelock in /usr/local/lib/python3.10/dist-packages (from torch==2.0.1+cu118) (3.16.1)\n",
      "Requirement already satisfied: typing-extensions in /usr/local/lib/python3.10/dist-packages (from torch==2.0.1+cu118) (4.12.2)\n",
      "Requirement already satisfied: sympy in /usr/local/lib/python3.10/dist-packages (from torch==2.0.1+cu118) (1.13.3)\n",
      "Requirement already satisfied: networkx in /usr/local/lib/python3.10/dist-packages (from torch==2.0.1+cu118) (3.3)\n",
      "Requirement already satisfied: jinja2 in /usr/local/lib/python3.10/dist-packages (from torch==2.0.1+cu118) (3.1.4)\n",
      "Requirement already satisfied: triton==2.0.0 in /usr/local/lib/python3.10/dist-packages (from torch==2.0.1+cu118) (2.0.0)\n",
      "Requirement already satisfied: numpy in /usr/local/lib/python3.10/dist-packages (from torchvision==0.15.2+cu118) (1.26.4)\n",
      "Requirement already satisfied: requests in /usr/local/lib/python3.10/dist-packages (from torchvision==0.15.2+cu118) (2.32.3)\n",
      "Requirement already satisfied: pillow!=8.3.*,>=5.3.0 in /usr/local/lib/python3.10/dist-packages (from torchvision==0.15.2+cu118) (10.4.0)\n",
      "Requirement already satisfied: tqdm in /usr/local/lib/python3.10/dist-packages (from torchtext==0.15.2) (4.66.5)\n",
      "Requirement already satisfied: torchdata==0.6.1 in /usr/local/lib/python3.10/dist-packages (from torchtext==0.15.2) (0.6.1)\n",
      "Requirement already satisfied: urllib3>=1.25 in /usr/local/lib/python3.10/dist-packages (from torchdata==0.6.1->torchtext==0.15.2) (2.2.3)\n",
      "Requirement already satisfied: cmake in /usr/local/lib/python3.10/dist-packages (from triton==2.0.0->torch==2.0.1+cu118) (3.30.3)\n",
      "Requirement already satisfied: lit in /usr/local/lib/python3.10/dist-packages (from triton==2.0.0->torch==2.0.1+cu118) (15.0.7)\n",
      "Requirement already satisfied: MarkupSafe>=2.0 in /usr/local/lib/python3.10/dist-packages (from jinja2->torch==2.0.1+cu118) (2.1.5)\n",
      "Requirement already satisfied: charset-normalizer<4,>=2 in /usr/local/lib/python3.10/dist-packages (from requests->torchvision==0.15.2+cu118) (3.3.2)\n",
      "Requirement already satisfied: idna<4,>=2.5 in /usr/local/lib/python3.10/dist-packages (from requests->torchvision==0.15.2+cu118) (3.10)\n",
      "Requirement already satisfied: certifi>=2017.4.17 in /usr/local/lib/python3.10/dist-packages (from requests->torchvision==0.15.2+cu118) (2024.8.30)\n",
      "Requirement already satisfied: mpmath<1.4,>=1.1.0 in /usr/local/lib/python3.10/dist-packages (from sympy->torch==2.0.1+cu118) (1.3.0)\n"
     ]
    }
   ],
   "source": [
    "!pip install torchmetrics\n",
    "!pip install datasets\n",
    "!pip install portalocker\n",
    "!pip install torchtext\n",
    "!pip install torch==2.0.1+cu118 torchvision==0.15.2+cu118 torchtext==0.15.2 --index-url https://download.pytorch.org/whl/cu118\n"
   ]
  },
  {
   "cell_type": "code",
   "execution_count": 58,
   "metadata": {
    "execution": {
     "iopub.execute_input": "2024-12-26T15:39:41.031755Z",
     "iopub.status.busy": "2024-12-26T15:39:41.031455Z",
     "iopub.status.idle": "2024-12-26T15:39:41.036509Z",
     "shell.execute_reply": "2024-12-26T15:39:41.035557Z",
     "shell.execute_reply.started": "2024-12-26T15:39:41.031728Z"
    },
    "id": "vhlVJEkJeTsV",
    "trusted": true
   },
   "outputs": [],
   "source": [
    "import numpy as np\n",
    "import matplotlib.pyplot as plt\n",
    "\n",
    "import torch\n",
    "from torch import nn\n",
    "from torch.utils.data import DataLoader, Dataset\n",
    "import torchtext\n",
    "from torch import optim\n",
    "from torch.nn import functional as F\n",
    "\n",
    "import tqdm\n",
    "import torchmetrics as tm"
   ]
  },
  {
   "cell_type": "code",
   "execution_count": 59,
   "metadata": {
    "colab": {
     "base_uri": "https://localhost:8080/"
    },
    "execution": {
     "iopub.execute_input": "2024-12-26T15:39:41.038084Z",
     "iopub.status.busy": "2024-12-26T15:39:41.037810Z",
     "iopub.status.idle": "2024-12-26T15:39:41.241205Z",
     "shell.execute_reply": "2024-12-26T15:39:41.240148Z",
     "shell.execute_reply.started": "2024-12-26T15:39:41.038057Z"
    },
    "id": "DEzYlyeqTZqQ",
    "outputId": "5b5ffac6-1ffa-4dc1-96b7-d7455bc6c5c1",
    "trusted": true
   },
   "outputs": [
    {
     "name": "stdout",
     "output_type": "stream",
     "text": [
      "Python 3.10.12\n",
      "2.0.1+cu118\n",
      "0.15.2+cpu\n"
     ]
    }
   ],
   "source": [
    "!python --version\n",
    "print(torch.__version__)\n",
    "print(torchtext.__version__)"
   ]
  },
  {
   "cell_type": "code",
   "execution_count": 60,
   "metadata": {
    "colab": {
     "base_uri": "https://localhost:8080/"
    },
    "execution": {
     "iopub.execute_input": "2024-12-26T15:39:41.243236Z",
     "iopub.status.busy": "2024-12-26T15:39:41.242979Z",
     "iopub.status.idle": "2024-12-26T15:39:41.249304Z",
     "shell.execute_reply": "2024-12-26T15:39:41.248700Z",
     "shell.execute_reply.started": "2024-12-26T15:39:41.243211Z"
    },
    "id": "6DWjGTq6T8Jg",
    "outputId": "55aac9de-cc74-49ce-8c10-fe13caf8df3f",
    "trusted": true
   },
   "outputs": [
    {
     "name": "stdout",
     "output_type": "stream",
     "text": [
      "numpy --> 1.26.4\n",
      "torch --> 2.0.1+cu118\n",
      "torchtext --> 0.15.2+cpu\n",
      "tqdm --> 4.66.5\n"
     ]
    }
   ],
   "source": [
    "for lib in [np, torch, torchtext, tqdm]:\n",
    "  print(lib.__name__, '-->', lib.__version__)"
   ]
  },
  {
   "cell_type": "markdown",
   "metadata": {
    "id": "RwaY_YcgRayy"
   },
   "source": [
    "# 🔴 **Utils**"
   ]
  },
  {
   "cell_type": "code",
   "execution_count": 61,
   "metadata": {
    "execution": {
     "iopub.execute_input": "2024-12-26T15:39:41.250620Z",
     "iopub.status.busy": "2024-12-26T15:39:41.250287Z",
     "iopub.status.idle": "2024-12-26T15:39:41.263200Z",
     "shell.execute_reply": "2024-12-26T15:39:41.262530Z",
     "shell.execute_reply.started": "2024-12-26T15:39:41.250590Z"
    },
    "id": "8yMS7bbmRayz",
    "trusted": true
   },
   "outputs": [],
   "source": [
    "class AverageMeter(object):\n",
    "    \"\"\"Computes and stores the average and current value\"\"\"\n",
    "    def __init__(self):\n",
    "        self.reset()\n",
    "\n",
    "    def reset(self):\n",
    "        self.val = 0\n",
    "        self.avg = 0\n",
    "        self.sum = 0\n",
    "        self.count = 0\n",
    "\n",
    "    def update(self, val, n=1):\n",
    "        self.val = val\n",
    "        self.sum += val * n\n",
    "        self.count += n\n",
    "        self.avg = self.sum / self.count"
   ]
  },
  {
   "cell_type": "code",
   "execution_count": 62,
   "metadata": {
    "execution": {
     "iopub.execute_input": "2024-12-26T15:39:41.264312Z",
     "iopub.status.busy": "2024-12-26T15:39:41.264107Z",
     "iopub.status.idle": "2024-12-26T15:39:41.283117Z",
     "shell.execute_reply": "2024-12-26T15:39:41.282454Z",
     "shell.execute_reply.started": "2024-12-26T15:39:41.264294Z"
    },
    "id": "PpKbTUEIRayz",
    "trusted": true
   },
   "outputs": [],
   "source": [
    "def num_trainable_params(model):\n",
    "  nums = sum(p.numel() for p in model.parameters() if p.requires_grad)/1e6\n",
    "  return nums"
   ]
  },
  {
   "cell_type": "markdown",
   "metadata": {
    "id": "RTql4Ftiunfr"
   },
   "source": [
    "# 🔴 **Dataset**"
   ]
  },
  {
   "cell_type": "markdown",
   "metadata": {
    "id": "ujIVtjsYvxOI"
   },
   "source": [
    "## 🟠 **Load the Dataset**"
   ]
  },
  {
   "cell_type": "markdown",
   "metadata": {
    "id": "Ek9DpCNCChzF"
   },
   "source": [
    "🔰 In this session you should load WikiText2 dataset."
   ]
  },
  {
   "cell_type": "code",
   "execution_count": 63,
   "metadata": {
    "colab": {
     "base_uri": "https://localhost:8080/",
     "height": 369,
     "referenced_widgets": [
      "6639579f708c49ad92c63db4f4b3e178",
      "c48284d844cd4697a27c6ef14716157f",
      "fdd1742f3794447caa4dcee37b841a2a",
      "4f8c86b4ccdd4e71abec3554886811bd",
      "0506bae6eeaa4369b23011ccaf09c9fd",
      "2acad260e7e34f63a6acb415d678498e",
      "84b46f6152a8476d884480e7f811baa0",
      "1650344c8912469981513990103cfad8",
      "8af8eabc8df647e99d0b78685c881353",
      "5909093c0c02415a851a71ed72e9eb53",
      "08f446c22390465c8b4f4392c05562a1",
      "c031371157b34ed7a185138e7da7dd3b",
      "3d0ef4da4e83491a8cca395bfc250cbe",
      "766155723bc94868894682d8c308ca71",
      "0663252671264c4083c2462e81de8019",
      "8130c5d95cc24c8282f71948a98e00a8",
      "76c289944d4b4ab48758af0e90220117",
      "398ca63dd5bf4b1882c1511c66f787c5",
      "f3494e43c2e14d1a8673c72207437ba6",
      "e5c5b6e4d2dd474b8f0dc703051d29f1",
      "e40010a6a71c4f7da7d29a2234b69c3f",
      "9d3f0846b8b94464abad1fa80d62a2f9",
      "1c247d53dea444c6a3b5b75f9197db94",
      "ee6e1c20839543eda5ac492588b0935e",
      "25429cc093544ffea22970cad6cf58f3",
      "e34d924427df427b9774ede0e1e109a4",
      "6b22b3b45e4e4caa9983e808becb6d1f",
      "67cab4db04ce4ff09c81b5c480856da4",
      "f3505f9a4c254974b6360551a5e9d1b8",
      "6ad0159d612f45a5af56cc3d7e1c4ace",
      "f4072db21d1f488280d91272cbe9b933",
      "43b3d1e2750c4928a4dde774823bb2d9",
      "4b747316b05346a29ba018ee0cc5b9fd",
      "457ad62e127442608641368e298f98da",
      "067aa81b1bee49ba987d8e7c59b8319e",
      "b69fea95af254ad98a715c818fc1441d",
      "17c5be35f5d54b95b1da9bc2abcc222d",
      "9efab76f089d4a48b379541b389c90a2",
      "c0edba481b114eac8fb12fa1749c4fbe",
      "3d81617a0daf4776a034218de6156676",
      "2e1c18bcb8454832863b9fb9a0d85616",
      "25eaadf88ce341eb9b39113253339211",
      "53787872e79f4052adf9508c45bc04b5",
      "3ed9a004b556425792dcca21cf752445",
      "4a9709fd29e542a8a09207d76d00722b",
      "a2c1b59277e24d2ea0e023e778b6ba71",
      "6d3ed6f792c44384913cd6101c7a5979",
      "b4bab52a38ea4d098a92e5c8917c2f3c",
      "22924fe55c1d4fbf8e266ed6fe0c5083",
      "b68b13e35fea4658afd5e096d28bd0a3",
      "7b24b694acd045b9baee19dc6dab80d4",
      "046ae4c91a774d3ab6cdde20e862f195",
      "0033b196cd6e4fa0aa9a317626bab720",
      "fc5c8edb9f3b4ee8ad0ebb5e498fb5cb",
      "6df4dff1d3f84f26ade36329c47a4930",
      "675739223a15474fb6dbe0aa204561cd",
      "49a918fca3b948dc96bf8bf550d1c1ec",
      "5e79708e1b0243aa9436d62c414e1347",
      "3f7e51c69ff94785a9038923d073cc4d",
      "8437e70714b647c6872a5eea7220c9ed",
      "e230961ede8b4179adf21373c25103c6",
      "490f7867c43f4952b7efa1873cd7eefe",
      "b1faf29aa64b45e68fb992c3ded0a6c9",
      "0f4e91f5812d42d4a9e17df71b2f7ba0",
      "a902766d27fe45e0955f4517d316cab8",
      "af966d16d5054d6fbef47fae730b061f",
      "753bc2a818494ea284ce1230932631a7",
      "0f6142e328af4573817bc8d8b0195256",
      "f42d1c3333384e03994ecd94adca3cc1",
      "1f93c1830adc423b9d67ad70847743d1",
      "4ef749bc3173493d949767b8343d2e16",
      "d2852bbadb7243bdb23fc5d695665e96",
      "ad7a8831cfbd4218bdf338a8e59a880f",
      "54460740cf144413a71f943ecc4dda5f",
      "76f84566be4c41cf8ae9e47c992dab38",
      "97ae878981bc40a6ba05a72b74d6497c",
      "b3f86565c7274c78905be8dff12317ae"
     ]
    },
    "execution": {
     "iopub.execute_input": "2024-12-26T15:39:41.284220Z",
     "iopub.status.busy": "2024-12-26T15:39:41.283975Z",
     "iopub.status.idle": "2024-12-26T15:39:42.692469Z",
     "shell.execute_reply": "2024-12-26T15:39:42.691790Z",
     "shell.execute_reply.started": "2024-12-26T15:39:41.284201Z"
    },
    "id": "ShYpXvVzVmP6",
    "outputId": "728b85f9-a6f7-41fe-f1f6-fd57a530fe55",
    "trusted": true
   },
   "outputs": [],
   "source": [
    "from datasets import load_dataset\n",
    "dataset = load_dataset(\"wikitext\", \"wikitext-2-raw-v1\")\n"
   ]
  },
  {
   "cell_type": "markdown",
   "metadata": {
    "id": "wCi-ofSLCzop"
   },
   "source": [
    "## 🟠 **Build vocabulary and save it**"
   ]
  },
  {
   "cell_type": "markdown",
   "metadata": {
    "id": "L02PHFuyNRb3"
   },
   "source": [
    "🔰 In this section we need to:\n",
    "\n",
    "*   Define a tokenizer using `basic_english`\n",
    "*   Tokenize the dataset and collect tokens\n",
    "*   Build the vocabulary using `build_vocab_from_iterator`\n",
    "*   Manually insert special tokens and set the default index\n"
   ]
  },
  {
   "cell_type": "code",
   "execution_count": 64,
   "metadata": {
    "colab": {
     "base_uri": "https://localhost:8080/"
    },
    "execution": {
     "iopub.execute_input": "2024-12-26T15:39:42.695398Z",
     "iopub.status.busy": "2024-12-26T15:39:42.695155Z",
     "iopub.status.idle": "2024-12-26T15:39:45.127336Z",
     "shell.execute_reply": "2024-12-26T15:39:45.126474Z",
     "shell.execute_reply.started": "2024-12-26T15:39:42.695353Z"
    },
    "id": "dlJ6Q6xCVuf0",
    "outputId": "d3bc20a5-325d-4275-9465-7ab9b6301d58",
    "trusted": true
   },
   "outputs": [
    {
     "name": "stdout",
     "output_type": "stream",
     "text": [
      "Vocabulary size: 20925\n",
      "Sample tokens from training set: [['=', 'valkyria', 'chronicles', 'iii', '='], ['senjō', 'no', 'valkyria', '3', 'unrecorded', 'chronicles', '(', 'japanese', '戦場のヴァルキュリア3', ',', 'lit', '.', 'valkyria', 'of', 'the', 'battlefield', '3', ')', ',', 'commonly', 'referred', 'to', 'as', 'valkyria', 'chronicles', 'iii', 'outside', 'japan', ',', 'is', 'a', 'tactical', 'role', '@-@', 'playing', 'video', 'game', 'developed', 'by', 'sega', 'and', 'media', '.', 'vision', 'for', 'the', 'playstation', 'portable', '.', 'released', 'in', 'january', '2011', 'in', 'japan', ',', 'it', 'is', 'the', 'third', 'game', 'in', 'the', 'valkyria', 'series', '.', 'employing', 'the', 'same', 'fusion', 'of', 'tactical', 'and', 'real', '@-@', 'time', 'gameplay', 'as', 'its', 'predecessors', ',', 'the', 'story', 'runs', 'parallel', 'to', 'the', 'first', 'game', 'and', 'follows', 'the', 'nameless', ',', 'a', 'penal', 'military', 'unit', 'serving', 'the', 'nation', 'of', 'gallia', 'during', 'the', 'second', 'europan', 'war', 'who', 'perform', 'secret', 'black', 'operations', 'and', 'are', 'pitted', 'against', 'the', 'imperial', 'unit', 'calamaty', 'raven', '.']]\n",
      "Filtered token indices for the first training token: [12, 3874, 3890, 885, 12]\n"
     ]
    }
   ],
   "source": [
    "from collections import Counter\n",
    "from torchtext.vocab import build_vocab_from_iterator\n",
    "from torchtext.data.utils import get_tokenizer\n",
    "\n",
    "\n",
    "tokenizer = get_tokenizer(\"basic_english\")\n",
    "\n",
    "def tokenize_dataset(dataset_split):\n",
    "    return [tokenizer(line) for line in dataset_split[\"text\"] if line.strip()]\n",
    "\n",
    "train_tokens = tokenize_dataset(dataset[\"train\"])\n",
    "valid_tokens = tokenize_dataset(dataset[\"validation\"])\n",
    "test_tokens = tokenize_dataset(dataset[\"test\"])\n",
    "\n",
    "token_counter = Counter(token for tokens in train_tokens for token in tokens)\n",
    "\n",
    "\n",
    "def yield_tokens_with_freq(data_tokens, counter, threshold):\n",
    "    for tokens in data_tokens:\n",
    "        yield [token for token in tokens if counter[token] >= threshold]\n",
    "\n",
    "filtered_tokens = yield_tokens_with_freq(train_tokens, token_counter, 5)\n",
    "\n",
    "vocab = build_vocab_from_iterator(filtered_tokens, specials=[\"<unk>\", \"<pad>\", \"<bos>\", \"<eos>\"])\n",
    "vocab.set_default_index(vocab[\"<unk>\"])\n",
    "\n",
    "print(\"Vocabulary size:\", len(vocab))\n",
    "print(\"Sample tokens from training set:\", train_tokens[:2])\n",
    "print(\"Filtered token indices for the first training token:\", [vocab[token] for token in train_tokens[0] if token in vocab])\n"
   ]
  },
  {
   "cell_type": "markdown",
   "metadata": {
    "id": "B29jrEvwRqXA"
   },
   "source": [
    "## 🟠 EDA"
   ]
  },
  {
   "cell_type": "markdown",
   "metadata": {
    "id": "pHtoYxEPd3bL"
   },
   "source": [
    "### 🟡 Let's explore the WikiText2 dataset!"
   ]
  },
  {
   "cell_type": "markdown",
   "metadata": {
    "id": "A3rnR739GbYb"
   },
   "source": [
    "### 🟡 Calculate basic statistics such as the number of documents, total words, average document length, etc."
   ]
  },
  {
   "cell_type": "code",
   "execution_count": 65,
   "metadata": {
    "colab": {
     "base_uri": "https://localhost:8080/"
    },
    "execution": {
     "iopub.execute_input": "2024-12-26T15:39:45.129092Z",
     "iopub.status.busy": "2024-12-26T15:39:45.128842Z",
     "iopub.status.idle": "2024-12-26T15:39:46.506339Z",
     "shell.execute_reply": "2024-12-26T15:39:46.505471Z",
     "shell.execute_reply.started": "2024-12-26T15:39:45.129070Z"
    },
    "id": "jHVKeKwk2WaG",
    "outputId": "00774267-8204-4598-f83f-4e17e3bd7aa5",
    "trusted": true
   },
   "outputs": [
    {
     "name": "stdout",
     "output_type": "stream",
     "text": [
      "Train Statistics:\n",
      "  Number of Documents: 36718\n",
      "  Total Words: 2051665\n",
      "  Average Document Length: 55.88\n",
      "\n",
      "Validation Statistics:\n",
      "  Number of Documents: 3760\n",
      "  Total Words: 214665\n",
      "  Average Document Length: 57.09\n",
      "\n",
      "Test Statistics:\n",
      "  Number of Documents: 4358\n",
      "  Total Words: 242156\n",
      "  Average Document Length: 55.57\n",
      "\n"
     ]
    }
   ],
   "source": [
    "def calculate_statistics(dataset_split):\n",
    "    total_documents = len(dataset_split[\"text\"])\n",
    "    total_words = 0\n",
    "    document_lengths = []\n",
    "\n",
    "    for line in dataset_split[\"text\"]:\n",
    "        if line.strip():\n",
    "            tokens = tokenizer(line)\n",
    "            total_words += len(tokens)\n",
    "            document_lengths.append(len(tokens))\n",
    "\n",
    "    avg_document_length = total_words / total_documents if total_documents > 0 else 0\n",
    "    return total_documents, total_words, avg_document_length, document_lengths\n",
    "\n",
    "train_stats = calculate_statistics(dataset[\"train\"])\n",
    "valid_stats = calculate_statistics(dataset[\"validation\"])\n",
    "test_stats = calculate_statistics(dataset[\"test\"])\n",
    "\n",
    "def print_stats(split_name, stats):\n",
    "    total_documents, total_words, avg_document_length, _ = stats\n",
    "    print(f\"{split_name} Statistics:\")\n",
    "    print(f\"  Number of Documents: {total_documents}\")\n",
    "    print(f\"  Total Words: {total_words}\")\n",
    "    print(f\"  Average Document Length: {avg_document_length:.2f}\")\n",
    "    print()\n",
    "\n",
    "print_stats(\"Train\", train_stats)\n",
    "print_stats(\"Validation\", valid_stats)\n",
    "print_stats(\"Test\", test_stats)"
   ]
  },
  {
   "cell_type": "markdown",
   "metadata": {
    "id": "a4HyLPqcsF43"
   },
   "source": [
    "### 🟡 Analyze the most common and least common words in the dataset."
   ]
  },
  {
   "cell_type": "code",
   "execution_count": 66,
   "metadata": {
    "colab": {
     "base_uri": "https://localhost:8080/"
    },
    "execution": {
     "iopub.execute_input": "2024-12-26T15:39:46.507789Z",
     "iopub.status.busy": "2024-12-26T15:39:46.507446Z",
     "iopub.status.idle": "2024-12-26T15:39:47.838357Z",
     "shell.execute_reply": "2024-12-26T15:39:47.837387Z",
     "shell.execute_reply.started": "2024-12-26T15:39:46.507757Z"
    },
    "id": "cBnEjagdTN8n",
    "outputId": "8e39320a-1772-41e0-e4c9-603ee3639f71",
    "trusted": true
   },
   "outputs": [
    {
     "name": "stdout",
     "output_type": "stream",
     "text": [
      "Most Common Words:\n",
      "  the: 130770\n",
      "  ,: 102624\n",
      "  .: 84291\n",
      "  of: 57032\n",
      "  and: 50736\n",
      "  in: 45018\n",
      "  to: 39522\n",
      "  a: 36564\n",
      "  =: 29570\n",
      "  was: 21008\n",
      "\n",
      "Least Common Words:\n",
      "  calamaty: 1\n",
      "  forgiving: 1\n",
      "  unvoiced: 1\n",
      "  scanned: 1\n",
      "  boosts: 1\n",
      "  depleting: 1\n",
      "  reila: 1\n",
      "  shocktroopers: 1\n",
      "  thereon: 1\n",
      "  altaha: 1\n"
     ]
    }
   ],
   "source": [
    "def get_word_frequencies(dataset_split):\n",
    "    word_counter = Counter()\n",
    "\n",
    "    for line in dataset_split[\"text\"]:\n",
    "        if line.strip():\n",
    "            tokens = tokenizer(line)\n",
    "            word_counter.update(tokens)\n",
    "\n",
    "    return word_counter\n",
    "\n",
    "word_frequencies = get_word_frequencies(dataset[\"train\"])\n",
    "most_common_words = word_frequencies.most_common(10)\n",
    "\n",
    "least_common_words = [word for word, freq in word_frequencies.items() if freq == 1][:10]\n",
    "print(\"Most Common Words:\")\n",
    "for word, freq in most_common_words:\n",
    "    print(f\"  {word}: {freq}\")\n",
    "\n",
    "print(\"\\nLeast Common Words:\")\n",
    "for word in least_common_words:\n",
    "    print(f\"  {word}: 1\")"
   ]
  },
  {
   "cell_type": "markdown",
   "metadata": {
    "id": "cfBasjQCE_aI"
   },
   "source": [
    "### 🟡  Please proceed with further exploration of the dataset. what do you suggest?"
   ]
  },
  {
   "cell_type": "code",
   "execution_count": 67,
   "metadata": {
    "colab": {
     "base_uri": "https://localhost:8080/",
     "height": 0
    },
    "execution": {
     "iopub.execute_input": "2024-12-26T15:39:47.839665Z",
     "iopub.status.busy": "2024-12-26T15:39:47.839298Z",
     "iopub.status.idle": "2024-12-26T15:39:49.316734Z",
     "shell.execute_reply": "2024-12-26T15:39:49.315834Z",
     "shell.execute_reply.started": "2024-12-26T15:39:47.839629Z"
    },
    "id": "yR8uQsv4E_aJ",
    "outputId": "b0ea1c82-4a78-4217-da29-89f2adc6043c",
    "trusted": true
   },
   "outputs": [
    {
     "name": "stdout",
     "output_type": "stream",
     "text": [
      "Number of Rare Words: 26924\n"
     ]
    },
    {
     "data": {
      "image/png": "[encoded data removed]",
      "text/plain": [
       "<Figure size 1000x600 with 1 Axes>"
      ]
     },
     "metadata": {},
     "output_type": "display_data"
    },
    {
     "data": {
      "image/png": "[encoded data removed]",
      "text/plain": [
       "<Figure size 1000x600 with 1 Axes>"
      ]
     },
     "metadata": {},
     "output_type": "display_data"
    }
   ],
   "source": [
    "from collections import Counter\n",
    "word_counts = Counter()\n",
    "for tokens in train_tokens:\n",
    "    word_counts.update(tokens)\n",
    "rare_words = [word for word, count in word_counts.items() if count == 1]\n",
    "print(f\"Number of Rare Words: {len(rare_words)}\")\n",
    "# distributaion\n",
    "document_lengths = [len(tokens) for tokens in train_tokens]\n",
    "# document lengths\n",
    "plt.figure(figsize=(10, 6))\n",
    "plt.hist(document_lengths, bins=30)\n",
    "plt.title(\"Document Length Distribution\")\n",
    "plt.xlabel(\"Number of Words\")\n",
    "plt.ylabel(\"Number of Documents\")\n",
    "plt.show()\n",
    "# word frequencies\n",
    "frequencies = list(word_counts.values())\n",
    "plt.figure(figsize=(10, 6))\n",
    "plt.hist(frequencies, bins=50, log=True)\n",
    "plt.title(\"Word Frequency Distribution\")\n",
    "plt.xlabel(\"Frequency\")\n",
    "plt.ylabel(\"Count in log scale)\")\n",
    "plt.show()"
   ]
  },
  {
   "cell_type": "markdown",
   "metadata": {
    "id": "idRexFij4wgN"
   },
   "source": [
    "## 🟠 Transform the data"
   ]
  },
  {
   "cell_type": "markdown",
   "metadata": {
    "id": "2VjvBOtvHu2v"
   },
   "source": [
    "🛑 Make sure to perform the transformations on train, validation and test datasets."
   ]
  },
  {
   "cell_type": "markdown",
   "metadata": {
    "id": "ApisIcGeGSsJ"
   },
   "source": [
    "🔰 Reshape the dataset into an `N x B x L` or `M x L` format, where `N` represents the number of batches, `B` is the batch size, `L` is the length of a sample within each batch, and `M` is equal to `N x B`."
   ]
  },
  {
   "cell_type": "code",
   "execution_count": 68,
   "metadata": {
    "execution": {
     "iopub.execute_input": "2024-12-26T15:39:49.317722Z",
     "iopub.status.busy": "2024-12-26T15:39:49.317511Z",
     "iopub.status.idle": "2024-12-26T15:39:49.323531Z",
     "shell.execute_reply": "2024-12-26T15:39:49.322615Z",
     "shell.execute_reply.started": "2024-12-26T15:39:49.317703Z"
    },
    "id": "ocxM8YdsWH-1",
    "trusted": true
   },
   "outputs": [],
   "source": [
    "def data_process(raw_text_iter, vocab, tokenizer, batch_size, seq_len):\n",
    "    tokens = [vocab[token] for line in raw_text_iter for token in tokenizer(line) if line.strip()]\n",
    "    token_tensor = torch.tensor(tokens, dtype=torch.long)\n",
    "    total_tokens = (token_tensor.size(0) // (batch_size * seq_len)) * (batch_size * seq_len)\n",
    "    token_tensor = token_tensor[:total_tokens]\n",
    "    token_tensor = token_tensor.view(batch_size, -1)\n",
    "    inputs = token_tensor[:, :-1]  # Excluding last token\n",
    "    targets = token_tensor[:, 1:]  # Shifted inputs\n",
    "    inputs = inputs[:, :-(inputs.size(1) % seq_len)].view(batch_size, -1, seq_len).permute(1, 0, 2)\n",
    "    targets = targets[:, :-(targets.size(1) % seq_len)].view(batch_size, -1, seq_len).permute(1, 0, 2)\n",
    "    return inputs, targets\n"
   ]
  },
  {
   "cell_type": "code",
   "execution_count": 69,
   "metadata": {
    "colab": {
     "base_uri": "https://localhost:8080/"
    },
    "execution": {
     "iopub.execute_input": "2024-12-26T15:39:49.324651Z",
     "iopub.status.busy": "2024-12-26T15:39:49.324330Z",
     "iopub.status.idle": "2024-12-26T15:39:52.571837Z",
     "shell.execute_reply": "2024-12-26T15:39:52.570956Z",
     "shell.execute_reply.started": "2024-12-26T15:39:49.324628Z"
    },
    "id": "4GndG2B0WPIb",
    "outputId": "6122d903-994a-4570-bcbb-10875d650565",
    "trusted": true
   },
   "outputs": [
    {
     "name": "stdout",
     "output_type": "stream",
     "text": [
      "torch.Size([3204, 32, 20])\n",
      "torch.Size([334, 32, 20])\n",
      "torch.Size([377, 32, 20])\n"
     ]
    }
   ],
   "source": [
    "def prepare_datasets(train_iter, valid_iter, test_iter, vocab, tokenizer, batch_size, seq_len):\n",
    "    train_inputs, train_targets = data_process(train_iter, vocab, tokenizer, batch_size, seq_len)\n",
    "    valid_inputs, valid_targets = data_process(valid_iter, vocab, tokenizer, batch_size, seq_len)\n",
    "    test_inputs, test_targets = data_process(test_iter, vocab, tokenizer, batch_size, seq_len)\n",
    "    return (train_inputs, train_targets), (valid_inputs, valid_targets), (test_inputs, test_targets)\n",
    "batch_size = 32\n",
    "seq_len = 20\n",
    "(train_inputs, train_targets), (valid_inputs, valid_targets), (test_inputs, test_targets) = prepare_datasets(\n",
    "    train_iter=dataset[\"train\"][\"text\"],\n",
    "    valid_iter=dataset[\"validation\"][\"text\"],\n",
    "    test_iter=dataset[\"test\"][\"text\"],\n",
    "    vocab=vocab,\n",
    "    tokenizer=tokenizer,\n",
    "    batch_size=batch_size,\n",
    "    seq_len=seq_len\n",
    ")\n",
    "\n",
    "print(train_inputs.shape)\n",
    "print(valid_inputs.shape)\n",
    "print(test_inputs.shape)\n"
   ]
  },
  {
   "cell_type": "markdown",
   "metadata": {
    "id": "PgLgP04P4-aX"
   },
   "source": [
    "## 🟠 Custom dataset"
   ]
  },
  {
   "cell_type": "markdown",
   "metadata": {
    "id": "XkxH_IR2PBNq"
   },
   "source": [
    "🔰 Write a custom dataset class for LanguageModelDataset."
   ]
  },
  {
   "cell_type": "code",
   "execution_count": 70,
   "metadata": {
    "execution": {
     "iopub.execute_input": "2024-12-26T15:39:52.573080Z",
     "iopub.status.busy": "2024-12-26T15:39:52.572818Z",
     "iopub.status.idle": "2024-12-26T15:39:52.577393Z",
     "shell.execute_reply": "2024-12-26T15:39:52.576645Z",
     "shell.execute_reply.started": "2024-12-26T15:39:52.573057Z"
    },
    "id": "1cjpSkrtexap",
    "trusted": true
   },
   "outputs": [],
   "source": [
    "class LanguageModelDataset(Dataset):\n",
    "\n",
    "  def __init__(self, inputs, targets):\n",
    "    self.inputs = inputs\n",
    "    self.targets = targets\n",
    "\n",
    "  def __len__(self):\n",
    "    return self.inputs.shape[0]\n",
    "\n",
    "  def __getitem__(self, idx):\n",
    "    return self.inputs[idx], self.targets[idx]\n"
   ]
  },
  {
   "cell_type": "code",
   "execution_count": 71,
   "metadata": {
    "execution": {
     "iopub.execute_input": "2024-12-26T15:39:52.578533Z",
     "iopub.status.busy": "2024-12-26T15:39:52.578269Z",
     "iopub.status.idle": "2024-12-26T15:39:52.593186Z",
     "shell.execute_reply": "2024-12-26T15:39:52.592416Z",
     "shell.execute_reply.started": "2024-12-26T15:39:52.578502Z"
    },
    "id": "o0qUkL0CfQmr",
    "trusted": true
   },
   "outputs": [],
   "source": [
    "train_dataset = LanguageModelDataset(train_inputs, train_targets)\n",
    "valid_dataset = LanguageModelDataset(valid_inputs, valid_targets)\n",
    "test_dataset = LanguageModelDataset(test_inputs, test_targets)"
   ]
  },
  {
   "cell_type": "markdown",
   "metadata": {
    "id": "NCQjacybOfqV"
   },
   "source": [
    "## 🟠 Define a dataloader if needed"
   ]
  },
  {
   "cell_type": "markdown",
   "metadata": {
    "id": "HqKMEyFNS-1a"
   },
   "source": [
    "🔰 Write dataloaders for the training, validation, and test sets."
   ]
  },
  {
   "cell_type": "code",
   "execution_count": 72,
   "metadata": {
    "execution": {
     "iopub.execute_input": "2024-12-26T15:39:52.594286Z",
     "iopub.status.busy": "2024-12-26T15:39:52.594025Z",
     "iopub.status.idle": "2024-12-26T15:39:52.608750Z",
     "shell.execute_reply": "2024-12-26T15:39:52.607947Z",
     "shell.execute_reply.started": "2024-12-26T15:39:52.594259Z"
    },
    "id": "KMCJ3UMD0U_f",
    "trusted": true
   },
   "outputs": [],
   "source": [
    "train_loader = DataLoader(train_dataset, batch_size=1, shuffle=True)\n",
    "valid_loader = DataLoader(valid_dataset, batch_size=1, shuffle=False)\n",
    "test_loader = DataLoader(test_dataset, batch_size=1, shuffle=False)"
   ]
  },
  {
   "cell_type": "markdown",
   "metadata": {
    "id": "hVxTI6BzCDfs"
   },
   "source": [
    "<font color='green'> I set the batch size to 1 in the DataLoader so it ensures that each batch corresponds to one complete (B, L) group of sequences</font>"
   ]
  },
  {
   "cell_type": "markdown",
   "metadata": {
    "id": "3ttl0AK3Hvyh"
   },
   "source": [
    "# 🔴 **Model**"
   ]
  },
  {
   "cell_type": "markdown",
   "metadata": {
    "id": "06p-oBowTf-R"
   },
   "source": [
    "🔰 Use the following template to create a custom model.\n",
    "\n",
    "Your model should consist of three parts:\n",
    "\n",
    "*   an embedding layer\n",
    "*   an LSTM layer\n",
    "*   a fully connected layer"
   ]
  },
  {
   "cell_type": "code",
   "execution_count": 73,
   "metadata": {
    "execution": {
     "iopub.execute_input": "2024-12-26T15:39:52.609887Z",
     "iopub.status.busy": "2024-12-26T15:39:52.609612Z",
     "iopub.status.idle": "2024-12-26T15:39:52.623868Z",
     "shell.execute_reply": "2024-12-26T15:39:52.623222Z",
     "shell.execute_reply.started": "2024-12-26T15:39:52.609859Z"
    },
    "id": "ISnnHE0BMVqp",
    "trusted": true
   },
   "outputs": [],
   "source": [
    "class LanguageModel(nn.Module):\n",
    "\n",
    "  def __init__(self, vocab_size, embedding_dim, hidden_dim, num_layers, dropout_rate):\n",
    "    super(LanguageModel, self).__init__()\n",
    "    self.embedding = nn.Embedding(vocab_size, embedding_dim)\n",
    "    self.lstm = nn.LSTM(embedding_dim, hidden_dim, num_layers, batch_first=True, dropout=dropout_rate)\n",
    "    self.fc = nn.Linear(hidden_dim, vocab_size)\n",
    "    self.dropout = nn.Dropout(dropout_rate)\n",
    "  def forward(self, src):\n",
    "    embedded = self.embedding(src)\n",
    "    embedded = self.dropout(embedded)\n",
    "    lstm_out, _ = self.lstm(embedded)\n",
    "    output = self.fc(lstm_out)\n",
    "    return output\n"
   ]
  },
  {
   "cell_type": "code",
   "execution_count": 74,
   "metadata": {
    "execution": {
     "iopub.execute_input": "2024-12-26T15:39:52.624957Z",
     "iopub.status.busy": "2024-12-26T15:39:52.624686Z",
     "iopub.status.idle": "2024-12-26T15:39:52.784666Z",
     "shell.execute_reply": "2024-12-26T15:39:52.783768Z",
     "shell.execute_reply.started": "2024-12-26T15:39:52.624930Z"
    },
    "id": "2MgBVzorb9oQ",
    "trusted": true
   },
   "outputs": [],
   "source": [
    "vocab_size = len(vocab)\n",
    "embedding_dim = 128\n",
    "hidden_dim = 512\n",
    "num_layers = 3\n",
    "dropout_rate = 0.5\n",
    "\n",
    "model = LanguageModel(vocab_size, embedding_dim, hidden_dim, num_layers, dropout_rate)"
   ]
  },
  {
   "cell_type": "markdown",
   "metadata": {
    "id": "24qT-sgUO2-d"
   },
   "source": [
    "# 🔴 **Config**"
   ]
  },
  {
   "cell_type": "code",
   "execution_count": 75,
   "metadata": {
    "colab": {
     "base_uri": "https://localhost:8080/",
     "height": 36
    },
    "execution": {
     "iopub.execute_input": "2024-12-26T15:39:52.785766Z",
     "iopub.status.busy": "2024-12-26T15:39:52.785536Z",
     "iopub.status.idle": "2024-12-26T15:39:52.790890Z",
     "shell.execute_reply": "2024-12-26T15:39:52.790076Z",
     "shell.execute_reply.started": "2024-12-26T15:39:52.785746Z"
    },
    "id": "Ma28M5Z36gsq",
    "outputId": "2b8bb56e-51c8-47b8-de66-13a367846794",
    "trusted": true
   },
   "outputs": [
    {
     "data": {
      "text/plain": [
       "'cuda'"
      ]
     },
     "execution_count": 75,
     "metadata": {},
     "output_type": "execute_result"
    }
   ],
   "source": [
    "device = 'cuda' if torch.cuda.is_available() else 'cpu'\n",
    "device"
   ]
  },
  {
   "cell_type": "markdown",
   "metadata": {
    "id": "bwYDJKjuduUT"
   },
   "source": [
    "🔰 Define the optimizer, loss function, metrics and other necessary parameters in this section, and ensure the model is sent to the appropriate device."
   ]
  },
  {
   "cell_type": "code",
   "execution_count": 76,
   "metadata": {
    "execution": {
     "iopub.execute_input": "2024-12-26T15:39:52.791828Z",
     "iopub.status.busy": "2024-12-26T15:39:52.791599Z",
     "iopub.status.idle": "2024-12-26T15:39:52.831398Z",
     "shell.execute_reply": "2024-12-26T15:39:52.830795Z",
     "shell.execute_reply.started": "2024-12-26T15:39:52.791810Z"
    },
    "id": "9ubk3xKaIG6i",
    "trusted": true
   },
   "outputs": [],
   "source": [
    "from torchmetrics import Accuracy\n",
    "model.to(device)\n",
    "loss_fn = nn.CrossEntropyLoss()\n",
    "optimizer = optim.Adam(model.parameters(), lr=0.001)\n",
    "metric = Accuracy(task=\"multiclass\", num_classes=vocab_size).to(device)"
   ]
  },
  {
   "cell_type": "markdown",
   "metadata": {
    "id": "W0QNbC0YPCKZ"
   },
   "source": [
    "# 🔴 **Train ➰**"
   ]
  },
  {
   "cell_type": "markdown",
   "metadata": {
    "id": "yS6EF4HUhi5e"
   },
   "source": [
    "🔰 This is the template for train function, change it if needed."
   ]
  },
  {
   "cell_type": "code",
   "execution_count": 77,
   "metadata": {
    "execution": {
     "iopub.execute_input": "2024-12-26T15:39:52.832262Z",
     "iopub.status.busy": "2024-12-26T15:39:52.832073Z",
     "iopub.status.idle": "2024-12-26T15:39:52.838080Z",
     "shell.execute_reply": "2024-12-26T15:39:52.837204Z",
     "shell.execute_reply.started": "2024-12-26T15:39:52.832245Z"
    },
    "id": "WniOAgk0QyRI",
    "trusted": true
   },
   "outputs": [],
   "source": [
    "def train_one_epoch(model, train_loader, loss_fn, optimizer, metric, epoch=None):\n",
    "  model.train()\n",
    "  loss_train = AverageMeter()\n",
    "  metric.reset()\n",
    "\n",
    "  with tqdm.tqdm(train_loader, unit='batch') as tepoch:\n",
    "    for inputs, targets in tepoch:\n",
    "      if epoch:\n",
    "        tepoch.set_description(f'Epoch {epoch}')\n",
    "\n",
    "      inputs = inputs.squeeze(0).to(device)  #(B, L)\n",
    "      targets = targets.squeeze(0).to(device)  #(B, L)\n",
    "\n",
    "      outputs = model(inputs)\n",
    "      targets = targets.view(-1)\n",
    "      outputs = outputs.view(-1, outputs.size(-1))\n",
    "\n",
    "      loss = loss_fn(outputs, targets)\n",
    "\n",
    "      loss.backward()\n",
    "\n",
    "      optimizer.step()\n",
    "      optimizer.zero_grad()\n",
    "\n",
    "      loss_train.update(loss.item(), n=len(targets))\n",
    "      metric.update(outputs, targets)\n",
    "\n",
    "      tepoch.set_postfix(loss=loss_train.avg, metric=metric.compute().item())\n",
    "\n",
    "  return model, loss_train.avg, metric.compute().item()"
   ]
  },
  {
   "cell_type": "markdown",
   "metadata": {
    "id": "G9HgVWslPGsH"
   },
   "source": [
    "# 🔴 **Evaluation**"
   ]
  },
  {
   "cell_type": "markdown",
   "metadata": {
    "id": "TsszJ7GVj2l3"
   },
   "source": [
    "🔰 This is the template for evaluation function, change it if needed."
   ]
  },
  {
   "cell_type": "code",
   "execution_count": 78,
   "metadata": {
    "execution": {
     "iopub.execute_input": "2024-12-26T15:39:52.839083Z",
     "iopub.status.busy": "2024-12-26T15:39:52.838895Z",
     "iopub.status.idle": "2024-12-26T15:39:52.853802Z",
     "shell.execute_reply": "2024-12-26T15:39:52.853099Z",
     "shell.execute_reply.started": "2024-12-26T15:39:52.839066Z"
    },
    "id": "uV0_67_ZQ0xf",
    "trusted": true
   },
   "outputs": [],
   "source": [
    "def evaluate(model, test_loader, loss_fn, metric):\n",
    "  model.eval()\n",
    "  loss_eval = AverageMeter()\n",
    "  metric.reset()\n",
    "\n",
    "  with torch.inference_mode():\n",
    "    for inputs, targets in test_loader:\n",
    "      inputs = inputs.squeeze(0).to(device)  #(B, L)\n",
    "      targets = targets.squeeze(0).to(device)  #(B, L)\n",
    "      outputs = model(inputs)\n",
    "      targets = targets.view(-1)\n",
    "      outputs = outputs.view(-1, outputs.size(-1))\n",
    "      loss = loss_fn(outputs, targets)\n",
    "      loss_eval.update(loss.item(), n=len(targets))\n",
    "\n",
    "      metric(outputs, targets)\n",
    "\n",
    "  return loss_eval.avg, metric.compute().item()"
   ]
  },
  {
   "cell_type": "markdown",
   "metadata": {
    "id": "o_5f69nwPtY2"
   },
   "source": [
    "# 🔴 **Training Process 〽️**"
   ]
  },
  {
   "cell_type": "markdown",
   "metadata": {
    "id": "De7VreNxQdct"
   },
   "source": [
    "## 🟠 Finding Hyper-parameters"
   ]
  },
  {
   "cell_type": "markdown",
   "metadata": {
    "id": "lpJ3wtyctQJH"
   },
   "source": [
    "### 🟡 **Step 1:** Calculate the loss for an untrained model using a few batches.\n"
   ]
  },
  {
   "cell_type": "code",
   "execution_count": 79,
   "metadata": {
    "colab": {
     "base_uri": "https://localhost:8080/"
    },
    "execution": {
     "iopub.execute_input": "2024-12-26T15:39:52.857731Z",
     "iopub.status.busy": "2024-12-26T15:39:52.857527Z",
     "iopub.status.idle": "2024-12-26T15:39:53.042649Z",
     "shell.execute_reply": "2024-12-26T15:39:53.041831Z",
     "shell.execute_reply.started": "2024-12-26T15:39:52.857713Z"
    },
    "id": "QnE4F4GkzzaR",
    "outputId": "768a0f24-4798-46f3-c660-b9a2cbeaad5d",
    "trusted": true
   },
   "outputs": [
    {
     "name": "stdout",
     "output_type": "stream",
     "text": [
      "tensor(9.9436, device='cuda:0')\n"
     ]
    }
   ],
   "source": [
    "model = LanguageModel(vocab_size, embedding_dim, hidden_dim, num_layers, dropout_rate)\n",
    "model = model.to(device)\n",
    "\n",
    "inputs, targets = next(iter(train_loader))  #(1, B, L)\n",
    "inputs = inputs.squeeze(0).to(device)       #(B, L)\n",
    "targets = targets.squeeze(0).to(device)\n",
    "\n",
    "with torch.no_grad():\n",
    "  outputs = model(inputs)\n",
    "  outputs = outputs.view(-1, outputs.size(-1))\n",
    "  targets = targets.view(-1)\n",
    "  loss = loss_fn(outputs, targets)\n",
    "print(loss)"
   ]
  },
  {
   "cell_type": "markdown",
   "metadata": {
    "id": "BrHQCv7q7LF_"
   },
   "source": [
    "### 🟡 **Step 2:** Try to train and overfit the model on a small subset of the dataset."
   ]
  },
  {
   "cell_type": "code",
   "execution_count": 80,
   "metadata": {
    "execution": {
     "iopub.execute_input": "2024-12-26T15:39:53.044116Z",
     "iopub.status.busy": "2024-12-26T15:39:53.043897Z",
     "iopub.status.idle": "2024-12-26T15:39:53.213059Z",
     "shell.execute_reply": "2024-12-26T15:39:53.212274Z",
     "shell.execute_reply.started": "2024-12-26T15:39:53.044096Z"
    },
    "id": "G0ji0MXsWaPt",
    "trusted": true
   },
   "outputs": [],
   "source": [
    "model = LanguageModel(vocab_size, embedding_dim, hidden_dim, num_layers, dropout_rate)\n",
    "model = model.to(device)\n",
    "optimizer = torch.optim.SGD(model.parameters(), lr=0.1, momentum=0.9)"
   ]
  },
  {
   "cell_type": "code",
   "execution_count": 81,
   "metadata": {
    "execution": {
     "iopub.execute_input": "2024-12-26T15:39:53.214136Z",
     "iopub.status.busy": "2024-12-26T15:39:53.213842Z",
     "iopub.status.idle": "2024-12-26T15:39:53.220333Z",
     "shell.execute_reply": "2024-12-26T15:39:53.219365Z",
     "shell.execute_reply.started": "2024-12-26T15:39:53.214106Z"
    },
    "id": "kPRZQpPWJ2qv",
    "trusted": true
   },
   "outputs": [],
   "source": [
    "loss_fn = nn.CrossEntropyLoss()\n",
    "metric = Accuracy(task=\"multiclass\", num_classes=vocab_size).to(device)\n",
    "small_train_inputs = train_inputs[:5]\n",
    "small_train_targets = train_targets[:5]\n",
    "small_train_dataset = LanguageModelDataset(small_train_inputs, small_train_targets)\n",
    "small_train_loader = DataLoader(small_train_dataset, batch_size=1, shuffle=False)"
   ]
  },
  {
   "cell_type": "code",
   "execution_count": 82,
   "metadata": {
    "colab": {
     "base_uri": "https://localhost:8080/"
    },
    "execution": {
     "iopub.execute_input": "2024-12-26T15:39:53.221445Z",
     "iopub.status.busy": "2024-12-26T15:39:53.221200Z",
     "iopub.status.idle": "2024-12-26T16:00:50.734386Z",
     "shell.execute_reply": "2024-12-26T16:00:50.733511Z",
     "shell.execute_reply.started": "2024-12-26T15:39:53.221419Z"
    },
    "id": "bNrg4d9hWaPt",
    "outputId": "98e4de22-9724-42ee-dbc3-31d3c3d0ae95",
    "trusted": true
   },
   "outputs": [
    {
     "name": "stderr",
     "output_type": "stream",
     "text": [
      "100%|██████████| 3204/3204 [00:59<00:00, 53.53batch/s, loss=6.62, metric=0.105] \n"
     ]
    },
    {
     "name": "stdout",
     "output_type": "stream",
     "text": [
      "Epoch 1: Loss = 6.6203, Accuracy = 0.1046\n"
     ]
    },
    {
     "name": "stderr",
     "output_type": "stream",
     "text": [
      "Epoch 1: 100%|██████████| 3204/3204 [01:02<00:00, 50.89batch/s, loss=6.14, metric=0.148]\n"
     ]
    },
    {
     "name": "stdout",
     "output_type": "stream",
     "text": [
      "Epoch 2: Loss = 6.1414, Accuracy = 0.1479\n"
     ]
    },
    {
     "name": "stderr",
     "output_type": "stream",
     "text": [
      "Epoch 2: 100%|██████████| 3204/3204 [01:02<00:00, 50.88batch/s, loss=5.97, metric=0.158]\n"
     ]
    },
    {
     "name": "stdout",
     "output_type": "stream",
     "text": [
      "Epoch 3: Loss = 5.9700, Accuracy = 0.1579\n"
     ]
    },
    {
     "name": "stderr",
     "output_type": "stream",
     "text": [
      "Epoch 3: 100%|██████████| 3204/3204 [01:02<00:00, 50.86batch/s, loss=5.86, metric=0.164]\n"
     ]
    },
    {
     "name": "stdout",
     "output_type": "stream",
     "text": [
      "Epoch 4: Loss = 5.8621, Accuracy = 0.1637\n"
     ]
    },
    {
     "name": "stderr",
     "output_type": "stream",
     "text": [
      "Epoch 4: 100%|██████████| 3204/3204 [01:02<00:00, 50.88batch/s, loss=5.78, metric=0.168]\n"
     ]
    },
    {
     "name": "stdout",
     "output_type": "stream",
     "text": [
      "Epoch 5: Loss = 5.7808, Accuracy = 0.1681\n"
     ]
    },
    {
     "name": "stderr",
     "output_type": "stream",
     "text": [
      "Epoch 5: 100%|██████████| 3204/3204 [01:02<00:00, 50.91batch/s, loss=5.71, metric=0.171]\n"
     ]
    },
    {
     "name": "stdout",
     "output_type": "stream",
     "text": [
      "Epoch 6: Loss = 5.7142, Accuracy = 0.1712\n"
     ]
    },
    {
     "name": "stderr",
     "output_type": "stream",
     "text": [
      "Epoch 6: 100%|██████████| 3204/3204 [01:03<00:00, 50.84batch/s, loss=5.66, metric=0.174]\n"
     ]
    },
    {
     "name": "stdout",
     "output_type": "stream",
     "text": [
      "Epoch 7: Loss = 5.6571, Accuracy = 0.1741\n"
     ]
    },
    {
     "name": "stderr",
     "output_type": "stream",
     "text": [
      "Epoch 7: 100%|██████████| 3204/3204 [01:02<00:00, 50.88batch/s, loss=5.61, metric=0.177]\n"
     ]
    },
    {
     "name": "stdout",
     "output_type": "stream",
     "text": [
      "Epoch 8: Loss = 5.6061, Accuracy = 0.1766\n"
     ]
    },
    {
     "name": "stderr",
     "output_type": "stream",
     "text": [
      "Epoch 8: 100%|██████████| 3204/3204 [01:03<00:00, 50.85batch/s, loss=5.56, metric=0.179]\n"
     ]
    },
    {
     "name": "stdout",
     "output_type": "stream",
     "text": [
      "Epoch 9: Loss = 5.5608, Accuracy = 0.1788\n"
     ]
    },
    {
     "name": "stderr",
     "output_type": "stream",
     "text": [
      "Epoch 9: 100%|██████████| 3204/3204 [01:02<00:00, 50.87batch/s, loss=5.52, metric=0.181]\n"
     ]
    },
    {
     "name": "stdout",
     "output_type": "stream",
     "text": [
      "Epoch 10: Loss = 5.5195, Accuracy = 0.1806\n"
     ]
    },
    {
     "name": "stderr",
     "output_type": "stream",
     "text": [
      "Epoch 10: 100%|██████████| 3204/3204 [01:03<00:00, 50.85batch/s, loss=5.48, metric=0.182]\n"
     ]
    },
    {
     "name": "stdout",
     "output_type": "stream",
     "text": [
      "Epoch 11: Loss = 5.4810, Accuracy = 0.1825\n"
     ]
    },
    {
     "name": "stderr",
     "output_type": "stream",
     "text": [
      "Epoch 11: 100%|██████████| 3204/3204 [01:03<00:00, 50.79batch/s, loss=5.45, metric=0.184]\n"
     ]
    },
    {
     "name": "stdout",
     "output_type": "stream",
     "text": [
      "Epoch 12: Loss = 5.4454, Accuracy = 0.1842\n"
     ]
    },
    {
     "name": "stderr",
     "output_type": "stream",
     "text": [
      "Epoch 12: 100%|██████████| 3204/3204 [01:03<00:00, 50.57batch/s, loss=5.41, metric=0.186]\n"
     ]
    },
    {
     "name": "stdout",
     "output_type": "stream",
     "text": [
      "Epoch 13: Loss = 5.4118, Accuracy = 0.1857\n"
     ]
    },
    {
     "name": "stderr",
     "output_type": "stream",
     "text": [
      "Epoch 13: 100%|██████████| 3204/3204 [01:03<00:00, 50.83batch/s, loss=5.38, metric=0.187]\n"
     ]
    },
    {
     "name": "stdout",
     "output_type": "stream",
     "text": [
      "Epoch 14: Loss = 5.3805, Accuracy = 0.1871\n"
     ]
    },
    {
     "name": "stderr",
     "output_type": "stream",
     "text": [
      "Epoch 14: 100%|██████████| 3204/3204 [01:03<00:00, 50.79batch/s, loss=5.35, metric=0.188]\n"
     ]
    },
    {
     "name": "stdout",
     "output_type": "stream",
     "text": [
      "Epoch 15: Loss = 5.3503, Accuracy = 0.1881\n"
     ]
    },
    {
     "name": "stderr",
     "output_type": "stream",
     "text": [
      "Epoch 15: 100%|██████████| 3204/3204 [01:03<00:00, 50.81batch/s, loss=5.32, metric=0.189]\n"
     ]
    },
    {
     "name": "stdout",
     "output_type": "stream",
     "text": [
      "Epoch 16: Loss = 5.3220, Accuracy = 0.1892\n"
     ]
    },
    {
     "name": "stderr",
     "output_type": "stream",
     "text": [
      "Epoch 16: 100%|██████████| 3204/3204 [01:03<00:00, 50.82batch/s, loss=5.29, metric=0.191]\n"
     ]
    },
    {
     "name": "stdout",
     "output_type": "stream",
     "text": [
      "Epoch 17: Loss = 5.2950, Accuracy = 0.1905\n"
     ]
    },
    {
     "name": "stderr",
     "output_type": "stream",
     "text": [
      "Epoch 17: 100%|██████████| 3204/3204 [01:03<00:00, 50.85batch/s, loss=5.27, metric=0.191]\n"
     ]
    },
    {
     "name": "stdout",
     "output_type": "stream",
     "text": [
      "Epoch 18: Loss = 5.2690, Accuracy = 0.1915\n"
     ]
    },
    {
     "name": "stderr",
     "output_type": "stream",
     "text": [
      "Epoch 18: 100%|██████████| 3204/3204 [01:03<00:00, 50.85batch/s, loss=5.24, metric=0.193]\n"
     ]
    },
    {
     "name": "stdout",
     "output_type": "stream",
     "text": [
      "Epoch 19: Loss = 5.2425, Accuracy = 0.1927\n"
     ]
    },
    {
     "name": "stderr",
     "output_type": "stream",
     "text": [
      "Epoch 19: 100%|██████████| 3204/3204 [01:03<00:00, 50.79batch/s, loss=5.22, metric=0.194]"
     ]
    },
    {
     "name": "stdout",
     "output_type": "stream",
     "text": [
      "Epoch 20: Loss = 5.2187, Accuracy = 0.1935\n"
     ]
    },
    {
     "name": "stderr",
     "output_type": "stream",
     "text": [
      "\n"
     ]
    }
   ],
   "source": [
    "num_epochs = 20\n",
    "for epoch in range(num_epochs):\n",
    "    model, avg_loss, train_accuracy = train_one_epoch(\n",
    "        model=model,\n",
    "        train_loader=train_loader,\n",
    "        loss_fn=loss_fn,\n",
    "        optimizer=optimizer,\n",
    "        metric=metric,\n",
    "        epoch=epoch\n",
    "    )\n",
    "    print(f\"Epoch {epoch + 1}: Loss = {avg_loss:.4f}, Accuracy = {train_accuracy:.4f}\")"
   ]
  },
  {
   "cell_type": "markdown",
   "metadata": {
    "id": "BLT4w0ZfAhlJ"
   },
   "source": [
    "### 🟡 **Step 3:** Train the model for a limited number of epochs, experimenting with various learning rates."
   ]
  },
  {
   "cell_type": "code",
   "execution_count": 83,
   "metadata": {
    "colab": {
     "base_uri": "https://localhost:8080/"
    },
    "execution": {
     "iopub.execute_input": "2024-12-26T16:00:50.735709Z",
     "iopub.status.busy": "2024-12-26T16:00:50.735427Z",
     "iopub.status.idle": "2024-12-26T16:00:54.333303Z",
     "shell.execute_reply": "2024-12-26T16:00:54.332576Z",
     "shell.execute_reply.started": "2024-12-26T16:00:50.735673Z"
    },
    "id": "Jxz5DXoj61mg",
    "outputId": "6499e351-5574-4813-d3ff-938b807636fc",
    "trusted": true
   },
   "outputs": [
    {
     "name": "stdout",
     "output_type": "stream",
     "text": [
      "Testing Learning Rate: 0.01\n"
     ]
    },
    {
     "name": "stderr",
     "output_type": "stream",
     "text": [
      "100%|██████████| 5/5 [00:00<00:00, 53.17batch/s, loss=9.95, metric=0]\n"
     ]
    },
    {
     "name": "stdout",
     "output_type": "stream",
     "text": [
      "Epoch 1: Loss = 9.9476, Accuracy = 0.0000\n"
     ]
    },
    {
     "name": "stderr",
     "output_type": "stream",
     "text": [
      "Epoch 1: 100%|██████████| 5/5 [00:00<00:00, 50.88batch/s, loss=9.94, metric=0]\n"
     ]
    },
    {
     "name": "stdout",
     "output_type": "stream",
     "text": [
      "Epoch 2: Loss = 9.9435, Accuracy = 0.0000\n"
     ]
    },
    {
     "name": "stderr",
     "output_type": "stream",
     "text": [
      "Epoch 2: 100%|██████████| 5/5 [00:00<00:00, 49.53batch/s, loss=9.94, metric=0.00875]\n"
     ]
    },
    {
     "name": "stdout",
     "output_type": "stream",
     "text": [
      "Epoch 3: Loss = 9.9372, Accuracy = 0.0088\n"
     ]
    },
    {
     "name": "stderr",
     "output_type": "stream",
     "text": [
      "Epoch 3: 100%|██████████| 5/5 [00:00<00:00, 49.33batch/s, loss=9.93, metric=0.0391]\n"
     ]
    },
    {
     "name": "stdout",
     "output_type": "stream",
     "text": [
      "Epoch 4: Loss = 9.9292, Accuracy = 0.0391\n"
     ]
    },
    {
     "name": "stderr",
     "output_type": "stream",
     "text": [
      "Epoch 4: 100%|██████████| 5/5 [00:00<00:00, 49.51batch/s, loss=9.92, metric=0.0434]\n"
     ]
    },
    {
     "name": "stdout",
     "output_type": "stream",
     "text": [
      "Epoch 5: Loss = 9.9203, Accuracy = 0.0434\n"
     ]
    },
    {
     "name": "stderr",
     "output_type": "stream",
     "text": [
      "Epoch 5: 100%|██████████| 5/5 [00:00<00:00, 49.46batch/s, loss=9.91, metric=0.0569]\n"
     ]
    },
    {
     "name": "stdout",
     "output_type": "stream",
     "text": [
      "Epoch 6: Loss = 9.9111, Accuracy = 0.0569\n"
     ]
    },
    {
     "name": "stderr",
     "output_type": "stream",
     "text": [
      "Epoch 6: 100%|██████████| 5/5 [00:00<00:00, 50.00batch/s, loss=9.9, metric=0.0647]\n"
     ]
    },
    {
     "name": "stdout",
     "output_type": "stream",
     "text": [
      "Epoch 7: Loss = 9.9015, Accuracy = 0.0647\n"
     ]
    },
    {
     "name": "stderr",
     "output_type": "stream",
     "text": [
      "Epoch 7: 100%|██████████| 5/5 [00:00<00:00, 50.34batch/s, loss=9.89, metric=0.0644]\n"
     ]
    },
    {
     "name": "stdout",
     "output_type": "stream",
     "text": [
      "Epoch 8: Loss = 9.8917, Accuracy = 0.0644\n"
     ]
    },
    {
     "name": "stderr",
     "output_type": "stream",
     "text": [
      "Epoch 8: 100%|██████████| 5/5 [00:00<00:00, 50.45batch/s, loss=9.88, metric=0.0644]\n"
     ]
    },
    {
     "name": "stdout",
     "output_type": "stream",
     "text": [
      "Epoch 9: Loss = 9.8815, Accuracy = 0.0644\n"
     ]
    },
    {
     "name": "stderr",
     "output_type": "stream",
     "text": [
      "Epoch 9: 100%|██████████| 5/5 [00:00<00:00, 51.04batch/s, loss=9.87, metric=0.0644]\n"
     ]
    },
    {
     "name": "stdout",
     "output_type": "stream",
     "text": [
      "Epoch 10: Loss = 9.8712, Accuracy = 0.0644\n",
      "\n",
      "Testing Learning Rate: 0.05\n"
     ]
    },
    {
     "name": "stderr",
     "output_type": "stream",
     "text": [
      "100%|██████████| 5/5 [00:00<00:00, 53.39batch/s, loss=9.94, metric=0.00219]\n"
     ]
    },
    {
     "name": "stdout",
     "output_type": "stream",
     "text": [
      "Epoch 1: Loss = 9.9397, Accuracy = 0.0022\n"
     ]
    },
    {
     "name": "stderr",
     "output_type": "stream",
     "text": [
      "Epoch 1: 100%|██████████| 5/5 [00:00<00:00, 50.85batch/s, loss=9.92, metric=0.0641]\n"
     ]
    },
    {
     "name": "stdout",
     "output_type": "stream",
     "text": [
      "Epoch 2: Loss = 9.9199, Accuracy = 0.0641\n"
     ]
    },
    {
     "name": "stderr",
     "output_type": "stream",
     "text": [
      "Epoch 2: 100%|██████████| 5/5 [00:00<00:00, 50.74batch/s, loss=9.89, metric=0.0644]\n"
     ]
    },
    {
     "name": "stdout",
     "output_type": "stream",
     "text": [
      "Epoch 3: Loss = 9.8876, Accuracy = 0.0644\n"
     ]
    },
    {
     "name": "stderr",
     "output_type": "stream",
     "text": [
      "Epoch 3: 100%|██████████| 5/5 [00:00<00:00, 50.98batch/s, loss=9.85, metric=0.0644]\n"
     ]
    },
    {
     "name": "stdout",
     "output_type": "stream",
     "text": [
      "Epoch 4: Loss = 9.8472, Accuracy = 0.0644\n"
     ]
    },
    {
     "name": "stderr",
     "output_type": "stream",
     "text": [
      "Epoch 4: 100%|██████████| 5/5 [00:00<00:00, 50.77batch/s, loss=9.8, metric=0.0644]\n"
     ]
    },
    {
     "name": "stdout",
     "output_type": "stream",
     "text": [
      "Epoch 5: Loss = 9.7991, Accuracy = 0.0644\n"
     ]
    },
    {
     "name": "stderr",
     "output_type": "stream",
     "text": [
      "Epoch 5: 100%|██████████| 5/5 [00:00<00:00, 50.82batch/s, loss=9.74, metric=0.0644]\n"
     ]
    },
    {
     "name": "stdout",
     "output_type": "stream",
     "text": [
      "Epoch 6: Loss = 9.7431, Accuracy = 0.0644\n"
     ]
    },
    {
     "name": "stderr",
     "output_type": "stream",
     "text": [
      "Epoch 6: 100%|██████████| 5/5 [00:00<00:00, 50.64batch/s, loss=9.67, metric=0.0644]\n"
     ]
    },
    {
     "name": "stdout",
     "output_type": "stream",
     "text": [
      "Epoch 7: Loss = 9.6749, Accuracy = 0.0644\n"
     ]
    },
    {
     "name": "stderr",
     "output_type": "stream",
     "text": [
      "Epoch 7: 100%|██████████| 5/5 [00:00<00:00, 50.76batch/s, loss=9.59, metric=0.0644]\n"
     ]
    },
    {
     "name": "stdout",
     "output_type": "stream",
     "text": [
      "Epoch 8: Loss = 9.5858, Accuracy = 0.0644\n"
     ]
    },
    {
     "name": "stderr",
     "output_type": "stream",
     "text": [
      "Epoch 8: 100%|██████████| 5/5 [00:00<00:00, 50.34batch/s, loss=9.46, metric=0.0644]\n"
     ]
    },
    {
     "name": "stdout",
     "output_type": "stream",
     "text": [
      "Epoch 9: Loss = 9.4569, Accuracy = 0.0644\n"
     ]
    },
    {
     "name": "stderr",
     "output_type": "stream",
     "text": [
      "Epoch 9: 100%|██████████| 5/5 [00:00<00:00, 50.04batch/s, loss=9.24, metric=0.0644]\n"
     ]
    },
    {
     "name": "stdout",
     "output_type": "stream",
     "text": [
      "Epoch 10: Loss = 9.2408, Accuracy = 0.0644\n",
      "\n",
      "Testing Learning Rate: 0.1\n"
     ]
    },
    {
     "name": "stderr",
     "output_type": "stream",
     "text": [
      "100%|██████████| 5/5 [00:00<00:00, 51.49batch/s, loss=9.94, metric=0.00938]\n"
     ]
    },
    {
     "name": "stdout",
     "output_type": "stream",
     "text": [
      "Epoch 1: Loss = 9.9434, Accuracy = 0.0094\n"
     ]
    },
    {
     "name": "stderr",
     "output_type": "stream",
     "text": [
      "Epoch 1: 100%|██████████| 5/5 [00:00<00:00, 48.52batch/s, loss=9.9, metric=0.0644]\n"
     ]
    },
    {
     "name": "stdout",
     "output_type": "stream",
     "text": [
      "Epoch 2: Loss = 9.9045, Accuracy = 0.0644\n"
     ]
    },
    {
     "name": "stderr",
     "output_type": "stream",
     "text": [
      "Epoch 2: 100%|██████████| 5/5 [00:00<00:00, 48.75batch/s, loss=9.84, metric=0.0644]\n"
     ]
    },
    {
     "name": "stdout",
     "output_type": "stream",
     "text": [
      "Epoch 3: Loss = 9.8392, Accuracy = 0.0644\n"
     ]
    },
    {
     "name": "stderr",
     "output_type": "stream",
     "text": [
      "Epoch 3: 100%|██████████| 5/5 [00:00<00:00, 49.07batch/s, loss=9.75, metric=0.0644]\n"
     ]
    },
    {
     "name": "stdout",
     "output_type": "stream",
     "text": [
      "Epoch 4: Loss = 9.7493, Accuracy = 0.0644\n"
     ]
    },
    {
     "name": "stderr",
     "output_type": "stream",
     "text": [
      "Epoch 4: 100%|██████████| 5/5 [00:00<00:00, 48.97batch/s, loss=9.62, metric=0.0644]\n"
     ]
    },
    {
     "name": "stdout",
     "output_type": "stream",
     "text": [
      "Epoch 5: Loss = 9.6219, Accuracy = 0.0644\n"
     ]
    },
    {
     "name": "stderr",
     "output_type": "stream",
     "text": [
      "Epoch 5: 100%|██████████| 5/5 [00:00<00:00, 48.80batch/s, loss=9.41, metric=0.0644]\n"
     ]
    },
    {
     "name": "stdout",
     "output_type": "stream",
     "text": [
      "Epoch 6: Loss = 9.4070, Accuracy = 0.0644\n"
     ]
    },
    {
     "name": "stderr",
     "output_type": "stream",
     "text": [
      "Epoch 6: 100%|██████████| 5/5 [00:00<00:00, 48.23batch/s, loss=8.92, metric=0.0644]\n"
     ]
    },
    {
     "name": "stdout",
     "output_type": "stream",
     "text": [
      "Epoch 7: Loss = 8.9202, Accuracy = 0.0644\n"
     ]
    },
    {
     "name": "stderr",
     "output_type": "stream",
     "text": [
      "Epoch 7: 100%|██████████| 5/5 [00:00<00:00, 48.82batch/s, loss=8.29, metric=0.0613]\n"
     ]
    },
    {
     "name": "stdout",
     "output_type": "stream",
     "text": [
      "Epoch 8: Loss = 8.2937, Accuracy = 0.0613\n"
     ]
    },
    {
     "name": "stderr",
     "output_type": "stream",
     "text": [
      "Epoch 8: 100%|██████████| 5/5 [00:00<00:00, 48.63batch/s, loss=7.96, metric=0.0378]\n"
     ]
    },
    {
     "name": "stdout",
     "output_type": "stream",
     "text": [
      "Epoch 9: Loss = 7.9606, Accuracy = 0.0378\n"
     ]
    },
    {
     "name": "stderr",
     "output_type": "stream",
     "text": [
      "Epoch 9: 100%|██████████| 5/5 [00:00<00:00, 49.07batch/s, loss=7.79, metric=0.0325]"
     ]
    },
    {
     "name": "stdout",
     "output_type": "stream",
     "text": [
      "Epoch 10: Loss = 7.7895, Accuracy = 0.0325\n",
      "\n"
     ]
    },
    {
     "name": "stderr",
     "output_type": "stream",
     "text": [
      "\n"
     ]
    }
   ],
   "source": [
    "import torch.optim as optim\n",
    "learning_rates = [0.01, 0.05, 0.1]\n",
    "num_epochs = 10\n",
    "\n",
    "for lr in learning_rates:\n",
    "    print(f\"Testing Learning Rate: {lr}\")\n",
    "    model = LanguageModel(vocab_size, embedding_dim, hidden_dim, num_layers, dropout_rate)\n",
    "    model = model.to(device)\n",
    "    optimizer = optim.SGD(model.parameters(), lr=lr, weight_decay=1e-4, momentum=0.9)\n",
    "    for epoch in range(num_epochs):\n",
    "        model, avg_loss, train_accuracy = train_one_epoch(\n",
    "            model=model,\n",
    "            train_loader=small_train_loader,\n",
    "            loss_fn=loss_fn,\n",
    "            optimizer=optimizer,\n",
    "            metric=metric,\n",
    "            epoch=epoch\n",
    "        )\n",
    "        print(f\"Epoch {epoch + 1}: Loss = {avg_loss:.4f}, Accuracy = {train_accuracy:.4f}\")\n",
    "    print()#next line\n"
   ]
  },
  {
   "cell_type": "markdown",
   "metadata": {
    "id": "uC2GhaXfA8vC"
   },
   "source": [
    "### 🟡 Step 4: Create a small grid using the weight decay and the best learning rate.\n",
    "\n",
    "\n",
    "\n"
   ]
  },
  {
   "cell_type": "code",
   "execution_count": 84,
   "metadata": {
    "colab": {
     "base_uri": "https://localhost:8080/"
    },
    "execution": {
     "iopub.execute_input": "2024-12-26T16:00:54.334473Z",
     "iopub.status.busy": "2024-12-26T16:00:54.334133Z",
     "iopub.status.idle": "2024-12-26T16:00:59.066269Z",
     "shell.execute_reply": "2024-12-26T16:00:59.065651Z",
     "shell.execute_reply.started": "2024-12-26T16:00:54.334439Z"
    },
    "id": "a7UeNW3WWaPu",
    "outputId": "432cdc5d-aa56-42e5-ac81-eae54962d9b4",
    "trusted": true
   },
   "outputs": [
    {
     "name": "stdout",
     "output_type": "stream",
     "text": [
      "Testing Grid: LR=0.05, WD=0\n"
     ]
    },
    {
     "name": "stderr",
     "output_type": "stream",
     "text": [
      "100%|██████████| 5/5 [00:00<00:00, 52.20batch/s, loss=9.95, metric=0]\n"
     ]
    },
    {
     "name": "stdout",
     "output_type": "stream",
     "text": [
      "Epoch 1: Loss = 9.9468, Accuracy = 0.0000\n"
     ]
    },
    {
     "name": "stderr",
     "output_type": "stream",
     "text": [
      "Epoch 1: 100%|██████████| 5/5 [00:00<00:00, 51.06batch/s, loss=9.93, metric=0.0569]\n"
     ]
    },
    {
     "name": "stdout",
     "output_type": "stream",
     "text": [
      "Epoch 2: Loss = 9.9269, Accuracy = 0.0569\n"
     ]
    },
    {
     "name": "stderr",
     "output_type": "stream",
     "text": [
      "Epoch 2: 100%|██████████| 5/5 [00:00<00:00, 52.61batch/s, loss=9.89, metric=0.0644]\n"
     ]
    },
    {
     "name": "stdout",
     "output_type": "stream",
     "text": [
      "Epoch 3: Loss = 9.8947, Accuracy = 0.0644\n"
     ]
    },
    {
     "name": "stderr",
     "output_type": "stream",
     "text": [
      "Epoch 3: 100%|██████████| 5/5 [00:00<00:00, 52.15batch/s, loss=9.85, metric=0.0644]\n"
     ]
    },
    {
     "name": "stdout",
     "output_type": "stream",
     "text": [
      "Epoch 4: Loss = 9.8541, Accuracy = 0.0644\n"
     ]
    },
    {
     "name": "stderr",
     "output_type": "stream",
     "text": [
      "Epoch 4: 100%|██████████| 5/5 [00:00<00:00, 51.80batch/s, loss=9.81, metric=0.0644]\n"
     ]
    },
    {
     "name": "stdout",
     "output_type": "stream",
     "text": [
      "Epoch 5: Loss = 9.8062, Accuracy = 0.0644\n"
     ]
    },
    {
     "name": "stderr",
     "output_type": "stream",
     "text": [
      "Epoch 5: 100%|██████████| 5/5 [00:00<00:00, 51.85batch/s, loss=9.75, metric=0.0644]\n"
     ]
    },
    {
     "name": "stdout",
     "output_type": "stream",
     "text": [
      "Epoch 6: Loss = 9.7501, Accuracy = 0.0644\n"
     ]
    },
    {
     "name": "stderr",
     "output_type": "stream",
     "text": [
      "Epoch 6: 100%|██████████| 5/5 [00:00<00:00, 51.70batch/s, loss=9.68, metric=0.0644]"
     ]
    },
    {
     "name": "stdout",
     "output_type": "stream",
     "text": [
      "Epoch 7: Loss = 9.6820, Accuracy = 0.0644\n"
     ]
    },
    {
     "name": "stderr",
     "output_type": "stream",
     "text": [
      "\n",
      "Epoch 7: 100%|██████████| 5/5 [00:00<00:00, 52.34batch/s, loss=9.59, metric=0.0644]\n"
     ]
    },
    {
     "name": "stdout",
     "output_type": "stream",
     "text": [
      "Epoch 8: Loss = 9.5930, Accuracy = 0.0644\n"
     ]
    },
    {
     "name": "stderr",
     "output_type": "stream",
     "text": [
      "Epoch 8: 100%|██████████| 5/5 [00:00<00:00, 52.08batch/s, loss=9.47, metric=0.0644]\n"
     ]
    },
    {
     "name": "stdout",
     "output_type": "stream",
     "text": [
      "Epoch 9: Loss = 9.4652, Accuracy = 0.0644\n"
     ]
    },
    {
     "name": "stderr",
     "output_type": "stream",
     "text": [
      "Epoch 9: 100%|██████████| 5/5 [00:00<00:00, 52.39batch/s, loss=9.25, metric=0.0644]\n"
     ]
    },
    {
     "name": "stdout",
     "output_type": "stream",
     "text": [
      "Epoch 10: Loss = 9.2534, Accuracy = 0.0644\n",
      "\n",
      "Testing Grid: LR=0.05, WD=0.0001\n"
     ]
    },
    {
     "name": "stderr",
     "output_type": "stream",
     "text": [
      "100%|██████████| 5/5 [00:00<00:00, 53.21batch/s, loss=9.94, metric=0.000312]\n"
     ]
    },
    {
     "name": "stdout",
     "output_type": "stream",
     "text": [
      "Epoch 1: Loss = 9.9434, Accuracy = 0.0003\n"
     ]
    },
    {
     "name": "stderr",
     "output_type": "stream",
     "text": [
      "Epoch 1: 100%|██████████| 5/5 [00:00<00:00, 50.94batch/s, loss=9.92, metric=0.04]\n"
     ]
    },
    {
     "name": "stdout",
     "output_type": "stream",
     "text": [
      "Epoch 2: Loss = 9.9241, Accuracy = 0.0400\n"
     ]
    },
    {
     "name": "stderr",
     "output_type": "stream",
     "text": [
      "Epoch 2: 100%|██████████| 5/5 [00:00<00:00, 50.48batch/s, loss=9.89, metric=0.0637]\n"
     ]
    },
    {
     "name": "stdout",
     "output_type": "stream",
     "text": [
      "Epoch 3: Loss = 9.8918, Accuracy = 0.0637\n"
     ]
    },
    {
     "name": "stderr",
     "output_type": "stream",
     "text": [
      "Epoch 3: 100%|██████████| 5/5 [00:00<00:00, 50.02batch/s, loss=9.85, metric=0.0644]\n"
     ]
    },
    {
     "name": "stdout",
     "output_type": "stream",
     "text": [
      "Epoch 4: Loss = 9.8510, Accuracy = 0.0644\n"
     ]
    },
    {
     "name": "stderr",
     "output_type": "stream",
     "text": [
      "Epoch 4: 100%|██████████| 5/5 [00:00<00:00, 50.22batch/s, loss=9.8, metric=0.0644]\n"
     ]
    },
    {
     "name": "stdout",
     "output_type": "stream",
     "text": [
      "Epoch 5: Loss = 9.8026, Accuracy = 0.0644\n"
     ]
    },
    {
     "name": "stderr",
     "output_type": "stream",
     "text": [
      "Epoch 5: 100%|██████████| 5/5 [00:00<00:00, 50.75batch/s, loss=9.74, metric=0.0644]\n"
     ]
    },
    {
     "name": "stdout",
     "output_type": "stream",
     "text": [
      "Epoch 6: Loss = 9.7447, Accuracy = 0.0644\n"
     ]
    },
    {
     "name": "stderr",
     "output_type": "stream",
     "text": [
      "Epoch 6: 100%|██████████| 5/5 [00:00<00:00, 50.63batch/s, loss=9.67, metric=0.0644]\n"
     ]
    },
    {
     "name": "stdout",
     "output_type": "stream",
     "text": [
      "Epoch 7: Loss = 9.6731, Accuracy = 0.0644\n"
     ]
    },
    {
     "name": "stderr",
     "output_type": "stream",
     "text": [
      "Epoch 7: 100%|██████████| 5/5 [00:00<00:00, 51.21batch/s, loss=9.58, metric=0.0644]\n"
     ]
    },
    {
     "name": "stdout",
     "output_type": "stream",
     "text": [
      "Epoch 8: Loss = 9.5774, Accuracy = 0.0644\n"
     ]
    },
    {
     "name": "stderr",
     "output_type": "stream",
     "text": [
      "Epoch 8: 100%|██████████| 5/5 [00:00<00:00, 50.20batch/s, loss=9.43, metric=0.0644]\n"
     ]
    },
    {
     "name": "stdout",
     "output_type": "stream",
     "text": [
      "Epoch 9: Loss = 9.4350, Accuracy = 0.0644\n"
     ]
    },
    {
     "name": "stderr",
     "output_type": "stream",
     "text": [
      "Epoch 9: 100%|██████████| 5/5 [00:00<00:00, 48.16batch/s, loss=9.19, metric=0.0644]\n"
     ]
    },
    {
     "name": "stdout",
     "output_type": "stream",
     "text": [
      "Epoch 10: Loss = 9.1895, Accuracy = 0.0644\n",
      "\n",
      "Testing Grid: LR=0.05, WD=0.001\n"
     ]
    },
    {
     "name": "stderr",
     "output_type": "stream",
     "text": [
      "100%|██████████| 5/5 [00:00<00:00, 51.30batch/s, loss=9.94, metric=0.000312]\n"
     ]
    },
    {
     "name": "stdout",
     "output_type": "stream",
     "text": [
      "Epoch 1: Loss = 9.9420, Accuracy = 0.0003\n"
     ]
    },
    {
     "name": "stderr",
     "output_type": "stream",
     "text": [
      "Epoch 1: 100%|██████████| 5/5 [00:00<00:00, 48.89batch/s, loss=9.92, metric=0.045]\n"
     ]
    },
    {
     "name": "stdout",
     "output_type": "stream",
     "text": [
      "Epoch 2: Loss = 9.9230, Accuracy = 0.0450\n"
     ]
    },
    {
     "name": "stderr",
     "output_type": "stream",
     "text": [
      "Epoch 2: 100%|██████████| 5/5 [00:00<00:00, 49.11batch/s, loss=9.89, metric=0.0644]\n"
     ]
    },
    {
     "name": "stdout",
     "output_type": "stream",
     "text": [
      "Epoch 3: Loss = 9.8909, Accuracy = 0.0644\n"
     ]
    },
    {
     "name": "stderr",
     "output_type": "stream",
     "text": [
      "Epoch 3: 100%|██████████| 5/5 [00:00<00:00, 48.42batch/s, loss=9.85, metric=0.0644]\n"
     ]
    },
    {
     "name": "stdout",
     "output_type": "stream",
     "text": [
      "Epoch 4: Loss = 9.8510, Accuracy = 0.0644\n"
     ]
    },
    {
     "name": "stderr",
     "output_type": "stream",
     "text": [
      "Epoch 4: 100%|██████████| 5/5 [00:00<00:00, 48.56batch/s, loss=9.8, metric=0.0644]\n"
     ]
    },
    {
     "name": "stdout",
     "output_type": "stream",
     "text": [
      "Epoch 5: Loss = 9.8039, Accuracy = 0.0644\n"
     ]
    },
    {
     "name": "stderr",
     "output_type": "stream",
     "text": [
      "Epoch 5: 100%|██████████| 5/5 [00:00<00:00, 50.66batch/s, loss=9.75, metric=0.0644]\n"
     ]
    },
    {
     "name": "stdout",
     "output_type": "stream",
     "text": [
      "Epoch 6: Loss = 9.7488, Accuracy = 0.0644\n"
     ]
    },
    {
     "name": "stderr",
     "output_type": "stream",
     "text": [
      "Epoch 6: 100%|██████████| 5/5 [00:00<00:00, 50.65batch/s, loss=9.68, metric=0.0644]\n"
     ]
    },
    {
     "name": "stdout",
     "output_type": "stream",
     "text": [
      "Epoch 7: Loss = 9.6818, Accuracy = 0.0644\n"
     ]
    },
    {
     "name": "stderr",
     "output_type": "stream",
     "text": [
      "Epoch 7: 100%|██████████| 5/5 [00:00<00:00, 51.02batch/s, loss=9.6, metric=0.0644]\n"
     ]
    },
    {
     "name": "stdout",
     "output_type": "stream",
     "text": [
      "Epoch 8: Loss = 9.5953, Accuracy = 0.0644\n"
     ]
    },
    {
     "name": "stderr",
     "output_type": "stream",
     "text": [
      "Epoch 8: 100%|██████████| 5/5 [00:00<00:00, 50.78batch/s, loss=9.47, metric=0.0644]\n"
     ]
    },
    {
     "name": "stdout",
     "output_type": "stream",
     "text": [
      "Epoch 9: Loss = 9.4722, Accuracy = 0.0644\n"
     ]
    },
    {
     "name": "stderr",
     "output_type": "stream",
     "text": [
      "Epoch 9: 100%|██████████| 5/5 [00:00<00:00, 51.10batch/s, loss=9.27, metric=0.0644]\n"
     ]
    },
    {
     "name": "stdout",
     "output_type": "stream",
     "text": [
      "Epoch 10: Loss = 9.2700, Accuracy = 0.0644\n",
      "\n",
      "Testing Grid: LR=0.05, WD=0.01\n"
     ]
    },
    {
     "name": "stderr",
     "output_type": "stream",
     "text": [
      "100%|██████████| 5/5 [00:00<00:00, 53.70batch/s, loss=9.94, metric=0]\n"
     ]
    },
    {
     "name": "stdout",
     "output_type": "stream",
     "text": [
      "Epoch 1: Loss = 9.9447, Accuracy = 0.0000\n"
     ]
    },
    {
     "name": "stderr",
     "output_type": "stream",
     "text": [
      "Epoch 1: 100%|██████████| 5/5 [00:00<00:00, 50.73batch/s, loss=9.92, metric=0.06]\n"
     ]
    },
    {
     "name": "stdout",
     "output_type": "stream",
     "text": [
      "Epoch 2: Loss = 9.9249, Accuracy = 0.0600\n"
     ]
    },
    {
     "name": "stderr",
     "output_type": "stream",
     "text": [
      "Epoch 2: 100%|██████████| 5/5 [00:00<00:00, 50.46batch/s, loss=9.89, metric=0.0644]\n"
     ]
    },
    {
     "name": "stdout",
     "output_type": "stream",
     "text": [
      "Epoch 3: Loss = 9.8935, Accuracy = 0.0644\n"
     ]
    },
    {
     "name": "stderr",
     "output_type": "stream",
     "text": [
      "Epoch 3: 100%|██████████| 5/5 [00:00<00:00, 51.23batch/s, loss=9.85, metric=0.0644]\n"
     ]
    },
    {
     "name": "stdout",
     "output_type": "stream",
     "text": [
      "Epoch 4: Loss = 9.8548, Accuracy = 0.0644\n"
     ]
    },
    {
     "name": "stderr",
     "output_type": "stream",
     "text": [
      "Epoch 4: 100%|██████████| 5/5 [00:00<00:00, 51.05batch/s, loss=9.81, metric=0.0644]\n"
     ]
    },
    {
     "name": "stdout",
     "output_type": "stream",
     "text": [
      "Epoch 5: Loss = 9.8109, Accuracy = 0.0644\n"
     ]
    },
    {
     "name": "stderr",
     "output_type": "stream",
     "text": [
      "Epoch 5: 100%|██████████| 5/5 [00:00<00:00, 50.99batch/s, loss=9.76, metric=0.0644]\n"
     ]
    },
    {
     "name": "stdout",
     "output_type": "stream",
     "text": [
      "Epoch 6: Loss = 9.7616, Accuracy = 0.0644\n"
     ]
    },
    {
     "name": "stderr",
     "output_type": "stream",
     "text": [
      "Epoch 6: 100%|██████████| 5/5 [00:00<00:00, 50.98batch/s, loss=9.7, metric=0.0644]\n"
     ]
    },
    {
     "name": "stdout",
     "output_type": "stream",
     "text": [
      "Epoch 7: Loss = 9.7049, Accuracy = 0.0644\n"
     ]
    },
    {
     "name": "stderr",
     "output_type": "stream",
     "text": [
      "Epoch 7: 100%|██████████| 5/5 [00:00<00:00, 50.84batch/s, loss=9.64, metric=0.0644]\n"
     ]
    },
    {
     "name": "stdout",
     "output_type": "stream",
     "text": [
      "Epoch 8: Loss = 9.6366, Accuracy = 0.0644\n"
     ]
    },
    {
     "name": "stderr",
     "output_type": "stream",
     "text": [
      "Epoch 8: 100%|██████████| 5/5 [00:00<00:00, 50.96batch/s, loss=9.55, metric=0.0644]\n"
     ]
    },
    {
     "name": "stdout",
     "output_type": "stream",
     "text": [
      "Epoch 9: Loss = 9.5479, Accuracy = 0.0644\n"
     ]
    },
    {
     "name": "stderr",
     "output_type": "stream",
     "text": [
      "Epoch 9: 100%|██████████| 5/5 [00:00<00:00, 50.96batch/s, loss=9.42, metric=0.0644]\n"
     ]
    },
    {
     "name": "stdout",
     "output_type": "stream",
     "text": [
      "Epoch 10: Loss = 9.4200, Accuracy = 0.0644\n",
      "\n"
     ]
    }
   ],
   "source": [
    "best_lr = 0.05\n",
    "weight_decays = [0, 1e-4, 1e-3, 1e-2]\n",
    "num_epochs = 10\n",
    "\n",
    "for lr in [best_lr]:\n",
    "    for wd in weight_decays:\n",
    "        print(f\"Testing Grid: LR={lr}, WD={wd}\")\n",
    "        model = LanguageModel(vocab_size, embedding_dim, hidden_dim, num_layers, dropout_rate)\n",
    "        model = model.to(device)\n",
    "        optimizer = optim.SGD(model.parameters(), lr=lr, weight_decay=wd, momentum=0.9)\n",
    "\n",
    "        for epoch in range(num_epochs):\n",
    "            model, avg_loss, train_accuracy = train_one_epoch(\n",
    "                model=model,\n",
    "                train_loader=small_train_loader,\n",
    "                loss_fn=loss_fn,\n",
    "                optimizer=optimizer,\n",
    "                metric=metric,\n",
    "                epoch=epoch\n",
    "            )\n",
    "            print(f\"Epoch {epoch + 1}: Loss = {avg_loss:.4f}, Accuracy = {train_accuracy:.4f}\")\n",
    "\n",
    "        print()\n"
   ]
  },
  {
   "cell_type": "markdown",
   "metadata": {
    "id": "Mjd9Z3N1ef3I"
   },
   "source": [
    "### 🟡 Step 5: Train model for longer epochs using the best model from step 4.\n",
    "\n",
    "\n",
    "\n"
   ]
  },
  {
   "cell_type": "code",
   "execution_count": 85,
   "metadata": {
    "execution": {
     "iopub.execute_input": "2024-12-26T16:00:59.067204Z",
     "iopub.status.busy": "2024-12-26T16:00:59.067002Z",
     "iopub.status.idle": "2024-12-26T16:00:59.230119Z",
     "shell.execute_reply": "2024-12-26T16:00:59.229441Z",
     "shell.execute_reply.started": "2024-12-26T16:00:59.067185Z"
    },
    "id": "IWgkMgC6JWpU",
    "trusted": true
   },
   "outputs": [],
   "source": [
    "model = LanguageModel(vocab_size, embedding_dim, hidden_dim, num_layers, dropout_rate)\n",
    "model = model.to(device)"
   ]
  },
  {
   "cell_type": "code",
   "execution_count": 86,
   "metadata": {
    "execution": {
     "iopub.execute_input": "2024-12-26T16:00:59.231199Z",
     "iopub.status.busy": "2024-12-26T16:00:59.230954Z",
     "iopub.status.idle": "2024-12-26T16:00:59.235552Z",
     "shell.execute_reply": "2024-12-26T16:00:59.234726Z",
     "shell.execute_reply.started": "2024-12-26T16:00:59.231176Z"
    },
    "id": "YVwLp-02JWpV",
    "trusted": true
   },
   "outputs": [],
   "source": [
    "lr = 0.05\n",
    "wd = 1e-3\n",
    "optimizer = optim.SGD(model.parameters(), lr=lr, weight_decay=wd, momentum=0.9, nesterov=True)"
   ]
  },
  {
   "cell_type": "code",
   "execution_count": 87,
   "metadata": {
    "execution": {
     "iopub.execute_input": "2024-12-26T16:00:59.236677Z",
     "iopub.status.busy": "2024-12-26T16:00:59.236336Z",
     "iopub.status.idle": "2024-12-26T16:00:59.251740Z",
     "shell.execute_reply": "2024-12-26T16:00:59.251036Z",
     "shell.execute_reply.started": "2024-12-26T16:00:59.236638Z"
    },
    "id": "zqxSVVB7JWpW",
    "trusted": true
   },
   "outputs": [],
   "source": [
    "loss_train_hist = []\n",
    "loss_valid_hist = []\n",
    "\n",
    "metric_train_hist = []\n",
    "metric_valid_hist = []\n",
    "\n",
    "best_loss_valid = torch.inf\n",
    "epoch_counter = 0"
   ]
  },
  {
   "cell_type": "code",
   "execution_count": 88,
   "metadata": {
    "colab": {
     "base_uri": "https://localhost:8080/",
     "height": 387
    },
    "execution": {
     "iopub.execute_input": "2024-12-26T16:00:59.252592Z",
     "iopub.status.busy": "2024-12-26T16:00:59.252404Z",
     "iopub.status.idle": "2024-12-26T16:23:37.856139Z",
     "shell.execute_reply": "2024-12-26T16:23:37.855236Z",
     "shell.execute_reply.started": "2024-12-26T16:00:59.252575Z"
    },
    "id": "eVqS9SEPJWpW",
    "outputId": "a6179426-e7bd-4505-8c31-67a78aa14a5a",
    "trusted": true
   },
   "outputs": [
    {
     "name": "stderr",
     "output_type": "stream",
     "text": [
      "100%|██████████| 3204/3204 [01:02<00:00, 51.06batch/s, loss=6.94, metric=0.0629]\n"
     ]
    },
    {
     "name": "stdout",
     "output_type": "stream",
     "text": [
      "Model Saved!\n",
      "Epoch 1/20:\n",
      "  Train: Loss = 6.9437, Metric = 0.0629\n",
      "  Valid: Loss = 6.5818, Metric = 0.0915\n",
      "\n"
     ]
    },
    {
     "name": "stderr",
     "output_type": "stream",
     "text": [
      "Epoch 11: 100%|██████████| 3204/3204 [01:05<00:00, 48.61batch/s, loss=6.22, metric=0.149]\n"
     ]
    },
    {
     "name": "stdout",
     "output_type": "stream",
     "text": [
      "Model Saved!\n",
      "Epoch 12/20:\n",
      "  Train: Loss = 6.2188, Metric = 0.1492\n",
      "  Valid: Loss = 6.0198, Metric = 0.1640\n",
      "\n"
     ]
    },
    {
     "name": "stderr",
     "output_type": "stream",
     "text": [
      "Epoch 12: 100%|██████████| 3204/3204 [01:05<00:00, 48.62batch/s, loss=6.19, metric=0.153]\n"
     ]
    },
    {
     "name": "stdout",
     "output_type": "stream",
     "text": [
      "Model Saved!\n",
      "Epoch 13/20:\n",
      "  Train: Loss = 6.1877, Metric = 0.1535\n",
      "  Valid: Loss = 5.9866, Metric = 0.1694\n",
      "\n"
     ]
    },
    {
     "name": "stderr",
     "output_type": "stream",
     "text": [
      "Epoch 13: 100%|██████████| 3204/3204 [01:05<00:00, 48.63batch/s, loss=6.17, metric=0.156]\n"
     ]
    },
    {
     "name": "stdout",
     "output_type": "stream",
     "text": [
      "Epoch 14/20:\n",
      "  Train: Loss = 6.1698, Metric = 0.1561\n",
      "  Valid: Loss = 6.0138, Metric = 0.1636\n",
      "\n"
     ]
    },
    {
     "name": "stderr",
     "output_type": "stream",
     "text": [
      "Epoch 14: 100%|██████████| 3204/3204 [01:05<00:00, 48.59batch/s, loss=6.16, metric=0.157]\n"
     ]
    },
    {
     "name": "stdout",
     "output_type": "stream",
     "text": [
      "Model Saved!\n",
      "Epoch 15/20:\n",
      "  Train: Loss = 6.1582, Metric = 0.1573\n",
      "  Valid: Loss = 5.9572, Metric = 0.1709\n",
      "\n"
     ]
    },
    {
     "name": "stderr",
     "output_type": "stream",
     "text": [
      "Epoch 15: 100%|██████████| 3204/3204 [01:05<00:00, 48.56batch/s, loss=6.15, metric=0.158]\n"
     ]
    },
    {
     "name": "stdout",
     "output_type": "stream",
     "text": [
      "Epoch 16/20:\n",
      "  Train: Loss = 6.1496, Metric = 0.1583\n",
      "  Valid: Loss = 5.9617, Metric = 0.1702\n",
      "\n"
     ]
    },
    {
     "name": "stderr",
     "output_type": "stream",
     "text": [
      "Epoch 16: 100%|██████████| 3204/3204 [01:05<00:00, 48.62batch/s, loss=6.14, metric=0.159]\n"
     ]
    },
    {
     "name": "stdout",
     "output_type": "stream",
     "text": [
      "Epoch 17/20:\n",
      "  Train: Loss = 6.1442, Metric = 0.1587\n",
      "  Valid: Loss = 5.9839, Metric = 0.1703\n",
      "\n"
     ]
    },
    {
     "name": "stderr",
     "output_type": "stream",
     "text": [
      "Epoch 17: 100%|██████████| 3204/3204 [01:05<00:00, 48.63batch/s, loss=6.14, metric=0.159]\n"
     ]
    },
    {
     "name": "stdout",
     "output_type": "stream",
     "text": [
      "Epoch 18/20:\n",
      "  Train: Loss = 6.1394, Metric = 0.1592\n",
      "  Valid: Loss = 5.9629, Metric = 0.1693\n",
      "\n"
     ]
    },
    {
     "name": "stderr",
     "output_type": "stream",
     "text": [
      "Epoch 18: 100%|██████████| 3204/3204 [01:05<00:00, 48.58batch/s, loss=6.14, metric=0.16] \n"
     ]
    },
    {
     "name": "stdout",
     "output_type": "stream",
     "text": [
      "Model Saved!\n",
      "Epoch 19/20:\n",
      "  Train: Loss = 6.1352, Metric = 0.1596\n",
      "  Valid: Loss = 5.9473, Metric = 0.1735\n",
      "\n"
     ]
    },
    {
     "name": "stderr",
     "output_type": "stream",
     "text": [
      "Epoch 19: 100%|██████████| 3204/3204 [01:05<00:00, 48.59batch/s, loss=6.13, metric=0.16] \n"
     ]
    },
    {
     "name": "stdout",
     "output_type": "stream",
     "text": [
      "Epoch 20/20:\n",
      "  Train: Loss = 6.1321, Metric = 0.1597\n",
      "  Valid: Loss = 5.9498, Metric = 0.1707\n",
      "\n"
     ]
    }
   ],
   "source": [
    "num_epochs = 20\n",
    "\n",
    "for epoch in range(num_epochs):\n",
    "  # Train\n",
    "  model, loss_train, metric_train = train_one_epoch(model,\n",
    "                                                 train_loader,\n",
    "                                                 loss_fn,\n",
    "                                                 optimizer,\n",
    "                                                 metric,\n",
    "                                                 epoch)\n",
    "  # Validation\n",
    "  loss_valid, metric_valid = evaluate(model,\n",
    "                                     valid_loader,\n",
    "                                     loss_fn,\n",
    "                                     metric)\n",
    "\n",
    "  loss_train_hist.append(loss_train)\n",
    "  loss_valid_hist.append(loss_valid)\n",
    "\n",
    "  metric_train_hist.append(metric_train)\n",
    "  metric_valid_hist.append(metric_valid)\n",
    "\n",
    "  if loss_valid < best_loss_valid:\n",
    "    torch.save(model, f'model.pt')\n",
    "    best_loss_valid = loss_valid\n",
    "    print('Model Saved!')\n",
    "\n",
    "  print(f\"Epoch {epoch + 1}/{num_epochs}:\")\n",
    "  print(f\"  Train: Loss = {loss_train:.4f}, Metric = {metric_train:.4f}\")\n",
    "  print(f\"  Valid: Loss = {loss_valid:.4f}, Metric = {metric_valid:.4f}\")\n",
    "  print()\n",
    "\n",
    "  epoch_counter += 1"
   ]
  },
  {
   "cell_type": "markdown",
   "metadata": {
    "id": "rjGQ-M02cusP"
   },
   "source": [
    "## 🟠 Main Loop"
   ]
  },
  {
   "cell_type": "markdown",
   "metadata": {
    "id": "4AdYaMU4x34g"
   },
   "source": [
    "🔰 Define model."
   ]
  },
  {
   "cell_type": "code",
   "execution_count": 90,
   "metadata": {
    "execution": {
     "iopub.execute_input": "2024-12-26T16:41:22.854710Z",
     "iopub.status.busy": "2024-12-26T16:41:22.854361Z",
     "iopub.status.idle": "2024-12-26T16:41:23.018242Z",
     "shell.execute_reply": "2024-12-26T16:41:23.017544Z",
     "shell.execute_reply.started": "2024-12-26T16:41:22.854686Z"
    },
    "id": "JCtZXDybxexf",
    "trusted": true
   },
   "outputs": [],
   "source": [
    "model = LanguageModel(vocab_size, embedding_dim, hidden_dim, num_layers, dropout_rate)\n",
    "model = model.to(device)"
   ]
  },
  {
   "cell_type": "markdown",
   "metadata": {
    "id": "AUKZRiQPxqrB"
   },
   "source": [
    "🔰 Define optimizer and Set learning rate and weight decay."
   ]
  },
  {
   "cell_type": "code",
   "execution_count": 91,
   "metadata": {
    "execution": {
     "iopub.execute_input": "2024-12-26T16:41:27.895552Z",
     "iopub.status.busy": "2024-12-26T16:41:27.895187Z",
     "iopub.status.idle": "2024-12-26T16:41:27.900042Z",
     "shell.execute_reply": "2024-12-26T16:41:27.899387Z",
     "shell.execute_reply.started": "2024-12-26T16:41:27.895523Z"
    },
    "id": "bowjVB5yIXUP",
    "trusted": true
   },
   "outputs": [],
   "source": [
    "lr =0.05\n",
    "wd =1e-5\n",
    "optimizer = optim.SGD(model.parameters(), lr=lr, weight_decay=wd, momentum=0.9, nesterov=True)"
   ]
  },
  {
   "cell_type": "markdown",
   "metadata": {
    "id": "AUyFFIzlyaiB"
   },
   "source": [
    "🔰 Write code to train the model for `num_epochs` epoches."
   ]
  },
  {
   "cell_type": "code",
   "execution_count": 92,
   "metadata": {
    "execution": {
     "iopub.execute_input": "2024-12-26T16:41:32.406859Z",
     "iopub.status.busy": "2024-12-26T16:41:32.406478Z",
     "iopub.status.idle": "2024-12-26T16:41:32.411228Z",
     "shell.execute_reply": "2024-12-26T16:41:32.410480Z",
     "shell.execute_reply.started": "2024-12-26T16:41:32.406829Z"
    },
    "id": "CAXagB4yvtZd",
    "trusted": true
   },
   "outputs": [],
   "source": [
    "loss_train_hist = []\n",
    "loss_valid_hist = []\n",
    "\n",
    "metric_train_hist = []\n",
    "metric_valid_hist = []\n",
    "\n",
    "best_loss_valid = torch.inf\n",
    "epoch_counter = 0"
   ]
  },
  {
   "cell_type": "code",
   "execution_count": null,
   "metadata": {
    "execution": {
     "iopub.execute_input": "2024-12-26T16:41:35.337201Z",
     "iopub.status.busy": "2024-12-26T16:41:35.336920Z"
    },
    "id": "PovABWnU3ld0",
    "trusted": true
   },
   "outputs": [
    {
     "name": "stderr",
     "output_type": "stream",
     "text": [
      "100%|██████████| 3204/3204 [01:01<00:00, 51.82batch/s, loss=6.82, metric=0.0828]\n"
     ]
    },
    {
     "name": "stdout",
     "output_type": "stream",
     "text": [
      "Model Saved!\n",
      "Valid: Loss = 6.288, Metric = 0.1299\n",
      "\n"
     ]
    },
    {
     "name": "stderr",
     "output_type": "stream",
     "text": [
      "Epoch 1: 100%|██████████| 3204/3204 [01:05<00:00, 49.24batch/s, loss=6.35, metric=0.135]\n"
     ]
    },
    {
     "name": "stdout",
     "output_type": "stream",
     "text": [
      "Model Saved!\n",
      "Valid: Loss = 6.029, Metric = 0.1562\n",
      "\n"
     ]
    },
    {
     "name": "stderr",
     "output_type": "stream",
     "text": [
      "Epoch 2: 100%|██████████| 3204/3204 [01:04<00:00, 49.38batch/s, loss=6.17, metric=0.148]\n"
     ]
    },
    {
     "name": "stdout",
     "output_type": "stream",
     "text": [
      "Model Saved!\n",
      "Valid: Loss = 5.907, Metric = 0.1643\n",
      "\n"
     ]
    },
    {
     "name": "stderr",
     "output_type": "stream",
     "text": [
      "Epoch 3: 100%|██████████| 3204/3204 [01:04<00:00, 49.34batch/s, loss=6.07, metric=0.154]\n"
     ]
    },
    {
     "name": "stdout",
     "output_type": "stream",
     "text": [
      "Model Saved!\n",
      "Valid: Loss = 5.82, Metric = 0.1703\n",
      "\n"
     ]
    },
    {
     "name": "stderr",
     "output_type": "stream",
     "text": [
      "Epoch 4: 100%|██████████| 3204/3204 [01:04<00:00, 49.43batch/s, loss=5.99, metric=0.158]\n"
     ]
    },
    {
     "name": "stdout",
     "output_type": "stream",
     "text": [
      "Model Saved!\n",
      "Valid: Loss = 5.757, Metric = 0.1746\n",
      "\n"
     ]
    },
    {
     "name": "stderr",
     "output_type": "stream",
     "text": [
      "Epoch 5: 100%|██████████| 3204/3204 [01:04<00:00, 49.40batch/s, loss=5.93, metric=0.162]\n"
     ]
    },
    {
     "name": "stdout",
     "output_type": "stream",
     "text": [
      "Model Saved!\n",
      "Valid: Loss = 5.708, Metric = 0.1778\n",
      "\n"
     ]
    },
    {
     "name": "stderr",
     "output_type": "stream",
     "text": [
      "Epoch 6: 100%|██████████| 3204/3204 [01:04<00:00, 49.40batch/s, loss=5.87, metric=0.165]\n"
     ]
    },
    {
     "name": "stdout",
     "output_type": "stream",
     "text": [
      "Model Saved!\n",
      "Valid: Loss = 5.663, Metric = 0.1801\n",
      "\n"
     ]
    },
    {
     "name": "stderr",
     "output_type": "stream",
     "text": [
      "Epoch 7: 100%|██████████| 3204/3204 [01:04<00:00, 49.40batch/s, loss=5.83, metric=0.167]\n"
     ]
    },
    {
     "name": "stdout",
     "output_type": "stream",
     "text": [
      "Model Saved!\n",
      "Valid: Loss = 5.626, Metric = 0.1845\n",
      "\n"
     ]
    },
    {
     "name": "stderr",
     "output_type": "stream",
     "text": [
      "Epoch 8: 100%|██████████| 3204/3204 [01:04<00:00, 49.43batch/s, loss=5.79, metric=0.169]\n"
     ]
    },
    {
     "name": "stdout",
     "output_type": "stream",
     "text": [
      "Model Saved!\n",
      "Valid: Loss = 5.601, Metric = 0.1848\n",
      "\n"
     ]
    },
    {
     "name": "stderr",
     "output_type": "stream",
     "text": [
      "Epoch 9: 100%|██████████| 3204/3204 [01:04<00:00, 49.42batch/s, loss=5.75, metric=0.171]\n"
     ]
    },
    {
     "name": "stdout",
     "output_type": "stream",
     "text": [
      "Model Saved!\n",
      "Valid: Loss = 5.565, Metric = 0.1879\n",
      "\n"
     ]
    },
    {
     "name": "stderr",
     "output_type": "stream",
     "text": [
      "Epoch 10: 100%|██████████| 3204/3204 [01:04<00:00, 49.37batch/s, loss=5.72, metric=0.173]\n"
     ]
    },
    {
     "name": "stdout",
     "output_type": "stream",
     "text": [
      "Model Saved!\n",
      "Valid: Loss = 5.544, Metric = 0.1895\n",
      "\n"
     ]
    },
    {
     "name": "stderr",
     "output_type": "stream",
     "text": [
      "Epoch 11: 100%|██████████| 3204/3204 [01:04<00:00, 49.37batch/s, loss=5.69, metric=0.174]\n"
     ]
    },
    {
     "name": "stdout",
     "output_type": "stream",
     "text": [
      "Model Saved!\n",
      "Valid: Loss = 5.519, Metric = 0.1907\n",
      "\n"
     ]
    },
    {
     "name": "stderr",
     "output_type": "stream",
     "text": [
      "Epoch 12: 100%|██████████| 3204/3204 [01:05<00:00, 49.18batch/s, loss=5.66, metric=0.176]\n"
     ]
    },
    {
     "name": "stdout",
     "output_type": "stream",
     "text": [
      "Model Saved!\n",
      "Valid: Loss = 5.503, Metric = 0.1921\n",
      "\n"
     ]
    },
    {
     "name": "stderr",
     "output_type": "stream",
     "text": [
      "Epoch 13: 100%|██████████| 3204/3204 [01:04<00:00, 49.33batch/s, loss=5.63, metric=0.177]\n"
     ]
    },
    {
     "name": "stdout",
     "output_type": "stream",
     "text": [
      "Model Saved!\n",
      "Valid: Loss = 5.487, Metric = 0.1931\n",
      "\n"
     ]
    },
    {
     "name": "stderr",
     "output_type": "stream",
     "text": [
      "Epoch 14: 100%|██████████| 3204/3204 [01:04<00:00, 49.31batch/s, loss=5.61, metric=0.178]\n"
     ]
    },
    {
     "name": "stdout",
     "output_type": "stream",
     "text": [
      "Model Saved!\n",
      "Valid: Loss = 5.463, Metric = 0.1954\n",
      "\n"
     ]
    },
    {
     "name": "stderr",
     "output_type": "stream",
     "text": [
      "Epoch 15: 100%|██████████| 3204/3204 [01:05<00:00, 49.26batch/s, loss=5.59, metric=0.18] \n"
     ]
    },
    {
     "name": "stdout",
     "output_type": "stream",
     "text": [
      "Model Saved!\n",
      "Valid: Loss = 5.455, Metric = 0.1949\n",
      "\n"
     ]
    },
    {
     "name": "stderr",
     "output_type": "stream",
     "text": [
      "Epoch 16: 100%|██████████| 3204/3204 [01:05<00:00, 49.20batch/s, loss=5.56, metric=0.181]\n"
     ]
    },
    {
     "name": "stdout",
     "output_type": "stream",
     "text": [
      "Model Saved!\n",
      "Valid: Loss = 5.435, Metric = 0.1972\n",
      "\n"
     ]
    },
    {
     "name": "stderr",
     "output_type": "stream",
     "text": [
      "Epoch 17: 100%|██████████| 3204/3204 [01:04<00:00, 49.33batch/s, loss=5.54, metric=0.182]\n"
     ]
    },
    {
     "name": "stdout",
     "output_type": "stream",
     "text": [
      "Model Saved!\n",
      "Valid: Loss = 5.425, Metric = 0.198\n",
      "\n"
     ]
    },
    {
     "name": "stderr",
     "output_type": "stream",
     "text": [
      "Epoch 18: 100%|██████████| 3204/3204 [01:04<00:00, 49.40batch/s, loss=5.52, metric=0.183]\n"
     ]
    },
    {
     "name": "stdout",
     "output_type": "stream",
     "text": [
      "Model Saved!\n",
      "Valid: Loss = 5.41, Metric = 0.1992\n",
      "\n"
     ]
    },
    {
     "name": "stderr",
     "output_type": "stream",
     "text": [
      "Epoch 35: 100%|██████████| 3204/3204 [01:04<00:00, 49.60batch/s, loss=5.28, metric=0.196]\n"
     ]
    },
    {
     "name": "stdout",
     "output_type": "stream",
     "text": [
      "Model Saved!\n",
      "Valid: Loss = 5.283, Metric = 0.208\n",
      "\n"
     ]
    },
    {
     "name": "stderr",
     "output_type": "stream",
     "text": [
      "Epoch 40: 100%|██████████| 3204/3204 [01:04<00:00, 49.52batch/s, loss=5.22, metric=0.198]\n"
     ]
    },
    {
     "name": "stdout",
     "output_type": "stream",
     "text": [
      "Model Saved!\n",
      "Valid: Loss = 5.258, Metric = 0.2104\n",
      "\n"
     ]
    },
    {
     "name": "stderr",
     "output_type": "stream",
     "text": [
      "Epoch 43: 100%|██████████| 3204/3204 [01:05<00:00, 49.00batch/s, loss=5.19, metric=0.2]\n"
     ]
    },
    {
     "name": "stdout",
     "output_type": "stream",
     "text": [
      "Model Saved!\n",
      "Valid: Loss = 5.246, Metric = 0.2125\n",
      "\n"
     ]
    },
    {
     "name": "stderr",
     "output_type": "stream",
     "text": [
      "Epoch 45: 100%|██████████| 3204/3204 [01:04<00:00, 49.35batch/s, loss=5.17, metric=0.201]\n"
     ]
    },
    {
     "name": "stdout",
     "output_type": "stream",
     "text": [
      "Model Saved!\n",
      "Valid: Loss = 5.242, Metric = 0.2115\n",
      "\n"
     ]
    },
    {
     "name": "stderr",
     "output_type": "stream",
     "text": [
      "Epoch 47: 100%|██████████| 3204/3204 [01:04<00:00, 49.37batch/s, loss=5.15, metric=0.202]\n"
     ]
    },
    {
     "name": "stdout",
     "output_type": "stream",
     "text": [
      "Model Saved!\n",
      "Valid: Loss = 5.239, Metric = 0.2123\n",
      "\n"
     ]
    },
    {
     "name": "stderr",
     "output_type": "stream",
     "text": [
      "Epoch 48:  32%|███▏      | 1041/3204 [00:21<00:43, 49.37batch/s, loss=5.13, metric=0.203]"
     ]
    }
   ],
   "source": [
    "num_epochs = 50\n",
    "\n",
    "for epoch in range(num_epochs):\n",
    "  # Train\n",
    "  model, loss_train, metric_train = train_one_epoch(model=model,\n",
    "                                                 train_loader=train_loader,\n",
    "                                                 loss_fn=loss_fn,\n",
    "                                                 optimizer=optimizer,\n",
    "                                                 metric=metric,\n",
    "                                                 epoch=epoch)\n",
    "  # Validation\n",
    "  loss_valid, metric_valid = evaluate(model=model,\n",
    "                                     test_loader=valid_loader,\n",
    "                                     loss_fn=loss_fn,\n",
    "                                     metric=metric)\n",
    "\n",
    "  loss_train_hist.append(loss_train)\n",
    "  loss_valid_hist.append(loss_valid)\n",
    "\n",
    "  metric_train_hist.append(metric_train)\n",
    "  metric_valid_hist.append(metric_valid)\n",
    "\n",
    "  if loss_valid < best_loss_valid:\n",
    "    torch.save(model, f'model.pt')\n",
    "    best_loss_valid = loss_valid\n",
    "    print('Model Saved!')\n",
    "\n",
    "  print(f'Valid: Loss = {loss_valid:.4}, Metric = {metric_valid:.4}')\n",
    "  print()\n",
    "\n",
    "  epoch_counter += 1"
   ]
  },
  {
   "cell_type": "markdown",
   "metadata": {},
   "source": [
    "<font color='green'>kaggle didn't do it for the whole epoches as you see it skipt some of them and didn't made to the end and our model is half trained , with metric about 0.21 .(As discussed there is no problem with this)</font>"
   ]
  },
  {
   "cell_type": "markdown",
   "metadata": {
    "id": "oK20iNRI3Xxb"
   },
   "source": [
    "## 🟠 Plot"
   ]
  },
  {
   "cell_type": "markdown",
   "metadata": {
    "id": "IKlLvCwuzEAA"
   },
   "source": [
    "🔰 Plot learning curves"
   ]
  },
  {
   "cell_type": "code",
   "execution_count": 94,
   "metadata": {
    "execution": {
     "iopub.execute_input": "2024-12-26T17:58:42.487840Z",
     "iopub.status.busy": "2024-12-26T17:58:42.487519Z",
     "iopub.status.idle": "2024-12-26T17:58:42.749362Z",
     "shell.execute_reply": "2024-12-26T17:58:42.748428Z",
     "shell.execute_reply.started": "2024-12-26T17:58:42.487815Z"
    },
    "id": "KYFzTsdIOkVp",
    "trusted": true
   },
   "outputs": [
    {
     "data": {
      "text/plain": [
       "<matplotlib.legend.Legend at 0x7f924b3935e0>"
      ]
     },
     "execution_count": 94,
     "metadata": {},
     "output_type": "execute_result"
    },
    {
     "data": {
      "image/png": "[encoded data removed]",
      "text/plain": [
       "<Figure size 800x600 with 1 Axes>"
      ]
     },
     "metadata": {},
     "output_type": "display_data"
    }
   ],
   "source": [
    "plt.figure(figsize=(8, 6))\n",
    "\n",
    "plt.plot(range(epoch_counter), loss_train_hist, 'r-', label='Train')\n",
    "plt.plot(range(epoch_counter), loss_valid_hist, 'b-', label='Validation')\n",
    "\n",
    "plt.xlabel('Epoch')\n",
    "plt.ylabel('loss')\n",
    "plt.grid(True)\n",
    "plt.legend()"
   ]
  },
  {
   "cell_type": "markdown",
   "metadata": {
    "id": "KZ9UIdmkfxlA"
   },
   "source": [
    "# 🔴 **Test**"
   ]
  },
  {
   "cell_type": "markdown",
   "metadata": {
    "id": "SO8iPWH1zVYn"
   },
   "source": [
    "🔰 Test your model using data from the test set"
   ]
  },
  {
   "cell_type": "code",
   "execution_count": 96,
   "metadata": {
    "execution": {
     "iopub.execute_input": "2024-12-26T18:07:54.231125Z",
     "iopub.status.busy": "2024-12-26T18:07:54.230822Z",
     "iopub.status.idle": "2024-12-26T18:07:56.615292Z",
     "shell.execute_reply": "2024-12-26T18:07:56.614491Z",
     "shell.execute_reply.started": "2024-12-26T18:07:54.231103Z"
    },
    "id": "35sn67IhKcm_",
    "trusted": true
   },
   "outputs": [
    {
     "name": "stdout",
     "output_type": "stream",
     "text": [
      "Test Results: Loss = 5.1436, Accuracy = 0.2144\n"
     ]
    }
   ],
   "source": [
    "model = model.to(device)\n",
    "test_loss, test_metric = evaluate(\n",
    "    model=model,\n",
    "    test_loader=test_loader,\n",
    "    loss_fn=loss_fn,\n",
    "    metric=metric,\n",
    ")\n",
    "print(f\"Test Results: Loss = {test_loss:.4f}, Accuracy = {test_metric:.4f}\")"
   ]
  },
  {
   "cell_type": "markdown",
   "metadata": {
    "id": "FzcQQwFuar_7"
   },
   "source": [
    "# 🔴 **Generate**"
   ]
  },
  {
   "cell_type": "markdown",
   "metadata": {
    "id": "jh2_9jUp0GF4"
   },
   "source": [
    "🔰 Your mission is to write a `generate` function and use a desired sentence to evaluate the model"
   ]
  },
  {
   "cell_type": "code",
   "execution_count": 97,
   "metadata": {
    "execution": {
     "iopub.execute_input": "2024-12-26T18:09:20.469547Z",
     "iopub.status.busy": "2024-12-26T18:09:20.469183Z",
     "iopub.status.idle": "2024-12-26T18:09:20.539748Z",
     "shell.execute_reply": "2024-12-26T18:09:20.538931Z",
     "shell.execute_reply.started": "2024-12-26T18:09:20.469518Z"
    },
    "id": "pskvb--R-wJ0",
    "trusted": true
   },
   "outputs": [
    {
     "data": {
      "text/plain": [
       "LanguageModel(\n",
       "  (embedding): Embedding(20925, 128)\n",
       "  (lstm): LSTM(128, 512, num_layers=3, batch_first=True, dropout=0.5)\n",
       "  (fc): Linear(in_features=512, out_features=20925, bias=True)\n",
       "  (dropout): Dropout(p=0.5, inplace=False)\n",
       ")"
      ]
     },
     "execution_count": 97,
     "metadata": {},
     "output_type": "execute_result"
    }
   ],
   "source": [
    "model_path = 'model.pt'\n",
    "model = torch.load(model_path)\n",
    "model.eval()"
   ]
  },
  {
   "cell_type": "code",
   "execution_count": 108,
   "metadata": {
    "execution": {
     "iopub.execute_input": "2024-12-26T18:46:30.652047Z",
     "iopub.status.busy": "2024-12-26T18:46:30.651714Z",
     "iopub.status.idle": "2024-12-26T18:46:30.658393Z",
     "shell.execute_reply": "2024-12-26T18:46:30.657409Z",
     "shell.execute_reply.started": "2024-12-26T18:46:30.652020Z"
    },
    "id": "f5SvSDLal8YB",
    "trusted": true
   },
   "outputs": [],
   "source": [
    "def generate(prompt, max_seq_len, temperature, model, tokenizer, vocab, seed=None):\n",
    "    model.eval()\n",
    "    input_tokens = tokenizer(prompt)\n",
    "    input_ids = torch.tensor([vocab[token] for token in input_tokens], dtype=torch.long).unsqueeze(0).to(device)\n",
    "    generated_ids = input_ids\n",
    "    for _ in range(max_seq_len):\n",
    "        with torch.no_grad():\n",
    "            outputs = model(generated_ids)\n",
    "            logits = outputs[:, -1, :] \n",
    "\n",
    "        logits = logits / temperature\n",
    "        probabilities = torch.nn.functional.softmax(logits, dim=-1)\n",
    "        next_token_id = torch.multinomial(probabilities, num_samples=1).squeeze(-1)\n",
    "\n",
    "        next_token_id = next_token_id.unsqueeze(0)\n",
    "        generated_ids = torch.cat([generated_ids, next_token_id], dim=1)\n",
    "        if next_token_id.item() == vocab['<eos>']:\n",
    "            break\n",
    "    generated_tokens = [vocab.lookup_token(token_id) for token_id in generated_ids.squeeze(0).tolist()]\n",
    "    return \" \".join(generated_tokens)\n"
   ]
  },
  {
   "cell_type": "code",
   "execution_count": 119,
   "metadata": {
    "execution": {
     "iopub.execute_input": "2024-12-26T19:28:50.673046Z",
     "iopub.status.busy": "2024-12-26T19:28:50.672703Z",
     "iopub.status.idle": "2024-12-26T19:28:50.692763Z",
     "shell.execute_reply": "2024-12-26T19:28:50.691938Z",
     "shell.execute_reply.started": "2024-12-26T19:28:50.673018Z"
    },
    "id": "pVedneOVD6ul",
    "trusted": true
   },
   "outputs": [
    {
     "name": "stdout",
     "output_type": "stream",
     "text": [
      "Generated Text:\n",
      "my head hearts and pathogenic . art began on an remarkable tour\n"
     ]
    }
   ],
   "source": [
    "model = model.to(device)\n",
    "model.eval()\n",
    "\n",
    "prompt = \"my head hearts and\"\n",
    "max_seq_len = 8\n",
    "temperature = 1.0\n",
    "generated_text = generate(prompt, max_seq_len, temperature, model, tokenizer, vocab)\n",
    "print(\"Generated Text:\")\n",
    "print(generated_text)\n"
   ]
  },
  {
   "cell_type": "markdown",
   "metadata": {},
   "source": [
    "<font color ='green'>As we can see the model is not optimized because it should be trained very much to generate more suitable answers.If we had GPUs available I think there would be some chances to have a very good generator model.</font>"
   ]
  }
 ],
 "metadata": {
  "accelerator": "GPU",
  "colab": {
   "collapsed_sections": [
    "B29jrEvwRqXA",
    "A3rnR739GbYb",
    "a4HyLPqcsF43",
    "cfBasjQCE_aI",
    "G9HgVWslPGsH",
    "o_5f69nwPtY2",
    "lpJ3wtyctQJH",
    "BrHQCv7q7LF_",
    "BLT4w0ZfAhlJ",
    "uC2GhaXfA8vC",
    "Mjd9Z3N1ef3I",
    "rjGQ-M02cusP",
    "oK20iNRI3Xxb",
    "KZ9UIdmkfxlA",
    "FzcQQwFuar_7"
   ],
   "gpuType": "T4",
   "provenance": []
  },
  "kaggle": {
   "accelerator": "gpu",
   "dataSources": [],
   "dockerImageVersionId": 30823,
   "isGpuEnabled": true,
   "isInternetEnabled": true,
   "language": "python",
   "sourceType": "notebook"
  },
  "kernelspec": {
   "display_name": "Python 3",
   "language": "python",
   "name": "python3"
  },
  "language_info": {
   "codemirror_mode": {
    "name": "ipython",
    "version": 3
   },
   "file_extension": ".py",
   "mimetype": "text/x-python",
   "name": "python",
   "nbconvert_exporter": "python",
   "pygments_lexer": "ipython3",
   "version": "3.10.12"
  },
  "widgets": {
   "application/vnd.jupyter.widget-state+json": {
    "0033b196cd6e4fa0aa9a317626bab720": {
     "model_module": "@jupyter-widgets/controls",
     "model_module_version": "1.5.0",
     "model_name": "ProgressStyleModel",
     "state": {
      "_model_module": "@jupyter-widgets/controls",
      "_model_module_version": "1.5.0",
      "_model_name": "ProgressStyleModel",
      "_view_count": null,
      "_view_module": "@jupyter-widgets/base",
      "_view_module_version": "1.2.0",
      "_view_name": "StyleView",
      "bar_color": null,
      "description_width": ""
     }
    },
    "046ae4c91a774d3ab6cdde20e862f195": {
     "model_module": "@jupyter-widgets/base",
     "model_module_version": "1.2.0",
     "model_name": "LayoutModel",
     "state": {
      "_model_module": "@jupyter-widgets/base",
      "_model_module_version": "1.2.0",
      "_model_name": "LayoutModel",
      "_view_count": null,
      "_view_module": "@jupyter-widgets/base",
      "_view_module_version": "1.2.0",
      "_view_name": "LayoutView",
      "align_content": null,
      "align_items": null,
      "align_self": null,
      "border": null,
      "bottom": null,
      "display": null,
      "flex": null,
      "flex_flow": null,
      "grid_area": null,
      "grid_auto_columns": null,
      "grid_auto_flow": null,
      "grid_auto_rows": null,
      "grid_column": null,
      "grid_gap": null,
      "grid_row": null,
      "grid_template_areas": null,
      "grid_template_columns": null,
      "grid_template_rows": null,
      "height": null,
      "justify_content": null,
      "justify_items": null,
      "left": null,
      "margin": null,
      "max_height": null,
      "max_width": null,
      "min_height": null,
      "min_width": null,
      "object_fit": null,
      "object_position": null,
      "order": null,
      "overflow": null,
      "overflow_x": null,
      "overflow_y": null,
      "padding": null,
      "right": null,
      "top": null,
      "visibility": null,
      "width": null
     }
    },
    "0506bae6eeaa4369b23011ccaf09c9fd": {
     "model_module": "@jupyter-widgets/base",
     "model_module_version": "1.2.0",
     "model_name": "LayoutModel",
     "state": {
      "_model_module": "@jupyter-widgets/base",
      "_model_module_version": "1.2.0",
      "_model_name": "LayoutModel",
      "_view_count": null,
      "_view_module": "@jupyter-widgets/base",
      "_view_module_version": "1.2.0",
      "_view_name": "LayoutView",
      "align_content": null,
      "align_items": null,
      "align_self": null,
      "border": null,
      "bottom": null,
      "display": null,
      "flex": null,
      "flex_flow": null,
      "grid_area": null,
      "grid_auto_columns": null,
      "grid_auto_flow": null,
      "grid_auto_rows": null,
      "grid_column": null,
      "grid_gap": null,
      "grid_row": null,
      "grid_template_areas": null,
      "grid_template_columns": null,
      "grid_template_rows": null,
      "height": null,
      "justify_content": null,
      "justify_items": null,
      "left": null,
      "margin": null,
      "max_height": null,
      "max_width": null,
      "min_height": null,
      "min_width": null,
      "object_fit": null,
      "object_position": null,
      "order": null,
      "overflow": null,
      "overflow_x": null,
      "overflow_y": null,
      "padding": null,
      "right": null,
      "top": null,
      "visibility": null,
      "width": null
     }
    },
    "0663252671264c4083c2462e81de8019": {
     "model_module": "@jupyter-widgets/controls",
     "model_module_version": "1.5.0",
     "model_name": "HTMLModel",
     "state": {
      "_dom_classes": [],
      "_model_module": "@jupyter-widgets/controls",
      "_model_module_version": "1.5.0",
      "_model_name": "HTMLModel",
      "_view_count": null,
      "_view_module": "@jupyter-widgets/controls",
      "_view_module_version": "1.5.0",
      "_view_name": "HTMLView",
      "description": "",
      "description_tooltip": null,
      "layout": "IPY_MODEL_e40010a6a71c4f7da7d29a2234b69c3f",
      "placeholder": "​",
      "style": "IPY_MODEL_9d3f0846b8b94464abad1fa80d62a2f9",
      "value": " 733k/733k [00:00&lt;00:00, 7.40MB/s]"
     }
    },
    "067aa81b1bee49ba987d8e7c59b8319e": {
     "model_module": "@jupyter-widgets/controls",
     "model_module_version": "1.5.0",
     "model_name": "HTMLModel",
     "state": {
      "_dom_classes": [],
      "_model_module": "@jupyter-widgets/controls",
      "_model_module_version": "1.5.0",
      "_model_name": "HTMLModel",
      "_view_count": null,
      "_view_module": "@jupyter-widgets/controls",
      "_view_module_version": "1.5.0",
      "_view_name": "HTMLView",
      "description": "",
      "description_tooltip": null,
      "layout": "IPY_MODEL_c0edba481b114eac8fb12fa1749c4fbe",
      "placeholder": "​",
      "style": "IPY_MODEL_3d81617a0daf4776a034218de6156676",
      "value": "validation-00000-of-00001.parquet: 100%"
     }
    },
    "08f446c22390465c8b4f4392c05562a1": {
     "model_module": "@jupyter-widgets/controls",
     "model_module_version": "1.5.0",
     "model_name": "DescriptionStyleModel",
     "state": {
      "_model_module": "@jupyter-widgets/controls",
      "_model_module_version": "1.5.0",
      "_model_name": "DescriptionStyleModel",
      "_view_count": null,
      "_view_module": "@jupyter-widgets/base",
      "_view_module_version": "1.2.0",
      "_view_name": "StyleView",
      "description_width": ""
     }
    },
    "0f4e91f5812d42d4a9e17df71b2f7ba0": {
     "model_module": "@jupyter-widgets/controls",
     "model_module_version": "1.5.0",
     "model_name": "ProgressStyleModel",
     "state": {
      "_model_module": "@jupyter-widgets/controls",
      "_model_module_version": "1.5.0",
      "_model_name": "ProgressStyleModel",
      "_view_count": null,
      "_view_module": "@jupyter-widgets/base",
      "_view_module_version": "1.2.0",
      "_view_name": "StyleView",
      "bar_color": null,
      "description_width": ""
     }
    },
    "0f6142e328af4573817bc8d8b0195256": {
     "model_module": "@jupyter-widgets/controls",
     "model_module_version": "1.5.0",
     "model_name": "HTMLModel",
     "state": {
      "_dom_classes": [],
      "_model_module": "@jupyter-widgets/controls",
      "_model_module_version": "1.5.0",
      "_model_name": "HTMLModel",
      "_view_count": null,
      "_view_module": "@jupyter-widgets/controls",
      "_view_module_version": "1.5.0",
      "_view_name": "HTMLView",
      "description": "",
      "description_tooltip": null,
      "layout": "IPY_MODEL_d2852bbadb7243bdb23fc5d695665e96",
      "placeholder": "​",
      "style": "IPY_MODEL_ad7a8831cfbd4218bdf338a8e59a880f",
      "value": "Generating validation split: 100%"
     }
    },
    "1650344c8912469981513990103cfad8": {
     "model_module": "@jupyter-widgets/base",
     "model_module_version": "1.2.0",
     "model_name": "LayoutModel",
     "state": {
      "_model_module": "@jupyter-widgets/base",
      "_model_module_version": "1.2.0",
      "_model_name": "LayoutModel",
      "_view_count": null,
      "_view_module": "@jupyter-widgets/base",
      "_view_module_version": "1.2.0",
      "_view_name": "LayoutView",
      "align_content": null,
      "align_items": null,
      "align_self": null,
      "border": null,
      "bottom": null,
      "display": null,
      "flex": null,
      "flex_flow": null,
      "grid_area": null,
      "grid_auto_columns": null,
      "grid_auto_flow": null,
      "grid_auto_rows": null,
      "grid_column": null,
      "grid_gap": null,
      "grid_row": null,
      "grid_template_areas": null,
      "grid_template_columns": null,
      "grid_template_rows": null,
      "height": null,
      "justify_content": null,
      "justify_items": null,
      "left": null,
      "margin": null,
      "max_height": null,
      "max_width": null,
      "min_height": null,
      "min_width": null,
      "object_fit": null,
      "object_position": null,
      "order": null,
      "overflow": null,
      "overflow_x": null,
      "overflow_y": null,
      "padding": null,
      "right": null,
      "top": null,
      "visibility": null,
      "width": null
     }
    },
    "17c5be35f5d54b95b1da9bc2abcc222d": {
     "model_module": "@jupyter-widgets/controls",
     "model_module_version": "1.5.0",
     "model_name": "HTMLModel",
     "state": {
      "_dom_classes": [],
      "_model_module": "@jupyter-widgets/controls",
      "_model_module_version": "1.5.0",
      "_model_name": "HTMLModel",
      "_view_count": null,
      "_view_module": "@jupyter-widgets/controls",
      "_view_module_version": "1.5.0",
      "_view_name": "HTMLView",
      "description": "",
      "description_tooltip": null,
      "layout": "IPY_MODEL_53787872e79f4052adf9508c45bc04b5",
      "placeholder": "​",
      "style": "IPY_MODEL_3ed9a004b556425792dcca21cf752445",
      "value": " 657k/657k [00:00&lt;00:00, 9.26MB/s]"
     }
    },
    "1c247d53dea444c6a3b5b75f9197db94": {
     "model_module": "@jupyter-widgets/controls",
     "model_module_version": "1.5.0",
     "model_name": "HBoxModel",
     "state": {
      "_dom_classes": [],
      "_model_module": "@jupyter-widgets/controls",
      "_model_module_version": "1.5.0",
      "_model_name": "HBoxModel",
      "_view_count": null,
      "_view_module": "@jupyter-widgets/controls",
      "_view_module_version": "1.5.0",
      "_view_name": "HBoxView",
      "box_style": "",
      "children": [
       "IPY_MODEL_ee6e1c20839543eda5ac492588b0935e",
       "IPY_MODEL_25429cc093544ffea22970cad6cf58f3",
       "IPY_MODEL_e34d924427df427b9774ede0e1e109a4"
      ],
      "layout": "IPY_MODEL_6b22b3b45e4e4caa9983e808becb6d1f"
     }
    },
    "1f93c1830adc423b9d67ad70847743d1": {
     "model_module": "@jupyter-widgets/controls",
     "model_module_version": "1.5.0",
     "model_name": "HTMLModel",
     "state": {
      "_dom_classes": [],
      "_model_module": "@jupyter-widgets/controls",
      "_model_module_version": "1.5.0",
      "_model_name": "HTMLModel",
      "_view_count": null,
      "_view_module": "@jupyter-widgets/controls",
      "_view_module_version": "1.5.0",
      "_view_name": "HTMLView",
      "description": "",
      "description_tooltip": null,
      "layout": "IPY_MODEL_97ae878981bc40a6ba05a72b74d6497c",
      "placeholder": "​",
      "style": "IPY_MODEL_b3f86565c7274c78905be8dff12317ae",
      "value": " 3760/3760 [00:00&lt;00:00, 30739.72 examples/s]"
     }
    },
    "22924fe55c1d4fbf8e266ed6fe0c5083": {
     "model_module": "@jupyter-widgets/base",
     "model_module_version": "1.2.0",
     "model_name": "LayoutModel",
     "state": {
      "_model_module": "@jupyter-widgets/base",
      "_model_module_version": "1.2.0",
      "_model_name": "LayoutModel",
      "_view_count": null,
      "_view_module": "@jupyter-widgets/base",
      "_view_module_version": "1.2.0",
      "_view_name": "LayoutView",
      "align_content": null,
      "align_items": null,
      "align_self": null,
      "border": null,
      "bottom": null,
      "display": null,
      "flex": null,
      "flex_flow": null,
      "grid_area": null,
      "grid_auto_columns": null,
      "grid_auto_flow": null,
      "grid_auto_rows": null,
      "grid_column": null,
      "grid_gap": null,
      "grid_row": null,
      "grid_template_areas": null,
      "grid_template_columns": null,
      "grid_template_rows": null,
      "height": null,
      "justify_content": null,
      "justify_items": null,
      "left": null,
      "margin": null,
      "max_height": null,
      "max_width": null,
      "min_height": null,
      "min_width": null,
      "object_fit": null,
      "object_position": null,
      "order": null,
      "overflow": null,
      "overflow_x": null,
      "overflow_y": null,
      "padding": null,
      "right": null,
      "top": null,
      "visibility": null,
      "width": null
     }
    },
    "25429cc093544ffea22970cad6cf58f3": {
     "model_module": "@jupyter-widgets/controls",
     "model_module_version": "1.5.0",
     "model_name": "FloatProgressModel",
     "state": {
      "_dom_classes": [],
      "_model_module": "@jupyter-widgets/controls",
      "_model_module_version": "1.5.0",
      "_model_name": "FloatProgressModel",
      "_view_count": null,
      "_view_module": "@jupyter-widgets/controls",
      "_view_module_version": "1.5.0",
      "_view_name": "ProgressView",
      "bar_style": "success",
      "description": "",
      "description_tooltip": null,
      "layout": "IPY_MODEL_6ad0159d612f45a5af56cc3d7e1c4ace",
      "max": 6357543,
      "min": 0,
      "orientation": "horizontal",
      "style": "IPY_MODEL_f4072db21d1f488280d91272cbe9b933",
      "value": 6357543
     }
    },
    "25eaadf88ce341eb9b39113253339211": {
     "model_module": "@jupyter-widgets/controls",
     "model_module_version": "1.5.0",
     "model_name": "ProgressStyleModel",
     "state": {
      "_model_module": "@jupyter-widgets/controls",
      "_model_module_version": "1.5.0",
      "_model_name": "ProgressStyleModel",
      "_view_count": null,
      "_view_module": "@jupyter-widgets/base",
      "_view_module_version": "1.2.0",
      "_view_name": "StyleView",
      "bar_color": null,
      "description_width": ""
     }
    },
    "2acad260e7e34f63a6acb415d678498e": {
     "model_module": "@jupyter-widgets/base",
     "model_module_version": "1.2.0",
     "model_name": "LayoutModel",
     "state": {
      "_model_module": "@jupyter-widgets/base",
      "_model_module_version": "1.2.0",
      "_model_name": "LayoutModel",
      "_view_count": null,
      "_view_module": "@jupyter-widgets/base",
      "_view_module_version": "1.2.0",
      "_view_name": "LayoutView",
      "align_content": null,
      "align_items": null,
      "align_self": null,
      "border": null,
      "bottom": null,
      "display": null,
      "flex": null,
      "flex_flow": null,
      "grid_area": null,
      "grid_auto_columns": null,
      "grid_auto_flow": null,
      "grid_auto_rows": null,
      "grid_column": null,
      "grid_gap": null,
      "grid_row": null,
      "grid_template_areas": null,
      "grid_template_columns": null,
      "grid_template_rows": null,
      "height": null,
      "justify_content": null,
      "justify_items": null,
      "left": null,
      "margin": null,
      "max_height": null,
      "max_width": null,
      "min_height": null,
      "min_width": null,
      "object_fit": null,
      "object_position": null,
      "order": null,
      "overflow": null,
      "overflow_x": null,
      "overflow_y": null,
      "padding": null,
      "right": null,
      "top": null,
      "visibility": null,
      "width": null
     }
    },
    "2e1c18bcb8454832863b9fb9a0d85616": {
     "model_module": "@jupyter-widgets/base",
     "model_module_version": "1.2.0",
     "model_name": "LayoutModel",
     "state": {
      "_model_module": "@jupyter-widgets/base",
      "_model_module_version": "1.2.0",
      "_model_name": "LayoutModel",
      "_view_count": null,
      "_view_module": "@jupyter-widgets/base",
      "_view_module_version": "1.2.0",
      "_view_name": "LayoutView",
      "align_content": null,
      "align_items": null,
      "align_self": null,
      "border": null,
      "bottom": null,
      "display": null,
      "flex": null,
      "flex_flow": null,
      "grid_area": null,
      "grid_auto_columns": null,
      "grid_auto_flow": null,
      "grid_auto_rows": null,
      "grid_column": null,
      "grid_gap": null,
      "grid_row": null,
      "grid_template_areas": null,
      "grid_template_columns": null,
      "grid_template_rows": null,
      "height": null,
      "justify_content": null,
      "justify_items": null,
      "left": null,
      "margin": null,
      "max_height": null,
      "max_width": null,
      "min_height": null,
      "min_width": null,
      "object_fit": null,
      "object_position": null,
      "order": null,
      "overflow": null,
      "overflow_x": null,
      "overflow_y": null,
      "padding": null,
      "right": null,
      "top": null,
      "visibility": null,
      "width": null
     }
    },
    "398ca63dd5bf4b1882c1511c66f787c5": {
     "model_module": "@jupyter-widgets/controls",
     "model_module_version": "1.5.0",
     "model_name": "DescriptionStyleModel",
     "state": {
      "_model_module": "@jupyter-widgets/controls",
      "_model_module_version": "1.5.0",
      "_model_name": "DescriptionStyleModel",
      "_view_count": null,
      "_view_module": "@jupyter-widgets/base",
      "_view_module_version": "1.2.0",
      "_view_name": "StyleView",
      "description_width": ""
     }
    },
    "3d0ef4da4e83491a8cca395bfc250cbe": {
     "model_module": "@jupyter-widgets/controls",
     "model_module_version": "1.5.0",
     "model_name": "HTMLModel",
     "state": {
      "_dom_classes": [],
      "_model_module": "@jupyter-widgets/controls",
      "_model_module_version": "1.5.0",
      "_model_name": "HTMLModel",
      "_view_count": null,
      "_view_module": "@jupyter-widgets/controls",
      "_view_module_version": "1.5.0",
      "_view_name": "HTMLView",
      "description": "",
      "description_tooltip": null,
      "layout": "IPY_MODEL_76c289944d4b4ab48758af0e90220117",
      "placeholder": "​",
      "style": "IPY_MODEL_398ca63dd5bf4b1882c1511c66f787c5",
      "value": "test-00000-of-00001.parquet: 100%"
     }
    },
    "3d81617a0daf4776a034218de6156676": {
     "model_module": "@jupyter-widgets/controls",
     "model_module_version": "1.5.0",
     "model_name": "DescriptionStyleModel",
     "state": {
      "_model_module": "@jupyter-widgets/controls",
      "_model_module_version": "1.5.0",
      "_model_name": "DescriptionStyleModel",
      "_view_count": null,
      "_view_module": "@jupyter-widgets/base",
      "_view_module_version": "1.2.0",
      "_view_name": "StyleView",
      "description_width": ""
     }
    },
    "3ed9a004b556425792dcca21cf752445": {
     "model_module": "@jupyter-widgets/controls",
     "model_module_version": "1.5.0",
     "model_name": "DescriptionStyleModel",
     "state": {
      "_model_module": "@jupyter-widgets/controls",
      "_model_module_version": "1.5.0",
      "_model_name": "DescriptionStyleModel",
      "_view_count": null,
      "_view_module": "@jupyter-widgets/base",
      "_view_module_version": "1.2.0",
      "_view_name": "StyleView",
      "description_width": ""
     }
    },
    "3f7e51c69ff94785a9038923d073cc4d": {
     "model_module": "@jupyter-widgets/controls",
     "model_module_version": "1.5.0",
     "model_name": "HTMLModel",
     "state": {
      "_dom_classes": [],
      "_model_module": "@jupyter-widgets/controls",
      "_model_module_version": "1.5.0",
      "_model_name": "HTMLModel",
      "_view_count": null,
      "_view_module": "@jupyter-widgets/controls",
      "_view_module_version": "1.5.0",
      "_view_name": "HTMLView",
      "description": "",
      "description_tooltip": null,
      "layout": "IPY_MODEL_a902766d27fe45e0955f4517d316cab8",
      "placeholder": "​",
      "style": "IPY_MODEL_af966d16d5054d6fbef47fae730b061f",
      "value": " 36718/36718 [00:00&lt;00:00, 165667.67 examples/s]"
     }
    },
    "43b3d1e2750c4928a4dde774823bb2d9": {
     "model_module": "@jupyter-widgets/base",
     "model_module_version": "1.2.0",
     "model_name": "LayoutModel",
     "state": {
      "_model_module": "@jupyter-widgets/base",
      "_model_module_version": "1.2.0",
      "_model_name": "LayoutModel",
      "_view_count": null,
      "_view_module": "@jupyter-widgets/base",
      "_view_module_version": "1.2.0",
      "_view_name": "LayoutView",
      "align_content": null,
      "align_items": null,
      "align_self": null,
      "border": null,
      "bottom": null,
      "display": null,
      "flex": null,
      "flex_flow": null,
      "grid_area": null,
      "grid_auto_columns": null,
      "grid_auto_flow": null,
      "grid_auto_rows": null,
      "grid_column": null,
      "grid_gap": null,
      "grid_row": null,
      "grid_template_areas": null,
      "grid_template_columns": null,
      "grid_template_rows": null,
      "height": null,
      "justify_content": null,
      "justify_items": null,
      "left": null,
      "margin": null,
      "max_height": null,
      "max_width": null,
      "min_height": null,
      "min_width": null,
      "object_fit": null,
      "object_position": null,
      "order": null,
      "overflow": null,
      "overflow_x": null,
      "overflow_y": null,
      "padding": null,
      "right": null,
      "top": null,
      "visibility": null,
      "width": null
     }
    },
    "457ad62e127442608641368e298f98da": {
     "model_module": "@jupyter-widgets/controls",
     "model_module_version": "1.5.0",
     "model_name": "HBoxModel",
     "state": {
      "_dom_classes": [],
      "_model_module": "@jupyter-widgets/controls",
      "_model_module_version": "1.5.0",
      "_model_name": "HBoxModel",
      "_view_count": null,
      "_view_module": "@jupyter-widgets/controls",
      "_view_module_version": "1.5.0",
      "_view_name": "HBoxView",
      "box_style": "",
      "children": [
       "IPY_MODEL_067aa81b1bee49ba987d8e7c59b8319e",
       "IPY_MODEL_b69fea95af254ad98a715c818fc1441d",
       "IPY_MODEL_17c5be35f5d54b95b1da9bc2abcc222d"
      ],
      "layout": "IPY_MODEL_9efab76f089d4a48b379541b389c90a2"
     }
    },
    "490f7867c43f4952b7efa1873cd7eefe": {
     "model_module": "@jupyter-widgets/controls",
     "model_module_version": "1.5.0",
     "model_name": "DescriptionStyleModel",
     "state": {
      "_model_module": "@jupyter-widgets/controls",
      "_model_module_version": "1.5.0",
      "_model_name": "DescriptionStyleModel",
      "_view_count": null,
      "_view_module": "@jupyter-widgets/base",
      "_view_module_version": "1.2.0",
      "_view_name": "StyleView",
      "description_width": ""
     }
    },
    "49a918fca3b948dc96bf8bf550d1c1ec": {
     "model_module": "@jupyter-widgets/controls",
     "model_module_version": "1.5.0",
     "model_name": "HTMLModel",
     "state": {
      "_dom_classes": [],
      "_model_module": "@jupyter-widgets/controls",
      "_model_module_version": "1.5.0",
      "_model_name": "HTMLModel",
      "_view_count": null,
      "_view_module": "@jupyter-widgets/controls",
      "_view_module_version": "1.5.0",
      "_view_name": "HTMLView",
      "description": "",
      "description_tooltip": null,
      "layout": "IPY_MODEL_e230961ede8b4179adf21373c25103c6",
      "placeholder": "​",
      "style": "IPY_MODEL_490f7867c43f4952b7efa1873cd7eefe",
      "value": "Generating train split: 100%"
     }
    },
    "4a9709fd29e542a8a09207d76d00722b": {
     "model_module": "@jupyter-widgets/controls",
     "model_module_version": "1.5.0",
     "model_name": "HBoxModel",
     "state": {
      "_dom_classes": [],
      "_model_module": "@jupyter-widgets/controls",
      "_model_module_version": "1.5.0",
      "_model_name": "HBoxModel",
      "_view_count": null,
      "_view_module": "@jupyter-widgets/controls",
      "_view_module_version": "1.5.0",
      "_view_name": "HBoxView",
      "box_style": "",
      "children": [
       "IPY_MODEL_a2c1b59277e24d2ea0e023e778b6ba71",
       "IPY_MODEL_6d3ed6f792c44384913cd6101c7a5979",
       "IPY_MODEL_b4bab52a38ea4d098a92e5c8917c2f3c"
      ],
      "layout": "IPY_MODEL_22924fe55c1d4fbf8e266ed6fe0c5083"
     }
    },
    "4b747316b05346a29ba018ee0cc5b9fd": {
     "model_module": "@jupyter-widgets/controls",
     "model_module_version": "1.5.0",
     "model_name": "DescriptionStyleModel",
     "state": {
      "_model_module": "@jupyter-widgets/controls",
      "_model_module_version": "1.5.0",
      "_model_name": "DescriptionStyleModel",
      "_view_count": null,
      "_view_module": "@jupyter-widgets/base",
      "_view_module_version": "1.2.0",
      "_view_name": "StyleView",
      "description_width": ""
     }
    },
    "4ef749bc3173493d949767b8343d2e16": {
     "model_module": "@jupyter-widgets/base",
     "model_module_version": "1.2.0",
     "model_name": "LayoutModel",
     "state": {
      "_model_module": "@jupyter-widgets/base",
      "_model_module_version": "1.2.0",
      "_model_name": "LayoutModel",
      "_view_count": null,
      "_view_module": "@jupyter-widgets/base",
      "_view_module_version": "1.2.0",
      "_view_name": "LayoutView",
      "align_content": null,
      "align_items": null,
      "align_self": null,
      "border": null,
      "bottom": null,
      "display": null,
      "flex": null,
      "flex_flow": null,
      "grid_area": null,
      "grid_auto_columns": null,
      "grid_auto_flow": null,
      "grid_auto_rows": null,
      "grid_column": null,
      "grid_gap": null,
      "grid_row": null,
      "grid_template_areas": null,
      "grid_template_columns": null,
      "grid_template_rows": null,
      "height": null,
      "justify_content": null,
      "justify_items": null,
      "left": null,
      "margin": null,
      "max_height": null,
      "max_width": null,
      "min_height": null,
      "min_width": null,
      "object_fit": null,
      "object_position": null,
      "order": null,
      "overflow": null,
      "overflow_x": null,
      "overflow_y": null,
      "padding": null,
      "right": null,
      "top": null,
      "visibility": null,
      "width": null
     }
    },
    "4f8c86b4ccdd4e71abec3554886811bd": {
     "model_module": "@jupyter-widgets/controls",
     "model_module_version": "1.5.0",
     "model_name": "HTMLModel",
     "state": {
      "_dom_classes": [],
      "_model_module": "@jupyter-widgets/controls",
      "_model_module_version": "1.5.0",
      "_model_name": "HTMLModel",
      "_view_count": null,
      "_view_module": "@jupyter-widgets/controls",
      "_view_module_version": "1.5.0",
      "_view_name": "HTMLView",
      "description": "",
      "description_tooltip": null,
      "layout": "IPY_MODEL_5909093c0c02415a851a71ed72e9eb53",
      "placeholder": "​",
      "style": "IPY_MODEL_08f446c22390465c8b4f4392c05562a1",
      "value": " 10.5k/10.5k [00:00&lt;00:00, 661kB/s]"
     }
    },
    "53787872e79f4052adf9508c45bc04b5": {
     "model_module": "@jupyter-widgets/base",
     "model_module_version": "1.2.0",
     "model_name": "LayoutModel",
     "state": {
      "_model_module": "@jupyter-widgets/base",
      "_model_module_version": "1.2.0",
      "_model_name": "LayoutModel",
      "_view_count": null,
      "_view_module": "@jupyter-widgets/base",
      "_view_module_version": "1.2.0",
      "_view_name": "LayoutView",
      "align_content": null,
      "align_items": null,
      "align_self": null,
      "border": null,
      "bottom": null,
      "display": null,
      "flex": null,
      "flex_flow": null,
      "grid_area": null,
      "grid_auto_columns": null,
      "grid_auto_flow": null,
      "grid_auto_rows": null,
      "grid_column": null,
      "grid_gap": null,
      "grid_row": null,
      "grid_template_areas": null,
      "grid_template_columns": null,
      "grid_template_rows": null,
      "height": null,
      "justify_content": null,
      "justify_items": null,
      "left": null,
      "margin": null,
      "max_height": null,
      "max_width": null,
      "min_height": null,
      "min_width": null,
      "object_fit": null,
      "object_position": null,
      "order": null,
      "overflow": null,
      "overflow_x": null,
      "overflow_y": null,
      "padding": null,
      "right": null,
      "top": null,
      "visibility": null,
      "width": null
     }
    },
    "54460740cf144413a71f943ecc4dda5f": {
     "model_module": "@jupyter-widgets/base",
     "model_module_version": "1.2.0",
     "model_name": "LayoutModel",
     "state": {
      "_model_module": "@jupyter-widgets/base",
      "_model_module_version": "1.2.0",
      "_model_name": "LayoutModel",
      "_view_count": null,
      "_view_module": "@jupyter-widgets/base",
      "_view_module_version": "1.2.0",
      "_view_name": "LayoutView",
      "align_content": null,
      "align_items": null,
      "align_self": null,
      "border": null,
      "bottom": null,
      "display": null,
      "flex": null,
      "flex_flow": null,
      "grid_area": null,
      "grid_auto_columns": null,
      "grid_auto_flow": null,
      "grid_auto_rows": null,
      "grid_column": null,
      "grid_gap": null,
      "grid_row": null,
      "grid_template_areas": null,
      "grid_template_columns": null,
      "grid_template_rows": null,
      "height": null,
      "justify_content": null,
      "justify_items": null,
      "left": null,
      "margin": null,
      "max_height": null,
      "max_width": null,
      "min_height": null,
      "min_width": null,
      "object_fit": null,
      "object_position": null,
      "order": null,
      "overflow": null,
      "overflow_x": null,
      "overflow_y": null,
      "padding": null,
      "right": null,
      "top": null,
      "visibility": null,
      "width": null
     }
    },
    "5909093c0c02415a851a71ed72e9eb53": {
     "model_module": "@jupyter-widgets/base",
     "model_module_version": "1.2.0",
     "model_name": "LayoutModel",
     "state": {
      "_model_module": "@jupyter-widgets/base",
      "_model_module_version": "1.2.0",
      "_model_name": "LayoutModel",
      "_view_count": null,
      "_view_module": "@jupyter-widgets/base",
      "_view_module_version": "1.2.0",
      "_view_name": "LayoutView",
      "align_content": null,
      "align_items": null,
      "align_self": null,
      "border": null,
      "bottom": null,
      "display": null,
      "flex": null,
      "flex_flow": null,
      "grid_area": null,
      "grid_auto_columns": null,
      "grid_auto_flow": null,
      "grid_auto_rows": null,
      "grid_column": null,
      "grid_gap": null,
      "grid_row": null,
      "grid_template_areas": null,
      "grid_template_columns": null,
      "grid_template_rows": null,
      "height": null,
      "justify_content": null,
      "justify_items": null,
      "left": null,
      "margin": null,
      "max_height": null,
      "max_width": null,
      "min_height": null,
      "min_width": null,
      "object_fit": null,
      "object_position": null,
      "order": null,
      "overflow": null,
      "overflow_x": null,
      "overflow_y": null,
      "padding": null,
      "right": null,
      "top": null,
      "visibility": null,
      "width": null
     }
    },
    "5e79708e1b0243aa9436d62c414e1347": {
     "model_module": "@jupyter-widgets/controls",
     "model_module_version": "1.5.0",
     "model_name": "FloatProgressModel",
     "state": {
      "_dom_classes": [],
      "_model_module": "@jupyter-widgets/controls",
      "_model_module_version": "1.5.0",
      "_model_name": "FloatProgressModel",
      "_view_count": null,
      "_view_module": "@jupyter-widgets/controls",
      "_view_module_version": "1.5.0",
      "_view_name": "ProgressView",
      "bar_style": "success",
      "description": "",
      "description_tooltip": null,
      "layout": "IPY_MODEL_b1faf29aa64b45e68fb992c3ded0a6c9",
      "max": 36718,
      "min": 0,
      "orientation": "horizontal",
      "style": "IPY_MODEL_0f4e91f5812d42d4a9e17df71b2f7ba0",
      "value": 36718
     }
    },
    "6639579f708c49ad92c63db4f4b3e178": {
     "model_module": "@jupyter-widgets/controls",
     "model_module_version": "1.5.0",
     "model_name": "HBoxModel",
     "state": {
      "_dom_classes": [],
      "_model_module": "@jupyter-widgets/controls",
      "_model_module_version": "1.5.0",
      "_model_name": "HBoxModel",
      "_view_count": null,
      "_view_module": "@jupyter-widgets/controls",
      "_view_module_version": "1.5.0",
      "_view_name": "HBoxView",
      "box_style": "",
      "children": [
       "IPY_MODEL_c48284d844cd4697a27c6ef14716157f",
       "IPY_MODEL_fdd1742f3794447caa4dcee37b841a2a",
       "IPY_MODEL_4f8c86b4ccdd4e71abec3554886811bd"
      ],
      "layout": "IPY_MODEL_0506bae6eeaa4369b23011ccaf09c9fd"
     }
    },
    "675739223a15474fb6dbe0aa204561cd": {
     "model_module": "@jupyter-widgets/controls",
     "model_module_version": "1.5.0",
     "model_name": "HBoxModel",
     "state": {
      "_dom_classes": [],
      "_model_module": "@jupyter-widgets/controls",
      "_model_module_version": "1.5.0",
      "_model_name": "HBoxModel",
      "_view_count": null,
      "_view_module": "@jupyter-widgets/controls",
      "_view_module_version": "1.5.0",
      "_view_name": "HBoxView",
      "box_style": "",
      "children": [
       "IPY_MODEL_49a918fca3b948dc96bf8bf550d1c1ec",
       "IPY_MODEL_5e79708e1b0243aa9436d62c414e1347",
       "IPY_MODEL_3f7e51c69ff94785a9038923d073cc4d"
      ],
      "layout": "IPY_MODEL_8437e70714b647c6872a5eea7220c9ed"
     }
    },
    "67cab4db04ce4ff09c81b5c480856da4": {
     "model_module": "@jupyter-widgets/base",
     "model_module_version": "1.2.0",
     "model_name": "LayoutModel",
     "state": {
      "_model_module": "@jupyter-widgets/base",
      "_model_module_version": "1.2.0",
      "_model_name": "LayoutModel",
      "_view_count": null,
      "_view_module": "@jupyter-widgets/base",
      "_view_module_version": "1.2.0",
      "_view_name": "LayoutView",
      "align_content": null,
      "align_items": null,
      "align_self": null,
      "border": null,
      "bottom": null,
      "display": null,
      "flex": null,
      "flex_flow": null,
      "grid_area": null,
      "grid_auto_columns": null,
      "grid_auto_flow": null,
      "grid_auto_rows": null,
      "grid_column": null,
      "grid_gap": null,
      "grid_row": null,
      "grid_template_areas": null,
      "grid_template_columns": null,
      "grid_template_rows": null,
      "height": null,
      "justify_content": null,
      "justify_items": null,
      "left": null,
      "margin": null,
      "max_height": null,
      "max_width": null,
      "min_height": null,
      "min_width": null,
      "object_fit": null,
      "object_position": null,
      "order": null,
      "overflow": null,
      "overflow_x": null,
      "overflow_y": null,
      "padding": null,
      "right": null,
      "top": null,
      "visibility": null,
      "width": null
     }
    },
    "6ad0159d612f45a5af56cc3d7e1c4ace": {
     "model_module": "@jupyter-widgets/base",
     "model_module_version": "1.2.0",
     "model_name": "LayoutModel",
     "state": {
      "_model_module": "@jupyter-widgets/base",
      "_model_module_version": "1.2.0",
      "_model_name": "LayoutModel",
      "_view_count": null,
      "_view_module": "@jupyter-widgets/base",
      "_view_module_version": "1.2.0",
      "_view_name": "LayoutView",
      "align_content": null,
      "align_items": null,
      "align_self": null,
      "border": null,
      "bottom": null,
      "display": null,
      "flex": null,
      "flex_flow": null,
      "grid_area": null,
      "grid_auto_columns": null,
      "grid_auto_flow": null,
      "grid_auto_rows": null,
      "grid_column": null,
      "grid_gap": null,
      "grid_row": null,
      "grid_template_areas": null,
      "grid_template_columns": null,
      "grid_template_rows": null,
      "height": null,
      "justify_content": null,
      "justify_items": null,
      "left": null,
      "margin": null,
      "max_height": null,
      "max_width": null,
      "min_height": null,
      "min_width": null,
      "object_fit": null,
      "object_position": null,
      "order": null,
      "overflow": null,
      "overflow_x": null,
      "overflow_y": null,
      "padding": null,
      "right": null,
      "top": null,
      "visibility": null,
      "width": null
     }
    },
    "6b22b3b45e4e4caa9983e808becb6d1f": {
     "model_module": "@jupyter-widgets/base",
     "model_module_version": "1.2.0",
     "model_name": "LayoutModel",
     "state": {
      "_model_module": "@jupyter-widgets/base",
      "_model_module_version": "1.2.0",
      "_model_name": "LayoutModel",
      "_view_count": null,
      "_view_module": "@jupyter-widgets/base",
      "_view_module_version": "1.2.0",
      "_view_name": "LayoutView",
      "align_content": null,
      "align_items": null,
      "align_self": null,
      "border": null,
      "bottom": null,
      "display": null,
      "flex": null,
      "flex_flow": null,
      "grid_area": null,
      "grid_auto_columns": null,
      "grid_auto_flow": null,
      "grid_auto_rows": null,
      "grid_column": null,
      "grid_gap": null,
      "grid_row": null,
      "grid_template_areas": null,
      "grid_template_columns": null,
      "grid_template_rows": null,
      "height": null,
      "justify_content": null,
      "justify_items": null,
      "left": null,
      "margin": null,
      "max_height": null,
      "max_width": null,
      "min_height": null,
      "min_width": null,
      "object_fit": null,
      "object_position": null,
      "order": null,
      "overflow": null,
      "overflow_x": null,
      "overflow_y": null,
      "padding": null,
      "right": null,
      "top": null,
      "visibility": null,
      "width": null
     }
    },
    "6d3ed6f792c44384913cd6101c7a5979": {
     "model_module": "@jupyter-widgets/controls",
     "model_module_version": "1.5.0",
     "model_name": "FloatProgressModel",
     "state": {
      "_dom_classes": [],
      "_model_module": "@jupyter-widgets/controls",
      "_model_module_version": "1.5.0",
      "_model_name": "FloatProgressModel",
      "_view_count": null,
      "_view_module": "@jupyter-widgets/controls",
      "_view_module_version": "1.5.0",
      "_view_name": "ProgressView",
      "bar_style": "success",
      "description": "",
      "description_tooltip": null,
      "layout": "IPY_MODEL_046ae4c91a774d3ab6cdde20e862f195",
      "max": 4358,
      "min": 0,
      "orientation": "horizontal",
      "style": "IPY_MODEL_0033b196cd6e4fa0aa9a317626bab720",
      "value": 4358
     }
    },
    "6df4dff1d3f84f26ade36329c47a4930": {
     "model_module": "@jupyter-widgets/controls",
     "model_module_version": "1.5.0",
     "model_name": "DescriptionStyleModel",
     "state": {
      "_model_module": "@jupyter-widgets/controls",
      "_model_module_version": "1.5.0",
      "_model_name": "DescriptionStyleModel",
      "_view_count": null,
      "_view_module": "@jupyter-widgets/base",
      "_view_module_version": "1.2.0",
      "_view_name": "StyleView",
      "description_width": ""
     }
    },
    "753bc2a818494ea284ce1230932631a7": {
     "model_module": "@jupyter-widgets/controls",
     "model_module_version": "1.5.0",
     "model_name": "HBoxModel",
     "state": {
      "_dom_classes": [],
      "_model_module": "@jupyter-widgets/controls",
      "_model_module_version": "1.5.0",
      "_model_name": "HBoxModel",
      "_view_count": null,
      "_view_module": "@jupyter-widgets/controls",
      "_view_module_version": "1.5.0",
      "_view_name": "HBoxView",
      "box_style": "",
      "children": [
       "IPY_MODEL_0f6142e328af4573817bc8d8b0195256",
       "IPY_MODEL_f42d1c3333384e03994ecd94adca3cc1",
       "IPY_MODEL_1f93c1830adc423b9d67ad70847743d1"
      ],
      "layout": "IPY_MODEL_4ef749bc3173493d949767b8343d2e16"
     }
    },
    "766155723bc94868894682d8c308ca71": {
     "model_module": "@jupyter-widgets/controls",
     "model_module_version": "1.5.0",
     "model_name": "FloatProgressModel",
     "state": {
      "_dom_classes": [],
      "_model_module": "@jupyter-widgets/controls",
      "_model_module_version": "1.5.0",
      "_model_name": "FloatProgressModel",
      "_view_count": null,
      "_view_module": "@jupyter-widgets/controls",
      "_view_module_version": "1.5.0",
      "_view_name": "ProgressView",
      "bar_style": "success",
      "description": "",
      "description_tooltip": null,
      "layout": "IPY_MODEL_f3494e43c2e14d1a8673c72207437ba6",
      "max": 732610,
      "min": 0,
      "orientation": "horizontal",
      "style": "IPY_MODEL_e5c5b6e4d2dd474b8f0dc703051d29f1",
      "value": 732610
     }
    },
    "76c289944d4b4ab48758af0e90220117": {
     "model_module": "@jupyter-widgets/base",
     "model_module_version": "1.2.0",
     "model_name": "LayoutModel",
     "state": {
      "_model_module": "@jupyter-widgets/base",
      "_model_module_version": "1.2.0",
      "_model_name": "LayoutModel",
      "_view_count": null,
      "_view_module": "@jupyter-widgets/base",
      "_view_module_version": "1.2.0",
      "_view_name": "LayoutView",
      "align_content": null,
      "align_items": null,
      "align_self": null,
      "border": null,
      "bottom": null,
      "display": null,
      "flex": null,
      "flex_flow": null,
      "grid_area": null,
      "grid_auto_columns": null,
      "grid_auto_flow": null,
      "grid_auto_rows": null,
      "grid_column": null,
      "grid_gap": null,
      "grid_row": null,
      "grid_template_areas": null,
      "grid_template_columns": null,
      "grid_template_rows": null,
      "height": null,
      "justify_content": null,
      "justify_items": null,
      "left": null,
      "margin": null,
      "max_height": null,
      "max_width": null,
      "min_height": null,
      "min_width": null,
      "object_fit": null,
      "object_position": null,
      "order": null,
      "overflow": null,
      "overflow_x": null,
      "overflow_y": null,
      "padding": null,
      "right": null,
      "top": null,
      "visibility": null,
      "width": null
     }
    },
    "76f84566be4c41cf8ae9e47c992dab38": {
     "model_module": "@jupyter-widgets/controls",
     "model_module_version": "1.5.0",
     "model_name": "ProgressStyleModel",
     "state": {
      "_model_module": "@jupyter-widgets/controls",
      "_model_module_version": "1.5.0",
      "_model_name": "ProgressStyleModel",
      "_view_count": null,
      "_view_module": "@jupyter-widgets/base",
      "_view_module_version": "1.2.0",
      "_view_name": "StyleView",
      "bar_color": null,
      "description_width": ""
     }
    },
    "7b24b694acd045b9baee19dc6dab80d4": {
     "model_module": "@jupyter-widgets/controls",
     "model_module_version": "1.5.0",
     "model_name": "DescriptionStyleModel",
     "state": {
      "_model_module": "@jupyter-widgets/controls",
      "_model_module_version": "1.5.0",
      "_model_name": "DescriptionStyleModel",
      "_view_count": null,
      "_view_module": "@jupyter-widgets/base",
      "_view_module_version": "1.2.0",
      "_view_name": "StyleView",
      "description_width": ""
     }
    },
    "8130c5d95cc24c8282f71948a98e00a8": {
     "model_module": "@jupyter-widgets/base",
     "model_module_version": "1.2.0",
     "model_name": "LayoutModel",
     "state": {
      "_model_module": "@jupyter-widgets/base",
      "_model_module_version": "1.2.0",
      "_model_name": "LayoutModel",
      "_view_count": null,
      "_view_module": "@jupyter-widgets/base",
      "_view_module_version": "1.2.0",
      "_view_name": "LayoutView",
      "align_content": null,
      "align_items": null,
      "align_self": null,
      "border": null,
      "bottom": null,
      "display": null,
      "flex": null,
      "flex_flow": null,
      "grid_area": null,
      "grid_auto_columns": null,
      "grid_auto_flow": null,
      "grid_auto_rows": null,
      "grid_column": null,
      "grid_gap": null,
      "grid_row": null,
      "grid_template_areas": null,
      "grid_template_columns": null,
      "grid_template_rows": null,
      "height": null,
      "justify_content": null,
      "justify_items": null,
      "left": null,
      "margin": null,
      "max_height": null,
      "max_width": null,
      "min_height": null,
      "min_width": null,
      "object_fit": null,
      "object_position": null,
      "order": null,
      "overflow": null,
      "overflow_x": null,
      "overflow_y": null,
      "padding": null,
      "right": null,
      "top": null,
      "visibility": null,
      "width": null
     }
    },
    "8437e70714b647c6872a5eea7220c9ed": {
     "model_module": "@jupyter-widgets/base",
     "model_module_version": "1.2.0",
     "model_name": "LayoutModel",
     "state": {
      "_model_module": "@jupyter-widgets/base",
      "_model_module_version": "1.2.0",
      "_model_name": "LayoutModel",
      "_view_count": null,
      "_view_module": "@jupyter-widgets/base",
      "_view_module_version": "1.2.0",
      "_view_name": "LayoutView",
      "align_content": null,
      "align_items": null,
      "align_self": null,
      "border": null,
      "bottom": null,
      "display": null,
      "flex": null,
      "flex_flow": null,
      "grid_area": null,
      "grid_auto_columns": null,
      "grid_auto_flow": null,
      "grid_auto_rows": null,
      "grid_column": null,
      "grid_gap": null,
      "grid_row": null,
      "grid_template_areas": null,
      "grid_template_columns": null,
      "grid_template_rows": null,
      "height": null,
      "justify_content": null,
      "justify_items": null,
      "left": null,
      "margin": null,
      "max_height": null,
      "max_width": null,
      "min_height": null,
      "min_width": null,
      "object_fit": null,
      "object_position": null,
      "order": null,
      "overflow": null,
      "overflow_x": null,
      "overflow_y": null,
      "padding": null,
      "right": null,
      "top": null,
      "visibility": null,
      "width": null
     }
    },
    "84b46f6152a8476d884480e7f811baa0": {
     "model_module": "@jupyter-widgets/controls",
     "model_module_version": "1.5.0",
     "model_name": "DescriptionStyleModel",
     "state": {
      "_model_module": "@jupyter-widgets/controls",
      "_model_module_version": "1.5.0",
      "_model_name": "DescriptionStyleModel",
      "_view_count": null,
      "_view_module": "@jupyter-widgets/base",
      "_view_module_version": "1.2.0",
      "_view_name": "StyleView",
      "description_width": ""
     }
    },
    "8af8eabc8df647e99d0b78685c881353": {
     "model_module": "@jupyter-widgets/controls",
     "model_module_version": "1.5.0",
     "model_name": "ProgressStyleModel",
     "state": {
      "_model_module": "@jupyter-widgets/controls",
      "_model_module_version": "1.5.0",
      "_model_name": "ProgressStyleModel",
      "_view_count": null,
      "_view_module": "@jupyter-widgets/base",
      "_view_module_version": "1.2.0",
      "_view_name": "StyleView",
      "bar_color": null,
      "description_width": ""
     }
    },
    "97ae878981bc40a6ba05a72b74d6497c": {
     "model_module": "@jupyter-widgets/base",
     "model_module_version": "1.2.0",
     "model_name": "LayoutModel",
     "state": {
      "_model_module": "@jupyter-widgets/base",
      "_model_module_version": "1.2.0",
      "_model_name": "LayoutModel",
      "_view_count": null,
      "_view_module": "@jupyter-widgets/base",
      "_view_module_version": "1.2.0",
      "_view_name": "LayoutView",
      "align_content": null,
      "align_items": null,
      "align_self": null,
      "border": null,
      "bottom": null,
      "display": null,
      "flex": null,
      "flex_flow": null,
      "grid_area": null,
      "grid_auto_columns": null,
      "grid_auto_flow": null,
      "grid_auto_rows": null,
      "grid_column": null,
      "grid_gap": null,
      "grid_row": null,
      "grid_template_areas": null,
      "grid_template_columns": null,
      "grid_template_rows": null,
      "height": null,
      "justify_content": null,
      "justify_items": null,
      "left": null,
      "margin": null,
      "max_height": null,
      "max_width": null,
      "min_height": null,
      "min_width": null,
      "object_fit": null,
      "object_position": null,
      "order": null,
      "overflow": null,
      "overflow_x": null,
      "overflow_y": null,
      "padding": null,
      "right": null,
      "top": null,
      "visibility": null,
      "width": null
     }
    },
    "9d3f0846b8b94464abad1fa80d62a2f9": {
     "model_module": "@jupyter-widgets/controls",
     "model_module_version": "1.5.0",
     "model_name": "DescriptionStyleModel",
     "state": {
      "_model_module": "@jupyter-widgets/controls",
      "_model_module_version": "1.5.0",
      "_model_name": "DescriptionStyleModel",
      "_view_count": null,
      "_view_module": "@jupyter-widgets/base",
      "_view_module_version": "1.2.0",
      "_view_name": "StyleView",
      "description_width": ""
     }
    },
    "9efab76f089d4a48b379541b389c90a2": {
     "model_module": "@jupyter-widgets/base",
     "model_module_version": "1.2.0",
     "model_name": "LayoutModel",
     "state": {
      "_model_module": "@jupyter-widgets/base",
      "_model_module_version": "1.2.0",
      "_model_name": "LayoutModel",
      "_view_count": null,
      "_view_module": "@jupyter-widgets/base",
      "_view_module_version": "1.2.0",
      "_view_name": "LayoutView",
      "align_content": null,
      "align_items": null,
      "align_self": null,
      "border": null,
      "bottom": null,
      "display": null,
      "flex": null,
      "flex_flow": null,
      "grid_area": null,
      "grid_auto_columns": null,
      "grid_auto_flow": null,
      "grid_auto_rows": null,
      "grid_column": null,
      "grid_gap": null,
      "grid_row": null,
      "grid_template_areas": null,
      "grid_template_columns": null,
      "grid_template_rows": null,
      "height": null,
      "justify_content": null,
      "justify_items": null,
      "left": null,
      "margin": null,
      "max_height": null,
      "max_width": null,
      "min_height": null,
      "min_width": null,
      "object_fit": null,
      "object_position": null,
      "order": null,
      "overflow": null,
      "overflow_x": null,
      "overflow_y": null,
      "padding": null,
      "right": null,
      "top": null,
      "visibility": null,
      "width": null
     }
    },
    "a2c1b59277e24d2ea0e023e778b6ba71": {
     "model_module": "@jupyter-widgets/controls",
     "model_module_version": "1.5.0",
     "model_name": "HTMLModel",
     "state": {
      "_dom_classes": [],
      "_model_module": "@jupyter-widgets/controls",
      "_model_module_version": "1.5.0",
      "_model_name": "HTMLModel",
      "_view_count": null,
      "_view_module": "@jupyter-widgets/controls",
      "_view_module_version": "1.5.0",
      "_view_name": "HTMLView",
      "description": "",
      "description_tooltip": null,
      "layout": "IPY_MODEL_b68b13e35fea4658afd5e096d28bd0a3",
      "placeholder": "​",
      "style": "IPY_MODEL_7b24b694acd045b9baee19dc6dab80d4",
      "value": "Generating test split: 100%"
     }
    },
    "a902766d27fe45e0955f4517d316cab8": {
     "model_module": "@jupyter-widgets/base",
     "model_module_version": "1.2.0",
     "model_name": "LayoutModel",
     "state": {
      "_model_module": "@jupyter-widgets/base",
      "_model_module_version": "1.2.0",
      "_model_name": "LayoutModel",
      "_view_count": null,
      "_view_module": "@jupyter-widgets/base",
      "_view_module_version": "1.2.0",
      "_view_name": "LayoutView",
      "align_content": null,
      "align_items": null,
      "align_self": null,
      "border": null,
      "bottom": null,
      "display": null,
      "flex": null,
      "flex_flow": null,
      "grid_area": null,
      "grid_auto_columns": null,
      "grid_auto_flow": null,
      "grid_auto_rows": null,
      "grid_column": null,
      "grid_gap": null,
      "grid_row": null,
      "grid_template_areas": null,
      "grid_template_columns": null,
      "grid_template_rows": null,
      "height": null,
      "justify_content": null,
      "justify_items": null,
      "left": null,
      "margin": null,
      "max_height": null,
      "max_width": null,
      "min_height": null,
      "min_width": null,
      "object_fit": null,
      "object_position": null,
      "order": null,
      "overflow": null,
      "overflow_x": null,
      "overflow_y": null,
      "padding": null,
      "right": null,
      "top": null,
      "visibility": null,
      "width": null
     }
    },
    "ad7a8831cfbd4218bdf338a8e59a880f": {
     "model_module": "@jupyter-widgets/controls",
     "model_module_version": "1.5.0",
     "model_name": "DescriptionStyleModel",
     "state": {
      "_model_module": "@jupyter-widgets/controls",
      "_model_module_version": "1.5.0",
      "_model_name": "DescriptionStyleModel",
      "_view_count": null,
      "_view_module": "@jupyter-widgets/base",
      "_view_module_version": "1.2.0",
      "_view_name": "StyleView",
      "description_width": ""
     }
    },
    "af966d16d5054d6fbef47fae730b061f": {
     "model_module": "@jupyter-widgets/controls",
     "model_module_version": "1.5.0",
     "model_name": "DescriptionStyleModel",
     "state": {
      "_model_module": "@jupyter-widgets/controls",
      "_model_module_version": "1.5.0",
      "_model_name": "DescriptionStyleModel",
      "_view_count": null,
      "_view_module": "@jupyter-widgets/base",
      "_view_module_version": "1.2.0",
      "_view_name": "StyleView",
      "description_width": ""
     }
    },
    "b1faf29aa64b45e68fb992c3ded0a6c9": {
     "model_module": "@jupyter-widgets/base",
     "model_module_version": "1.2.0",
     "model_name": "LayoutModel",
     "state": {
      "_model_module": "@jupyter-widgets/base",
      "_model_module_version": "1.2.0",
      "_model_name": "LayoutModel",
      "_view_count": null,
      "_view_module": "@jupyter-widgets/base",
      "_view_module_version": "1.2.0",
      "_view_name": "LayoutView",
      "align_content": null,
      "align_items": null,
      "align_self": null,
      "border": null,
      "bottom": null,
      "display": null,
      "flex": null,
      "flex_flow": null,
      "grid_area": null,
      "grid_auto_columns": null,
      "grid_auto_flow": null,
      "grid_auto_rows": null,
      "grid_column": null,
      "grid_gap": null,
      "grid_row": null,
      "grid_template_areas": null,
      "grid_template_columns": null,
      "grid_template_rows": null,
      "height": null,
      "justify_content": null,
      "justify_items": null,
      "left": null,
      "margin": null,
      "max_height": null,
      "max_width": null,
      "min_height": null,
      "min_width": null,
      "object_fit": null,
      "object_position": null,
      "order": null,
      "overflow": null,
      "overflow_x": null,
      "overflow_y": null,
      "padding": null,
      "right": null,
      "top": null,
      "visibility": null,
      "width": null
     }
    },
    "b3f86565c7274c78905be8dff12317ae": {
     "model_module": "@jupyter-widgets/controls",
     "model_module_version": "1.5.0",
     "model_name": "DescriptionStyleModel",
     "state": {
      "_model_module": "@jupyter-widgets/controls",
      "_model_module_version": "1.5.0",
      "_model_name": "DescriptionStyleModel",
      "_view_count": null,
      "_view_module": "@jupyter-widgets/base",
      "_view_module_version": "1.2.0",
      "_view_name": "StyleView",
      "description_width": ""
     }
    },
    "b4bab52a38ea4d098a92e5c8917c2f3c": {
     "model_module": "@jupyter-widgets/controls",
     "model_module_version": "1.5.0",
     "model_name": "HTMLModel",
     "state": {
      "_dom_classes": [],
      "_model_module": "@jupyter-widgets/controls",
      "_model_module_version": "1.5.0",
      "_model_name": "HTMLModel",
      "_view_count": null,
      "_view_module": "@jupyter-widgets/controls",
      "_view_module_version": "1.5.0",
      "_view_name": "HTMLView",
      "description": "",
      "description_tooltip": null,
      "layout": "IPY_MODEL_fc5c8edb9f3b4ee8ad0ebb5e498fb5cb",
      "placeholder": "​",
      "style": "IPY_MODEL_6df4dff1d3f84f26ade36329c47a4930",
      "value": " 4358/4358 [00:00&lt;00:00, 5916.09 examples/s]"
     }
    },
    "b68b13e35fea4658afd5e096d28bd0a3": {
     "model_module": "@jupyter-widgets/base",
     "model_module_version": "1.2.0",
     "model_name": "LayoutModel",
     "state": {
      "_model_module": "@jupyter-widgets/base",
      "_model_module_version": "1.2.0",
      "_model_name": "LayoutModel",
      "_view_count": null,
      "_view_module": "@jupyter-widgets/base",
      "_view_module_version": "1.2.0",
      "_view_name": "LayoutView",
      "align_content": null,
      "align_items": null,
      "align_self": null,
      "border": null,
      "bottom": null,
      "display": null,
      "flex": null,
      "flex_flow": null,
      "grid_area": null,
      "grid_auto_columns": null,
      "grid_auto_flow": null,
      "grid_auto_rows": null,
      "grid_column": null,
      "grid_gap": null,
      "grid_row": null,
      "grid_template_areas": null,
      "grid_template_columns": null,
      "grid_template_rows": null,
      "height": null,
      "justify_content": null,
      "justify_items": null,
      "left": null,
      "margin": null,
      "max_height": null,
      "max_width": null,
      "min_height": null,
      "min_width": null,
      "object_fit": null,
      "object_position": null,
      "order": null,
      "overflow": null,
      "overflow_x": null,
      "overflow_y": null,
      "padding": null,
      "right": null,
      "top": null,
      "visibility": null,
      "width": null
     }
    },
    "b69fea95af254ad98a715c818fc1441d": {
     "model_module": "@jupyter-widgets/controls",
     "model_module_version": "1.5.0",
     "model_name": "FloatProgressModel",
     "state": {
      "_dom_classes": [],
      "_model_module": "@jupyter-widgets/controls",
      "_model_module_version": "1.5.0",
      "_model_name": "FloatProgressModel",
      "_view_count": null,
      "_view_module": "@jupyter-widgets/controls",
      "_view_module_version": "1.5.0",
      "_view_name": "ProgressView",
      "bar_style": "success",
      "description": "",
      "description_tooltip": null,
      "layout": "IPY_MODEL_2e1c18bcb8454832863b9fb9a0d85616",
      "max": 657209,
      "min": 0,
      "orientation": "horizontal",
      "style": "IPY_MODEL_25eaadf88ce341eb9b39113253339211",
      "value": 657209
     }
    },
    "c031371157b34ed7a185138e7da7dd3b": {
     "model_module": "@jupyter-widgets/controls",
     "model_module_version": "1.5.0",
     "model_name": "HBoxModel",
     "state": {
      "_dom_classes": [],
      "_model_module": "@jupyter-widgets/controls",
      "_model_module_version": "1.5.0",
      "_model_name": "HBoxModel",
      "_view_count": null,
      "_view_module": "@jupyter-widgets/controls",
      "_view_module_version": "1.5.0",
      "_view_name": "HBoxView",
      "box_style": "",
      "children": [
       "IPY_MODEL_3d0ef4da4e83491a8cca395bfc250cbe",
       "IPY_MODEL_766155723bc94868894682d8c308ca71",
       "IPY_MODEL_0663252671264c4083c2462e81de8019"
      ],
      "layout": "IPY_MODEL_8130c5d95cc24c8282f71948a98e00a8"
     }
    },
    "c0edba481b114eac8fb12fa1749c4fbe": {
     "model_module": "@jupyter-widgets/base",
     "model_module_version": "1.2.0",
     "model_name": "LayoutModel",
     "state": {
      "_model_module": "@jupyter-widgets/base",
      "_model_module_version": "1.2.0",
      "_model_name": "LayoutModel",
      "_view_count": null,
      "_view_module": "@jupyter-widgets/base",
      "_view_module_version": "1.2.0",
      "_view_name": "LayoutView",
      "align_content": null,
      "align_items": null,
      "align_self": null,
      "border": null,
      "bottom": null,
      "display": null,
      "flex": null,
      "flex_flow": null,
      "grid_area": null,
      "grid_auto_columns": null,
      "grid_auto_flow": null,
      "grid_auto_rows": null,
      "grid_column": null,
      "grid_gap": null,
      "grid_row": null,
      "grid_template_areas": null,
      "grid_template_columns": null,
      "grid_template_rows": null,
      "height": null,
      "justify_content": null,
      "justify_items": null,
      "left": null,
      "margin": null,
      "max_height": null,
      "max_width": null,
      "min_height": null,
      "min_width": null,
      "object_fit": null,
      "object_position": null,
      "order": null,
      "overflow": null,
      "overflow_x": null,
      "overflow_y": null,
      "padding": null,
      "right": null,
      "top": null,
      "visibility": null,
      "width": null
     }
    },
    "c48284d844cd4697a27c6ef14716157f": {
     "model_module": "@jupyter-widgets/controls",
     "model_module_version": "1.5.0",
     "model_name": "HTMLModel",
     "state": {
      "_dom_classes": [],
      "_model_module": "@jupyter-widgets/controls",
      "_model_module_version": "1.5.0",
      "_model_name": "HTMLModel",
      "_view_count": null,
      "_view_module": "@jupyter-widgets/controls",
      "_view_module_version": "1.5.0",
      "_view_name": "HTMLView",
      "description": "",
      "description_tooltip": null,
      "layout": "IPY_MODEL_2acad260e7e34f63a6acb415d678498e",
      "placeholder": "​",
      "style": "IPY_MODEL_84b46f6152a8476d884480e7f811baa0",
      "value": "README.md: 100%"
     }
    },
    "d2852bbadb7243bdb23fc5d695665e96": {
     "model_module": "@jupyter-widgets/base",
     "model_module_version": "1.2.0",
     "model_name": "LayoutModel",
     "state": {
      "_model_module": "@jupyter-widgets/base",
      "_model_module_version": "1.2.0",
      "_model_name": "LayoutModel",
      "_view_count": null,
      "_view_module": "@jupyter-widgets/base",
      "_view_module_version": "1.2.0",
      "_view_name": "LayoutView",
      "align_content": null,
      "align_items": null,
      "align_self": null,
      "border": null,
      "bottom": null,
      "display": null,
      "flex": null,
      "flex_flow": null,
      "grid_area": null,
      "grid_auto_columns": null,
      "grid_auto_flow": null,
      "grid_auto_rows": null,
      "grid_column": null,
      "grid_gap": null,
      "grid_row": null,
      "grid_template_areas": null,
      "grid_template_columns": null,
      "grid_template_rows": null,
      "height": null,
      "justify_content": null,
      "justify_items": null,
      "left": null,
      "margin": null,
      "max_height": null,
      "max_width": null,
      "min_height": null,
      "min_width": null,
      "object_fit": null,
      "object_position": null,
      "order": null,
      "overflow": null,
      "overflow_x": null,
      "overflow_y": null,
      "padding": null,
      "right": null,
      "top": null,
      "visibility": null,
      "width": null
     }
    },
    "e230961ede8b4179adf21373c25103c6": {
     "model_module": "@jupyter-widgets/base",
     "model_module_version": "1.2.0",
     "model_name": "LayoutModel",
     "state": {
      "_model_module": "@jupyter-widgets/base",
      "_model_module_version": "1.2.0",
      "_model_name": "LayoutModel",
      "_view_count": null,
      "_view_module": "@jupyter-widgets/base",
      "_view_module_version": "1.2.0",
      "_view_name": "LayoutView",
      "align_content": null,
      "align_items": null,
      "align_self": null,
      "border": null,
      "bottom": null,
      "display": null,
      "flex": null,
      "flex_flow": null,
      "grid_area": null,
      "grid_auto_columns": null,
      "grid_auto_flow": null,
      "grid_auto_rows": null,
      "grid_column": null,
      "grid_gap": null,
      "grid_row": null,
      "grid_template_areas": null,
      "grid_template_columns": null,
      "grid_template_rows": null,
      "height": null,
      "justify_content": null,
      "justify_items": null,
      "left": null,
      "margin": null,
      "max_height": null,
      "max_width": null,
      "min_height": null,
      "min_width": null,
      "object_fit": null,
      "object_position": null,
      "order": null,
      "overflow": null,
      "overflow_x": null,
      "overflow_y": null,
      "padding": null,
      "right": null,
      "top": null,
      "visibility": null,
      "width": null
     }
    },
    "e34d924427df427b9774ede0e1e109a4": {
     "model_module": "@jupyter-widgets/controls",
     "model_module_version": "1.5.0",
     "model_name": "HTMLModel",
     "state": {
      "_dom_classes": [],
      "_model_module": "@jupyter-widgets/controls",
      "_model_module_version": "1.5.0",
      "_model_name": "HTMLModel",
      "_view_count": null,
      "_view_module": "@jupyter-widgets/controls",
      "_view_module_version": "1.5.0",
      "_view_name": "HTMLView",
      "description": "",
      "description_tooltip": null,
      "layout": "IPY_MODEL_43b3d1e2750c4928a4dde774823bb2d9",
      "placeholder": "​",
      "style": "IPY_MODEL_4b747316b05346a29ba018ee0cc5b9fd",
      "value": " 6.36M/6.36M [00:00&lt;00:00, 38.3MB/s]"
     }
    },
    "e40010a6a71c4f7da7d29a2234b69c3f": {
     "model_module": "@jupyter-widgets/base",
     "model_module_version": "1.2.0",
     "model_name": "LayoutModel",
     "state": {
      "_model_module": "@jupyter-widgets/base",
      "_model_module_version": "1.2.0",
      "_model_name": "LayoutModel",
      "_view_count": null,
      "_view_module": "@jupyter-widgets/base",
      "_view_module_version": "1.2.0",
      "_view_name": "LayoutView",
      "align_content": null,
      "align_items": null,
      "align_self": null,
      "border": null,
      "bottom": null,
      "display": null,
      "flex": null,
      "flex_flow": null,
      "grid_area": null,
      "grid_auto_columns": null,
      "grid_auto_flow": null,
      "grid_auto_rows": null,
      "grid_column": null,
      "grid_gap": null,
      "grid_row": null,
      "grid_template_areas": null,
      "grid_template_columns": null,
      "grid_template_rows": null,
      "height": null,
      "justify_content": null,
      "justify_items": null,
      "left": null,
      "margin": null,
      "max_height": null,
      "max_width": null,
      "min_height": null,
      "min_width": null,
      "object_fit": null,
      "object_position": null,
      "order": null,
      "overflow": null,
      "overflow_x": null,
      "overflow_y": null,
      "padding": null,
      "right": null,
      "top": null,
      "visibility": null,
      "width": null
     }
    },
    "e5c5b6e4d2dd474b8f0dc703051d29f1": {
     "model_module": "@jupyter-widgets/controls",
     "model_module_version": "1.5.0",
     "model_name": "ProgressStyleModel",
     "state": {
      "_model_module": "@jupyter-widgets/controls",
      "_model_module_version": "1.5.0",
      "_model_name": "ProgressStyleModel",
      "_view_count": null,
      "_view_module": "@jupyter-widgets/base",
      "_view_module_version": "1.2.0",
      "_view_name": "StyleView",
      "bar_color": null,
      "description_width": ""
     }
    },
    "ee6e1c20839543eda5ac492588b0935e": {
     "model_module": "@jupyter-widgets/controls",
     "model_module_version": "1.5.0",
     "model_name": "HTMLModel",
     "state": {
      "_dom_classes": [],
      "_model_module": "@jupyter-widgets/controls",
      "_model_module_version": "1.5.0",
      "_model_name": "HTMLModel",
      "_view_count": null,
      "_view_module": "@jupyter-widgets/controls",
      "_view_module_version": "1.5.0",
      "_view_name": "HTMLView",
      "description": "",
      "description_tooltip": null,
      "layout": "IPY_MODEL_67cab4db04ce4ff09c81b5c480856da4",
      "placeholder": "​",
      "style": "IPY_MODEL_f3505f9a4c254974b6360551a5e9d1b8",
      "value": "train-00000-of-00001.parquet: 100%"
     }
    },
    "f3494e43c2e14d1a8673c72207437ba6": {
     "model_module": "@jupyter-widgets/base",
     "model_module_version": "1.2.0",
     "model_name": "LayoutModel",
     "state": {
      "_model_module": "@jupyter-widgets/base",
      "_model_module_version": "1.2.0",
      "_model_name": "LayoutModel",
      "_view_count": null,
      "_view_module": "@jupyter-widgets/base",
      "_view_module_version": "1.2.0",
      "_view_name": "LayoutView",
      "align_content": null,
      "align_items": null,
      "align_self": null,
      "border": null,
      "bottom": null,
      "display": null,
      "flex": null,
      "flex_flow": null,
      "grid_area": null,
      "grid_auto_columns": null,
      "grid_auto_flow": null,
      "grid_auto_rows": null,
      "grid_column": null,
      "grid_gap": null,
      "grid_row": null,
      "grid_template_areas": null,
      "grid_template_columns": null,
      "grid_template_rows": null,
      "height": null,
      "justify_content": null,
      "justify_items": null,
      "left": null,
      "margin": null,
      "max_height": null,
      "max_width": null,
      "min_height": null,
      "min_width": null,
      "object_fit": null,
      "object_position": null,
      "order": null,
      "overflow": null,
      "overflow_x": null,
      "overflow_y": null,
      "padding": null,
      "right": null,
      "top": null,
      "visibility": null,
      "width": null
     }
    },
    "f3505f9a4c254974b6360551a5e9d1b8": {
     "model_module": "@jupyter-widgets/controls",
     "model_module_version": "1.5.0",
     "model_name": "DescriptionStyleModel",
     "state": {
      "_model_module": "@jupyter-widgets/controls",
      "_model_module_version": "1.5.0",
      "_model_name": "DescriptionStyleModel",
      "_view_count": null,
      "_view_module": "@jupyter-widgets/base",
      "_view_module_version": "1.2.0",
      "_view_name": "StyleView",
      "description_width": ""
     }
    },
    "f4072db21d1f488280d91272cbe9b933": {
     "model_module": "@jupyter-widgets/controls",
     "model_module_version": "1.5.0",
     "model_name": "ProgressStyleModel",
     "state": {
      "_model_module": "@jupyter-widgets/controls",
      "_model_module_version": "1.5.0",
      "_model_name": "ProgressStyleModel",
      "_view_count": null,
      "_view_module": "@jupyter-widgets/base",
      "_view_module_version": "1.2.0",
      "_view_name": "StyleView",
      "bar_color": null,
      "description_width": ""
     }
    },
    "f42d1c3333384e03994ecd94adca3cc1": {
     "model_module": "@jupyter-widgets/controls",
     "model_module_version": "1.5.0",
     "model_name": "FloatProgressModel",
     "state": {
      "_dom_classes": [],
      "_model_module": "@jupyter-widgets/controls",
      "_model_module_version": "1.5.0",
      "_model_name": "FloatProgressModel",
      "_view_count": null,
      "_view_module": "@jupyter-widgets/controls",
      "_view_module_version": "1.5.0",
      "_view_name": "ProgressView",
      "bar_style": "success",
      "description": "",
      "description_tooltip": null,
      "layout": "IPY_MODEL_54460740cf144413a71f943ecc4dda5f",
      "max": 3760,
      "min": 0,
      "orientation": "horizontal",
      "style": "IPY_MODEL_76f84566be4c41cf8ae9e47c992dab38",
      "value": 3760
     }
    },
    "fc5c8edb9f3b4ee8ad0ebb5e498fb5cb": {
     "model_module": "@jupyter-widgets/base",
     "model_module_version": "1.2.0",
     "model_name": "LayoutModel",
     "state": {
      "_model_module": "@jupyter-widgets/base",
      "_model_module_version": "1.2.0",
      "_model_name": "LayoutModel",
      "_view_count": null,
      "_view_module": "@jupyter-widgets/base",
      "_view_module_version": "1.2.0",
      "_view_name": "LayoutView",
      "align_content": null,
      "align_items": null,
      "align_self": null,
      "border": null,
      "bottom": null,
      "display": null,
      "flex": null,
      "flex_flow": null,
      "grid_area": null,
      "grid_auto_columns": null,
      "grid_auto_flow": null,
      "grid_auto_rows": null,
      "grid_column": null,
      "grid_gap": null,
      "grid_row": null,
      "grid_template_areas": null,
      "grid_template_columns": null,
      "grid_template_rows": null,
      "height": null,
      "justify_content": null,
      "justify_items": null,
      "left": null,
      "margin": null,
      "max_height": null,
      "max_width": null,
      "min_height": null,
      "min_width": null,
      "object_fit": null,
      "object_position": null,
      "order": null,
      "overflow": null,
      "overflow_x": null,
      "overflow_y": null,
      "padding": null,
      "right": null,
      "top": null,
      "visibility": null,
      "width": null
     }
    },
    "fdd1742f3794447caa4dcee37b841a2a": {
     "model_module": "@jupyter-widgets/controls",
     "model_module_version": "1.5.0",
     "model_name": "FloatProgressModel",
     "state": {
      "_dom_classes": [],
      "_model_module": "@jupyter-widgets/controls",
      "_model_module_version": "1.5.0",
      "_model_name": "FloatProgressModel",
      "_view_count": null,
      "_view_module": "@jupyter-widgets/controls",
      "_view_module_version": "1.5.0",
      "_view_name": "ProgressView",
      "bar_style": "success",
      "description": "",
      "description_tooltip": null,
      "layout": "IPY_MODEL_1650344c8912469981513990103cfad8",
      "max": 10464,
      "min": 0,
      "orientation": "horizontal",
      "style": "IPY_MODEL_8af8eabc8df647e99d0b78685c881353",
      "value": 10464
     }
    }
   }
  }
 },
 "nbformat": 4,
 "nbformat_minor": 4
}
